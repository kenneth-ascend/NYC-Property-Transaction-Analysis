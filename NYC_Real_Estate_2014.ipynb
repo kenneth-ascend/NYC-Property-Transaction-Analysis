{
 "metadata": {
  "name": "",
  "signature": "sha256:6944f273479a2e3d07856013eb9ce34f642cb8f119e91692ef081d684032b6c7"
 },
 "nbformat": 3,
 "nbformat_minor": 0,
 "worksheets": [
  {
   "cells": [
    {
     "cell_type": "heading",
     "level": 1,
     "metadata": {},
     "source": [
      "Basic"
     ]
    },
    {
     "cell_type": "code",
     "collapsed": false,
     "input": [
      "import lxml.html\n",
      "import urllib2\n",
      "import requests\n",
      "import urllib\n",
      "\n",
      "import datetime\n",
      "import os\n",
      "import xlrd\n",
      "import csv\n",
      "\n",
      "%matplotlib inline  \n",
      "import matplotlib.pyplot as plt\n",
      "\n",
      "import pandas as pd\n",
      "pd.set_option('display.mpl_style', 'default')"
     ],
     "language": "python",
     "metadata": {},
     "outputs": [],
     "prompt_number": 3
    },
    {
     "cell_type": "code",
     "collapsed": false,
     "input": [
      "r = requests.get(\"http://www.nyc.gov/html/dof/html/property/rolling_sales_data_annualized.shtml\")\n",
      "html = lxml.html.fromstring(r.text)\n",
      "links = html.xpath(\"(//a)[@target='_blank']\")\n",
      "\n",
      "download_links = []\n",
      "for ind, val in enumerate(links):\n",
      "    if '.xls' in str(val.get(\"href\")):\n",
      "        download_links.append(str(val.get(\"href\")))\n",
      "    else:\n",
      "        pass\n",
      "\n",
      "download_links = download_links[12:] "
     ],
     "language": "python",
     "metadata": {},
     "outputs": [],
     "prompt_number": 289
    },
    {
     "cell_type": "code",
     "collapsed": false,
     "input": [
      "r = requests.get(\"http://www.nyc.gov/html/dof/html/property/rolling_sales_data.shtml\")\n",
      "html = lxml.html.fromstring(r.text)\n",
      "\n",
      "links = html.xpath(\"(//a)[@target='_blank']\")\n",
      "\n",
      "download_links_2014 = []\n",
      "for ind, val in enumerate(links):\n",
      "    if 'xls' in str(val.get('href')):\n",
      "        download_links_2014.append(str(val.get('href')))\n",
      "    else:\n",
      "        pass\n",
      "\n",
      "for i in download_links:\n",
      "    download_links_2014.append(i)\n",
      "\n",
      "download_links = download_links_2014"
     ],
     "language": "python",
     "metadata": {},
     "outputs": [],
     "prompt_number": 295
    },
    {
     "cell_type": "code",
     "collapsed": false,
     "input": [
      "# fullfilename = os.path.join(loc, filename)\n",
      "loc "
     ],
     "language": "python",
     "metadata": {},
     "outputs": [
      {
       "metadata": {},
       "output_type": "pyout",
       "prompt_number": 310,
       "text": [
        "'/Users/krluna/python/twosigma/real_estate/2013_SI.xls'"
       ]
      }
     ],
     "prompt_number": 310
    },
    {
     "cell_type": "markdown",
     "metadata": {},
     "source": [
      "Select all links that pertain to documents containing annual rolling sales from 2002 to 2013 for all 5 boroughs.  There should be a total of 60 XLS/CSV documents."
     ]
    },
    {
     "cell_type": "code",
     "collapsed": false,
     "input": [
      "years = [2014, 2013, 2012, 2011, 2010, 2009, 2008, 2007, 2006, 2005, 2004, 2003]\n",
      "borough = ['Manhattan', 'Bronx', 'Brooklyn', 'Queens', 'Staten Island']\n",
      "loc = \"/Users/krluna/python/twosigma/real_estate/\"\n",
      "\n",
      "root_url = 'http://www.nyc.gov/html/dof'\n",
      "index = 0\n",
      "\n",
      "for year in years:\n",
      "    for name in borough:\n",
      "        fileName = str(year) + '_' + str(name) + '.xls'\n",
      "        fullfilename = os.path.join(loc, fileName)\n",
      "\n",
      "        addOn = download_links[index][5:].replace(\" \", \"%20\")\n",
      "        download_link = root_url + addOn\n",
      "        \n",
      "        urllib.urlretrieve(download_link, fullfilename) ## DOUBLE CHECK THIS \n",
      "        print \"downloading......%s\" % fileName\n",
      "        index += 1"
     ],
     "language": "python",
     "metadata": {},
     "outputs": [
      {
       "output_type": "stream",
       "stream": "stdout",
       "text": [
        "downloading......2014_Manhattan.xls\n",
        "downloading......2014_Bronx.xls"
       ]
      },
      {
       "output_type": "stream",
       "stream": "stdout",
       "text": [
        "\n",
        "downloading......2014_Brooklyn.xls"
       ]
      },
      {
       "output_type": "stream",
       "stream": "stdout",
       "text": [
        "\n",
        "downloading......2014_Queens.xls"
       ]
      },
      {
       "output_type": "stream",
       "stream": "stdout",
       "text": [
        "\n",
        "downloading......2014_Staten Island.xls"
       ]
      },
      {
       "output_type": "stream",
       "stream": "stdout",
       "text": [
        "\n",
        "downloading......2013_Manhattan.xls"
       ]
      },
      {
       "output_type": "stream",
       "stream": "stdout",
       "text": [
        "\n",
        "downloading......2013_Bronx.xls"
       ]
      },
      {
       "output_type": "stream",
       "stream": "stdout",
       "text": [
        "\n",
        "downloading......2013_Brooklyn.xls"
       ]
      },
      {
       "output_type": "stream",
       "stream": "stdout",
       "text": [
        "\n",
        "downloading......2013_Queens.xls"
       ]
      },
      {
       "output_type": "stream",
       "stream": "stdout",
       "text": [
        "\n",
        "downloading......2013_Staten Island.xls"
       ]
      },
      {
       "output_type": "stream",
       "stream": "stdout",
       "text": [
        "\n",
        "downloading......2012_Manhattan.xls"
       ]
      },
      {
       "output_type": "stream",
       "stream": "stdout",
       "text": [
        "\n",
        "downloading......2012_Bronx.xls"
       ]
      },
      {
       "output_type": "stream",
       "stream": "stdout",
       "text": [
        "\n",
        "downloading......2012_Brooklyn.xls"
       ]
      },
      {
       "output_type": "stream",
       "stream": "stdout",
       "text": [
        "\n",
        "downloading......2012_Queens.xls"
       ]
      },
      {
       "output_type": "stream",
       "stream": "stdout",
       "text": [
        "\n",
        "downloading......2012_Staten Island.xls"
       ]
      },
      {
       "output_type": "stream",
       "stream": "stdout",
       "text": [
        "\n",
        "downloading......2011_Manhattan.xls"
       ]
      },
      {
       "output_type": "stream",
       "stream": "stdout",
       "text": [
        "\n",
        "downloading......2011_Bronx.xls"
       ]
      },
      {
       "output_type": "stream",
       "stream": "stdout",
       "text": [
        "\n",
        "downloading......2011_Brooklyn.xls"
       ]
      },
      {
       "output_type": "stream",
       "stream": "stdout",
       "text": [
        "\n",
        "downloading......2011_Queens.xls"
       ]
      },
      {
       "output_type": "stream",
       "stream": "stdout",
       "text": [
        "\n",
        "downloading......2011_Staten Island.xls"
       ]
      },
      {
       "output_type": "stream",
       "stream": "stdout",
       "text": [
        "\n",
        "downloading......2010_Manhattan.xls"
       ]
      },
      {
       "output_type": "stream",
       "stream": "stdout",
       "text": [
        "\n",
        "downloading......2010_Bronx.xls"
       ]
      },
      {
       "output_type": "stream",
       "stream": "stdout",
       "text": [
        "\n",
        "downloading......2010_Brooklyn.xls"
       ]
      },
      {
       "output_type": "stream",
       "stream": "stdout",
       "text": [
        "\n",
        "downloading......2010_Queens.xls"
       ]
      },
      {
       "output_type": "stream",
       "stream": "stdout",
       "text": [
        "\n",
        "downloading......2010_Staten Island.xls"
       ]
      },
      {
       "output_type": "stream",
       "stream": "stdout",
       "text": [
        "\n",
        "downloading......2009_Manhattan.xls"
       ]
      },
      {
       "output_type": "stream",
       "stream": "stdout",
       "text": [
        "\n",
        "downloading......2009_Bronx.xls"
       ]
      },
      {
       "output_type": "stream",
       "stream": "stdout",
       "text": [
        "\n",
        "downloading......2009_Brooklyn.xls"
       ]
      },
      {
       "output_type": "stream",
       "stream": "stdout",
       "text": [
        "\n",
        "downloading......2009_Queens.xls"
       ]
      },
      {
       "output_type": "stream",
       "stream": "stdout",
       "text": [
        "\n",
        "downloading......2009_Staten Island.xls"
       ]
      },
      {
       "output_type": "stream",
       "stream": "stdout",
       "text": [
        "\n",
        "downloading......2008_Manhattan.xls"
       ]
      },
      {
       "output_type": "stream",
       "stream": "stdout",
       "text": [
        "\n",
        "downloading......2008_Bronx.xls"
       ]
      },
      {
       "output_type": "stream",
       "stream": "stdout",
       "text": [
        "\n",
        "downloading......2008_Brooklyn.xls"
       ]
      },
      {
       "output_type": "stream",
       "stream": "stdout",
       "text": [
        "\n",
        "downloading......2008_Queens.xls"
       ]
      },
      {
       "output_type": "stream",
       "stream": "stdout",
       "text": [
        "\n",
        "downloading......2008_Staten Island.xls"
       ]
      },
      {
       "output_type": "stream",
       "stream": "stdout",
       "text": [
        "\n",
        "downloading......2007_Manhattan.xls"
       ]
      },
      {
       "output_type": "stream",
       "stream": "stdout",
       "text": [
        "\n",
        "downloading......2007_Bronx.xls"
       ]
      },
      {
       "output_type": "stream",
       "stream": "stdout",
       "text": [
        "\n",
        "downloading......2007_Brooklyn.xls"
       ]
      },
      {
       "output_type": "stream",
       "stream": "stdout",
       "text": [
        "\n",
        "downloading......2007_Queens.xls"
       ]
      },
      {
       "output_type": "stream",
       "stream": "stdout",
       "text": [
        "\n",
        "downloading......2007_Staten Island.xls"
       ]
      },
      {
       "output_type": "stream",
       "stream": "stdout",
       "text": [
        "\n",
        "downloading......2006_Manhattan.xls"
       ]
      },
      {
       "output_type": "stream",
       "stream": "stdout",
       "text": [
        "\n",
        "downloading......2006_Bronx.xls"
       ]
      },
      {
       "output_type": "stream",
       "stream": "stdout",
       "text": [
        "\n",
        "downloading......2006_Brooklyn.xls"
       ]
      },
      {
       "output_type": "stream",
       "stream": "stdout",
       "text": [
        "\n",
        "downloading......2006_Queens.xls"
       ]
      },
      {
       "output_type": "stream",
       "stream": "stdout",
       "text": [
        "\n",
        "downloading......2006_Staten Island.xls"
       ]
      },
      {
       "output_type": "stream",
       "stream": "stdout",
       "text": [
        "\n",
        "downloading......2005_Manhattan.xls"
       ]
      },
      {
       "output_type": "stream",
       "stream": "stdout",
       "text": [
        "\n",
        "downloading......2005_Bronx.xls"
       ]
      },
      {
       "output_type": "stream",
       "stream": "stdout",
       "text": [
        "\n",
        "downloading......2005_Brooklyn.xls"
       ]
      },
      {
       "output_type": "stream",
       "stream": "stdout",
       "text": [
        "\n",
        "downloading......2005_Queens.xls"
       ]
      },
      {
       "output_type": "stream",
       "stream": "stdout",
       "text": [
        "\n",
        "downloading......2005_Staten Island.xls"
       ]
      },
      {
       "output_type": "stream",
       "stream": "stdout",
       "text": [
        "\n",
        "downloading......2004_Manhattan.xls"
       ]
      },
      {
       "output_type": "stream",
       "stream": "stdout",
       "text": [
        "\n",
        "downloading......2004_Bronx.xls"
       ]
      },
      {
       "output_type": "stream",
       "stream": "stdout",
       "text": [
        "\n",
        "downloading......2004_Brooklyn.xls"
       ]
      },
      {
       "output_type": "stream",
       "stream": "stdout",
       "text": [
        "\n",
        "downloading......2004_Queens.xls"
       ]
      },
      {
       "output_type": "stream",
       "stream": "stdout",
       "text": [
        "\n",
        "downloading......2004_Staten Island.xls"
       ]
      },
      {
       "output_type": "stream",
       "stream": "stdout",
       "text": [
        "\n",
        "downloading......2003_Manhattan.xls"
       ]
      },
      {
       "output_type": "stream",
       "stream": "stdout",
       "text": [
        "\n",
        "downloading......2003_Bronx.xls"
       ]
      },
      {
       "output_type": "stream",
       "stream": "stdout",
       "text": [
        "\n",
        "downloading......2003_Brooklyn.xls"
       ]
      },
      {
       "output_type": "stream",
       "stream": "stdout",
       "text": [
        "\n",
        "downloading......2003_Queens.xls"
       ]
      },
      {
       "output_type": "stream",
       "stream": "stdout",
       "text": [
        "\n",
        "downloading......2003_Staten Island.xls"
       ]
      },
      {
       "output_type": "stream",
       "stream": "stdout",
       "text": [
        "\n"
       ]
      }
     ],
     "prompt_number": 311
    },
    {
     "cell_type": "markdown",
     "metadata": {},
     "source": [
      "Download and name documents based on following structure."
     ]
    },
    {
     "cell_type": "code",
     "collapsed": false,
     "input": [
      "skip = {2003: 3,\n",
      "        2004: 3,\n",
      "        2005: 3,\n",
      "        2005: 3,\n",
      "        2006: 3,\n",
      "        2007: 3,\n",
      "        2008: 3,\n",
      "        2009: 3,\n",
      "        2010: 3,\n",
      "        2011: 4,\n",
      "        2012: 4,\n",
      "        2013: 4,\n",
      "        2014: 4}\n",
      "\n",
      "colNames = ['borough', 'neighborhood', 'building_class_category', 'tax_class_at_present', 'block', 'lot', 'ease-ment',\\\n",
      "            'building_class_at_present', 'address', 'apartment_number', 'zip_code', 'residential_units', 'commercial_units', \\\n",
      "            'total_units', 'land_square_feet', 'gross_square_feet', 'year_built', 'tax_class_at_time_of_sale', \\\n",
      "            'building_class_at_time_of_sale', 'sale_price', 'sale_date']\n",
      " \n",
      "def xldate_to_datetime(xldate):\n",
      "    temp = datetime.datetime(1900, 1, 1)\n",
      "    delta = datetime.timedelta(days = xldate)\n",
      "    return temp + delta - datetime.timedelta(days = 2)"
     ],
     "language": "python",
     "metadata": {},
     "outputs": [],
     "prompt_number": 312
    },
    {
     "cell_type": "markdown",
     "metadata": {},
     "source": [
      "Skip is used to skip a certain number of rows for reach xls/csv document.  They differ depending on docs for specific year.\n",
      "\n",
      "colNames rename columns.  xl_date_to_datetime converts date columns from Excel DataValue to np.datetime.  "
     ]
    },
    {
     "cell_type": "code",
     "collapsed": false,
     "input": [
      "tables = {}\n",
      "total_records = 0 \n",
      "\n",
      "for i in os.listdir(\"/Users/krluna/python/twosigma/real_estate/\"):\n",
      "    \n",
      "    try:\n",
      "        loc = \"/Users/krluna/python/twosigma/real_estate/\" + i\n",
      "        xls = pd.read_excel(loc, 0, skiprows = skip[int(i[0:4])], names = colNames)\n",
      "        tables[str(i[:-4])] = xls\n",
      "        print str(i) + \" files has \" + str(skip[int(i[0:4])]) + \" rows to skip\"  \n",
      "        total_records = total_records + len(tables[str(i[:-4])])\n",
      "    \n",
      "    except:\n",
      "        \n",
      "        wb = xlrd.open_workbook(\"/Users/krluna/python/twosigma/real_estate/\" + i)\n",
      "        sh = wb.sheet_by_name(wb.sheet_names()[0])\n",
      "        new_csv = \"/Users/krluna/python/twosigma/real_estate/\" + i[:-4] + '.csv'\n",
      "        your_csv_file = open(new_csv, 'wb')\n",
      "        wr = csv.writer(your_csv_file, quoting=csv.QUOTE_ALL)\n",
      "\n",
      "        for rownum in xrange(sh.nrows):\n",
      "                wr.writerow(sh.row_values(rownum))\n",
      "\n",
      "        your_csv_file.close()\n",
      "\n",
      "        table = pd.read_csv(new_csv, skiprows = skip[int(i[0:4])])\n",
      "        table['SALE DATE\\n'] = table['SALE DATE\\n'].apply(xldate_to_datetime) #convert from excel date value to date time \n",
      "        table.columns = colNames\n",
      "        tables[str(i[:-4])] = table\n",
      "        print str(i) + \" files has \" + str(skip[int(i[0:4])]) + \" rows to skip and Exception().\" \n",
      "        total_records = total_records + len(tables[str(i[:-4])])\n",
      "        \n",
      "print total_records"
     ],
     "language": "python",
     "metadata": {},
     "outputs": [
      {
       "output_type": "stream",
       "stream": "stdout",
       "text": [
        "2003_Bronx.xls files has 3 rows to skip\n",
        "2003_Brooklyn.xls files has 3 rows to skip"
       ]
      },
      {
       "output_type": "stream",
       "stream": "stdout",
       "text": [
        "\n",
        "2003_Manhattan.xls files has 3 rows to skip"
       ]
      },
      {
       "output_type": "stream",
       "stream": "stdout",
       "text": [
        "\n",
        "2003_Queens.xls files has 3 rows to skip"
       ]
      },
      {
       "output_type": "stream",
       "stream": "stdout",
       "text": [
        "\n",
        "2003_Staten Island.xls files has 3 rows to skip"
       ]
      },
      {
       "output_type": "stream",
       "stream": "stdout",
       "text": [
        "\n",
        "2004_Bronx.xls files has 3 rows to skip"
       ]
      },
      {
       "output_type": "stream",
       "stream": "stdout",
       "text": [
        "\n",
        "2004_Brooklyn.xls files has 3 rows to skip"
       ]
      },
      {
       "output_type": "stream",
       "stream": "stdout",
       "text": [
        "\n",
        "2004_Manhattan.xls files has 3 rows to skip"
       ]
      },
      {
       "output_type": "stream",
       "stream": "stdout",
       "text": [
        "\n",
        "2004_Queens.xls files has 3 rows to skip"
       ]
      },
      {
       "output_type": "stream",
       "stream": "stdout",
       "text": [
        "\n",
        "2004_Staten Island.xls files has 3 rows to skip"
       ]
      },
      {
       "output_type": "stream",
       "stream": "stdout",
       "text": [
        "\n",
        "2005_Bronx.xls files has 3 rows to skip"
       ]
      },
      {
       "output_type": "stream",
       "stream": "stdout",
       "text": [
        "\n",
        "2005_Brooklyn.xls files has 3 rows to skip"
       ]
      },
      {
       "output_type": "stream",
       "stream": "stdout",
       "text": [
        "\n",
        "2005_Manhattan.xls files has 3 rows to skip"
       ]
      },
      {
       "output_type": "stream",
       "stream": "stdout",
       "text": [
        "\n",
        "2005_Queens.xls files has 3 rows to skip"
       ]
      },
      {
       "output_type": "stream",
       "stream": "stdout",
       "text": [
        "\n",
        "2005_Staten Island.xls files has 3 rows to skip"
       ]
      },
      {
       "output_type": "stream",
       "stream": "stdout",
       "text": [
        "\n",
        "2006_Bronx.xls files has 3 rows to skip"
       ]
      },
      {
       "output_type": "stream",
       "stream": "stdout",
       "text": [
        "\n",
        "2006_Brooklyn.xls files has 3 rows to skip"
       ]
      },
      {
       "output_type": "stream",
       "stream": "stdout",
       "text": [
        "\n",
        "2006_Manhattan.xls files has 3 rows to skip"
       ]
      },
      {
       "output_type": "stream",
       "stream": "stdout",
       "text": [
        "\n",
        "2006_Queens.xls files has 3 rows to skip"
       ]
      },
      {
       "output_type": "stream",
       "stream": "stdout",
       "text": [
        "\n",
        "2006_Staten Island.xls files has 3 rows to skip"
       ]
      },
      {
       "output_type": "stream",
       "stream": "stdout",
       "text": [
        "\n",
        "2007_Bronx.xls files has 3 rows to skip"
       ]
      },
      {
       "output_type": "stream",
       "stream": "stdout",
       "text": [
        "\n",
        "2007_Brooklyn.xls files has 3 rows to skip"
       ]
      },
      {
       "output_type": "stream",
       "stream": "stdout",
       "text": [
        "\n",
        "2007_Manhattan.xls files has 3 rows to skip"
       ]
      },
      {
       "output_type": "stream",
       "stream": "stdout",
       "text": [
        "\n",
        "2007_Queens.xls files has 3 rows to skip"
       ]
      },
      {
       "output_type": "stream",
       "stream": "stdout",
       "text": [
        "\n",
        "2007_Staten Island.xls files has 3 rows to skip"
       ]
      },
      {
       "output_type": "stream",
       "stream": "stdout",
       "text": [
        "\n",
        "2008_Bronx.xls files has 3 rows to skip"
       ]
      },
      {
       "output_type": "stream",
       "stream": "stdout",
       "text": [
        "\n",
        "2008_Brooklyn.xls files has 3 rows to skip"
       ]
      },
      {
       "output_type": "stream",
       "stream": "stdout",
       "text": [
        "\n",
        "2008_Manhattan.xls files has 3 rows to skip"
       ]
      },
      {
       "output_type": "stream",
       "stream": "stdout",
       "text": [
        "\n",
        "2008_Queens.xls files has 3 rows to skip"
       ]
      },
      {
       "output_type": "stream",
       "stream": "stdout",
       "text": [
        "\n",
        "2008_Staten Island.xls files has 3 rows to skip"
       ]
      },
      {
       "output_type": "stream",
       "stream": "stdout",
       "text": [
        "\n",
        "2009_Bronx.xls files has 3 rows to skip"
       ]
      },
      {
       "output_type": "stream",
       "stream": "stdout",
       "text": [
        "\n",
        "2009_Brooklyn.xls files has 3 rows to skip"
       ]
      },
      {
       "output_type": "stream",
       "stream": "stdout",
       "text": [
        "\n",
        "2009_Manhattan.xls files has 3 rows to skip"
       ]
      },
      {
       "output_type": "stream",
       "stream": "stdout",
       "text": [
        "\n",
        "2009_Queens.xls files has 3 rows to skip"
       ]
      },
      {
       "output_type": "stream",
       "stream": "stdout",
       "text": [
        "\n",
        "2009_Staten Island.xls files has 3 rows to skip"
       ]
      },
      {
       "output_type": "stream",
       "stream": "stdout",
       "text": [
        "\n",
        "2010_Bronx.xls files has 3 rows to skip"
       ]
      },
      {
       "output_type": "stream",
       "stream": "stdout",
       "text": [
        "\n",
        "2010_Brooklyn.xls files has 3 rows to skip"
       ]
      },
      {
       "output_type": "stream",
       "stream": "stdout",
       "text": [
        "\n",
        "2010_Manhattan.xls files has 3 rows to skip"
       ]
      },
      {
       "output_type": "stream",
       "stream": "stdout",
       "text": [
        "\n",
        "2010_Queens.xls files has 3 rows to skip"
       ]
      },
      {
       "output_type": "stream",
       "stream": "stdout",
       "text": [
        "\n",
        "2010_Staten Island.xls files has 3 rows to skip"
       ]
      },
      {
       "output_type": "stream",
       "stream": "stdout",
       "text": [
        "\n",
        "2011_Bronx.xls files has 4 rows to skip"
       ]
      },
      {
       "output_type": "stream",
       "stream": "stdout",
       "text": [
        "\n",
        "2011_Brooklyn.xls files has 4 rows to skip"
       ]
      },
      {
       "output_type": "stream",
       "stream": "stdout",
       "text": [
        "\n",
        "2011_Manhattan.xls files has 4 rows to skip"
       ]
      },
      {
       "output_type": "stream",
       "stream": "stdout",
       "text": [
        "\n",
        "2011_Queens.xls files has 4 rows to skip"
       ]
      },
      {
       "output_type": "stream",
       "stream": "stdout",
       "text": [
        "\n",
        "2011_Staten Island.xls files has 4 rows to skip"
       ]
      },
      {
       "output_type": "stream",
       "stream": "stdout",
       "text": [
        "\n",
        "2012_Bronx.xls files has 4 rows to skip"
       ]
      },
      {
       "output_type": "stream",
       "stream": "stdout",
       "text": [
        "\n",
        "2012_Brooklyn.xls files has 4 rows to skip and Exception()."
       ]
      },
      {
       "output_type": "stream",
       "stream": "stdout",
       "text": [
        "\n",
        "2012_Manhattan.xls files has 4 rows to skip and Exception()."
       ]
      },
      {
       "output_type": "stream",
       "stream": "stdout",
       "text": [
        "\n",
        "2012_Queens.xls files has 4 rows to skip and Exception()."
       ]
      },
      {
       "output_type": "stream",
       "stream": "stdout",
       "text": [
        "\n",
        "2012_Staten Island.xls files has 4 rows to skip"
       ]
      },
      {
       "output_type": "stream",
       "stream": "stdout",
       "text": [
        "\n",
        "2013_Bronx.xls files has 4 rows to skip"
       ]
      },
      {
       "output_type": "stream",
       "stream": "stdout",
       "text": [
        "\n",
        "2013_Brooklyn.xls files has 4 rows to skip and Exception()."
       ]
      },
      {
       "output_type": "stream",
       "stream": "stdout",
       "text": [
        "\n",
        "2013_Manhattan.xls files has 4 rows to skip and Exception()."
       ]
      },
      {
       "output_type": "stream",
       "stream": "stdout",
       "text": [
        "\n",
        "2013_Queens.xls files has 4 rows to skip and Exception()."
       ]
      },
      {
       "output_type": "stream",
       "stream": "stdout",
       "text": [
        "\n",
        "2013_Staten Island.xls files has 4 rows to skip"
       ]
      },
      {
       "output_type": "stream",
       "stream": "stdout",
       "text": [
        "\n",
        "2014_Bronx.xls files has 4 rows to skip"
       ]
      },
      {
       "output_type": "stream",
       "stream": "stdout",
       "text": [
        "\n",
        "2014_Brooklyn.xls files has 4 rows to skip"
       ]
      },
      {
       "output_type": "stream",
       "stream": "stdout",
       "text": [
        "\n",
        "2014_Manhattan.xls files has 4 rows to skip"
       ]
      },
      {
       "output_type": "stream",
       "stream": "stdout",
       "text": [
        "\n",
        "2014_Queens.xls files has 4 rows to skip"
       ]
      },
      {
       "output_type": "stream",
       "stream": "stdout",
       "text": [
        "\n",
        "2014_Staten Island.xls files has 4 rows to skip"
       ]
      },
      {
       "output_type": "stream",
       "stream": "stdout",
       "text": [
        "\n",
        "1153545\n"
       ]
      }
     ],
     "prompt_number": 315
    },
    {
     "cell_type": "markdown",
     "metadata": {},
     "source": [
      "Open each document, saved data into dataframe and then saved object into dictionary named 'tables'.  Some XLS documents have Excel DateValue format for sale_date column therefore we manually transfer xls data into csv and then read that csv document into Pandas dataframe.  The documents that were problematic were Brooklyn, Manhattan, and Queens for years 2012 and 2013."
     ]
    },
    {
     "cell_type": "code",
     "collapsed": false,
     "input": [
      "df = tables['2003_Bronx']\n",
      "\n",
      "for i in tables.keys():\n",
      "    if i != '2003_Bronx':\n",
      "        df = pd.concat([df, tables[i]])\n",
      "    else:\n",
      "        pass     \n",
      "\n",
      "df = df.drop_duplicates()\n",
      "\n",
      "df1 = df.set_index('sale_date', drop = False)\n",
      "df1['unit_count'] = 1\n",
      "\n",
      "##Remove space characters in each of the following attributes\n",
      "\n",
      "neighborhood_names = [str(i).strip() for i in df1['neighborhood']]\n",
      "df1['neighborhood'] = neighborhood_names\n",
      "\n",
      "address_names = [str(i).strip() for i in df1['address']]\n",
      "df1['address'] = address_names\n",
      "\n",
      "apartment_numbers = [str(i).strip() for i in df1['apartment_number']]\n",
      "df1['apartment_number'] = apartment_numbers\n",
      "\n",
      "building_class = [str(i).strip() for i in df1['building_class_category']]\n",
      "df1['building_class_category'] = building_class"
     ],
     "language": "python",
     "metadata": {},
     "outputs": [],
     "prompt_number": 517
    },
    {
     "cell_type": "markdown",
     "metadata": {},
     "source": [
      "Concatenated all values in dictionary 'tables' into one single dataframe containing all real estate transactions from 2002 to 2013."
     ]
    },
    {
     "cell_type": "heading",
     "level": 3,
     "metadata": {},
     "source": [
      "What months are most active for property sales? "
     ]
    },
    {
     "cell_type": "markdown",
     "metadata": {},
     "source": [
      "We will define 'most active' by volume of sales.  To measure activity per month, we will take the average volume per month from years 2003 to 2014"
     ]
    },
    {
     "cell_type": "code",
     "collapsed": false,
     "input": [
      "bor = ['Manhattan', 'Bronx', 'Brooklyn', 'Queens', 'Staten Island']\n",
      "mon = ['January', 'February', 'March', 'April', 'May', 'June', 'July', 'August', 'September', 'October', 'November', 'December']\n",
      "\n",
      "grouped_month = df1.groupby(lambda x: x.month)['unit_count']"
     ],
     "language": "python",
     "metadata": {},
     "outputs": [],
     "prompt_number": 518
    },
    {
     "cell_type": "code",
     "collapsed": false,
     "input": [
      "agg_sales = pd.DataFrame({'NYC_Total_Property_Sales': grouped_month.count(), \n",
      "              'NYC_Avg_Property_Sales': grouped_month.count()/12\n",
      "              }).astype(int)\n",
      "\n",
      "agg_sales.index = mon\n",
      "\n",
      "\n",
      "agg_sales['NYC_Avg_Property_Sales'].plot(kind = 'bar', color = 'lightseagreen', figsize= (12,6), alpha = .65)\n",
      "plt.title(\"Average Sales per Month \\n(All Property Types)\\n\")\n",
      "plt.ylabel('Avg. Volume per Month')"
     ],
     "language": "python",
     "metadata": {},
     "outputs": [
      {
       "metadata": {},
       "output_type": "pyout",
       "prompt_number": 519,
       "text": [
        "<matplotlib.text.Text at 0x2093d4490>"
       ]
      },
      {
       "metadata": {},
       "output_type": "display_data",
       "png": "[encoded data removed]",
       "text": [
        "<matplotlib.figure.Figure at 0x132ce9450>"
       ]
      }
     ],
     "prompt_number": 519
    },
    {
     "cell_type": "markdown",
     "metadata": {},
     "source": [
      "The most active month for property sales is June, averaging over 9,000 unit sales per month in the last eleven years.  August and December averaged around 8,700 unit sales per month."
     ]
    },
    {
     "cell_type": "heading",
     "level": 3,
     "metadata": {},
     "source": [
      "Does this vary by Borough?"
     ]
    },
    {
     "cell_type": "code",
     "collapsed": false,
     "input": [
      "def mean_b(num):\n",
      "    return num.count() / 12\n",
      "\n",
      "funcs = [('Average', mean_b)]\n",
      "grouped_MB = df1.groupby([(lambda x: x.month), 'borough'])['unit_count']"
     ],
     "language": "python",
     "metadata": {},
     "outputs": [],
     "prompt_number": 520
    },
    {
     "cell_type": "code",
     "collapsed": false,
     "input": [
      "agg_sales_boro = grouped_MB.agg(funcs).unstack()"
     ],
     "language": "python",
     "metadata": {},
     "outputs": [],
     "prompt_number": 521
    },
    {
     "cell_type": "code",
     "collapsed": false,
     "input": [
      "agg_sales_boro.index.name = 'month'\n",
      "\n",
      "agg_sales_boro.rename(columns = {1: 'Manhattan',\n",
      "                                 2: 'Bronx',\n",
      "                                 3: 'Brooklyn',\n",
      "                                 4: 'Queens',\n",
      "                                 5: 'Staten Island'}, inplace = True)\n",
      "\n",
      "cc = agg_sales_boro.columns[0]\n",
      "agg_sales_boro[cc]\n",
      "\n",
      "fig, ax = plt.subplots(5, 1, sharex = True, sharey = True, figsize = (14,14))\n",
      "fig.subplots_adjust(hspace=.5)\n",
      "[ax[i].bar(agg_sales_boro.index, agg_sales_boro[agg_sales_boro.columns[i]], alpha = .65, color = 'lightseagreen') for i in range(5)]\n",
      "[ax[i].set_title(bor[i], fontsize = 12.0) for i in range(5)]\n",
      "[ax[i].set_ylabel('Avg. Volume \\nper Month', fontsize = 12.0) for i in range(5)]\n",
      "plt.xlim(1,12)\n",
      "[ax[i].axvline(x=6.4, ymin=0, ymax=2500, linewidth=2, linestyle='--', color = 'r') for i in range(5)]"
     ],
     "language": "python",
     "metadata": {},
     "outputs": [
      {
       "metadata": {},
       "output_type": "pyout",
       "prompt_number": 522,
       "text": [
        "[<matplotlib.lines.Line2D at 0x12999e290>,\n",
        " <matplotlib.lines.Line2D at 0x2098cffd0>,\n",
        " <matplotlib.lines.Line2D at 0x2098dd990>,\n",
        " <matplotlib.lines.Line2D at 0x2098ea310>,\n",
        " <matplotlib.lines.Line2D at 0x2098eac50>]"
       ]
      },
      {
       "metadata": {},
       "output_type": "display_data",
       "png": "[encoded data removed]",
       "text": [
        "<matplotlib.figure.Figure at 0x209452490>"
       ]
      }
     ],
     "prompt_number": 522
    },
    {
     "cell_type": "code",
     "collapsed": false,
     "input": [
      "agg_sales_boro.idxmax()"
     ],
     "language": "python",
     "metadata": {},
     "outputs": [
      {
       "metadata": {},
       "output_type": "pyout",
       "prompt_number": 523,
       "text": [
        "         borough      \n",
        "Average  Manhattan        6\n",
        "         Bronx            6\n",
        "         Brooklyn         6\n",
        "         Queens           6\n",
        "         Staten Island    6\n",
        "dtype: int64"
       ]
      }
     ],
     "prompt_number": 523
    },
    {
     "cell_type": "markdown",
     "metadata": {},
     "source": [
      "Property sales per month does not vary by borough.  Sales were highest in June for all 5 boroughs.  The highest selling borough in terms of volumne is Queens.  This is likely driven by the size the market instead of it being more attractive versus Manhattan and NYC.  "
     ]
    },
    {
     "cell_type": "heading",
     "level": 3,
     "metadata": {},
     "source": [
      "Does this vary by Building-Class?"
     ]
    },
    {
     "cell_type": "code",
     "collapsed": false,
     "input": [
      "funcs = [('Average', mean_b)]\n",
      "grouped_MC = df1.groupby([(lambda x: x.month), 'building_class_category'])['unit_count']"
     ],
     "language": "python",
     "metadata": {},
     "outputs": [],
     "prompt_number": 524
    },
    {
     "cell_type": "code",
     "collapsed": false,
     "input": [
      "agg_sales_cat = grouped_MC.agg(funcs).unstack()"
     ],
     "language": "python",
     "metadata": {},
     "outputs": [],
     "prompt_number": 525
    },
    {
     "cell_type": "code",
     "collapsed": false,
     "input": [
      "agg_sales_max = pd.DataFrame(agg_sales_cat.idxmax(), columns = ['Month'])"
     ],
     "language": "python",
     "metadata": {},
     "outputs": [],
     "prompt_number": 526
    },
    {
     "cell_type": "code",
     "collapsed": false,
     "input": [
      "print \"Property Sales Share for 'One Family Homes'\\n\"\n",
      "agg_sales_cat.ix[:,2]/agg_sales_cat.sum(1)"
     ],
     "language": "python",
     "metadata": {},
     "outputs": [
      {
       "output_type": "stream",
       "stream": "stdout",
       "text": [
        "Property Sales Share for 'One Family Homes'\n",
        "\n"
       ]
      },
      {
       "metadata": {},
       "output_type": "pyout",
       "prompt_number": 527,
       "text": [
        "1     0.182714\n",
        "2     0.183214\n",
        "3     0.184438\n",
        "4     0.184207\n",
        "5     0.178624\n",
        "6     0.178855\n",
        "7     0.183440\n",
        "8     0.185626\n",
        "9     0.189691\n",
        "10    0.188338\n",
        "11    0.198584\n",
        "12    0.179275\n",
        "dtype: float64"
       ]
      }
     ],
     "prompt_number": 527
    },
    {
     "cell_type": "code",
     "collapsed": false,
     "input": [
      "# # #test.columns = test.columns.droplevel()\n",
      "# # ## NEED TO BUILD BINARY MATRIX, 1 for MAX and 0 for Not-MAX \n",
      "\n",
      "# # #grouped_MC.agg(funcs).unstack(0).fillna(0).index = [str(i).strip() for i in grouped_MC.agg(funcs).unstack(0).fillna(0).index]\n",
      "\n",
      "# # fig2, ax2 = plt.subplots()\n",
      "# # #heatmap = ax.pcolor(patentMatrix, cmap=plt.cm.Blues, alpha = .75)\n",
      "# # heatmap = ax.pcolor(test, cmap=plt.cm.Blues, alpha = .75)\n",
      "\n",
      "# # lst = [test.ix[i].argmax() for i in range(54)]\n",
      "# # lst = test.idxmax(1)\n",
      "# # lst[0]\n",
      "\n",
      "# # newdftest = [test.ix[i, lst[i]] = 1 for i in range(54)]\n",
      "\n",
      "# for i in test.iteritems():\n",
      "#     print i\n",
      "\n",
      "# for i, j in test.iterrows():\n",
      "#     print j[12]"
     ],
     "language": "python",
     "metadata": {},
     "outputs": [],
     "prompt_number": 375
    },
    {
     "cell_type": "code",
     "collapsed": false,
     "input": [
      "grouped_MC.agg(funcs).unstack(0).fillna(0)\n",
      "agg_sales_max.sort(['Month'])\n",
      "agg_sales_max['Month']        "
     ],
     "language": "python",
     "metadata": {},
     "outputs": [
      {
       "metadata": {},
       "output_type": "pyout",
       "prompt_number": 528,
       "text": [
        "         building_class_category                    \n",
        "Average                                                 12\n",
        "         01  ONE FAMILY DWELLINGS                        7\n",
        "         01  ONE FAMILY HOMES                            6\n",
        "         02  TWO FAMILY DWELLINGS                        5\n",
        "         02  TWO FAMILY HOMES                            6\n",
        "         03  THREE FAMILY DWELLINGS                      3\n",
        "         03  THREE FAMILY HOMES                          3\n",
        "         04  TAX CLASS 1 CONDOS                          6\n",
        "         05  TAX CLASS 1 VACANT LAND                     6\n",
        "         06  TAX CLASS 1 - OTHER                         6\n",
        "         07  RENTALS - WALKUP APARTMENTS                 6\n",
        "         08  RENTALS - ELEVATOR APARTMENTS              12\n",
        "         09  COOPS - WALKUP APARTMENTS                   6\n",
        "         10  COOPS - ELEVATOR APARTMENTS                 6\n",
        "         11  SPECIAL CONDO BILLING LOTS                  2\n",
        "         11A CONDO-RENTALS                               1\n",
        "         12  CONDOS - WALKUP APARTMENTS                 12\n",
        "         13  CONDOS - ELEVATOR APARTMENTS                6\n",
        "         14  RENTALS - 4-10 UNIT                         6\n",
        "         15  CONDOS - 2-10 UNIT RESIDENTIAL              6\n",
        "         16  CONDOS - 2-10 UNIT WITH COMMERCIAL UNIT     5\n",
        "         17  CONDO COOPS                                 7\n",
        "         17  CONDOPS                                     6\n",
        "         18  TAX CLASS 3 - UNTILITY PROPERTIES           1\n",
        "         18  TAX CLASS 3 - UTILITY PROPERTIES            5\n",
        "         21  OFFICE BUILDINGS                           12\n",
        "         22  STORE BUILDINGS                            12\n",
        "         23  LOFT BUILDINGS                             12\n",
        "         24  TAX CLASS 4 - UTILITY BUREAU PROPERTIES     1\n",
        "         25  LUXURY HOTELS                              12\n",
        "         26  OTHER HOTELS                                8\n",
        "         27  FACTORIES                                  12\n",
        "         28  COMMERCIAL CONDOS                           8\n",
        "         29  COMMERCIAL GARAGES                         12\n",
        "         30  WAREHOUSES                                 12\n",
        "         31  COMMERCIAL VACANT LAND                      6\n",
        "         32  HOSPITAL AND HEALTH FACILITIES              1\n",
        "         33  EDUCATIONAL FACILITIES                     12\n",
        "         34  THEATRES                                    2\n",
        "         35  INDOOR PUBLIC AND CULTURAL FACILITIES       7\n",
        "         36  OUTDOOR RECREATIONAL FACILITIES             6\n",
        "         37  RELIGIOUS FACILITIES                        6\n",
        "         38  ASYLUMS AND HOMES                          12\n",
        "         39  TRANSPORTATION FACILITIES                   1\n",
        "         40  SELECTED GOVERNMENTAL FACILITIES            1\n",
        "         41  TAX CLASS 4 - OTHER                        12\n",
        "         42  CONDO CULTURAL/MEDICAL/EDUCATIONAL/ETC      1\n",
        "         43  CONDO OFFICE BUILDINGS                     12\n",
        "         44  CONDO PARKING                              12\n",
        "         45  CONDO HOTELS                                4\n",
        "         46  CONDO STORE BUILDINGS                       5\n",
        "         47  CONDO NON-BUSINESS STORAGE                 12\n",
        "         48  CONDO TERRACES/GARDENS/CABANAS              1\n",
        "         49  CONDO WAREHOUSES/FACTORY/INDUS              3\n",
        "Name: Month, Length: 54, dtype: int64"
       ]
      }
     ],
     "prompt_number": 528
    },
    {
     "cell_type": "markdown",
     "metadata": {},
     "source": [
      "Property sales per month do vary by building class.  \n",
      "\n",
      "First, the most common property type sold, '01 ONE FAMILY HOMES', account for about 20% of all sales in any given month and the most active month for this property type is June.  Most other residential property types, including Coops and Condos appear to sell most during the summer months.  This is likely driven by young families looking to relocate near schools before the new school season starts.  \n",
      "\n",
      "Commercial property types such as office and store buildings, warehouses and commercial vacant lots are most frequently sold in December.  A key driver can be the need to complete commercial transactions before years end to avoid tax implications."
     ]
    },
    {
     "cell_type": "heading",
     "level": 3,
     "metadata": {},
     "source": [
      "What are 2014\u2019s hottest residential neighborhoods, as measured by year-over-year growth in total sale-value and total sale-count?"
     ]
    },
    {
     "cell_type": "code",
     "collapsed": false,
     "input": [
      "res = ['R0', 'R1', 'R2', 'R3', 'R4', 'R5', 'R6', 'R7', 'R7', 'R8', 'R9']\n",
      "df_res = df1[df1['building_class_at_time_of_sale'].isin(res)]"
     ],
     "language": "python",
     "metadata": {},
     "outputs": [],
     "prompt_number": 539
    },
    {
     "cell_type": "markdown",
     "metadata": {},
     "source": [
      "'res' is a subset residential property types by building class."
     ]
    },
    {
     "cell_type": "code",
     "collapsed": false,
     "input": [
      "grouped_res = df_res.groupby([(lambda x: x.year), 'neighborhood'])['unit_count']\n",
      "r = grouped_res.agg('sum').unstack()\n",
      "\n",
      "neighborhood_names = list(grouped_res.agg('sum').unstack().columns) \n",
      "neighborhood_names1 = [str(i).strip() for i in neighborhood_names]\n",
      "r.columns = neighborhood_names\n",
      "_ = r.fillna(0, inplace = True)"
     ],
     "language": "python",
     "metadata": {},
     "outputs": [],
     "prompt_number": 530
    },
    {
     "cell_type": "code",
     "collapsed": false,
     "input": [
      "r.pct_change().loc[2014].order(ascending = False).replace([np.inf], np.nan).dropna()[0:20]"
     ],
     "language": "python",
     "metadata": {},
     "outputs": [
      {
       "metadata": {},
       "output_type": "pyout",
       "prompt_number": 535,
       "text": [
        "JAMAICA                     8.142857\n",
        "FLUSHING MEADOW PARK        4.000000\n",
        "FLATBUSH-EAST               4.000000\n",
        "NEW DORP-HEIGHTS            3.000000\n",
        "JAVITS CENTER               3.000000\n",
        "GRYMES HILL                 2.333333\n",
        "FLATBUSH-NORTH              2.285714\n",
        "ANNADALE                    2.000000\n",
        "WOODSIDE                    1.727273\n",
        "WASHINGTON HEIGHTS LOWER    1.619048\n",
        "INWOOD                      1.500000\n",
        "EAST VILLAGE                1.103896\n",
        "WEST NEW BRIGHTON           1.000000\n",
        "NEW DORP                    1.000000\n",
        "FRESH MEADOWS               1.000000\n",
        "ELTINGVILLE                 1.000000\n",
        "THROGS NECK                 0.727273\n",
        "TRAVIS                      0.666667\n",
        "ARVERNE                     0.666667\n",
        "FLATBUSH-CENTRAL            0.628571\n",
        "Name: 2014, dtype: float64"
       ]
      }
     ],
     "prompt_number": 535
    },
    {
     "cell_type": "markdown",
     "metadata": {},
     "source": [
      "Above are the top 20 neighborhoods determined by 2013 Y-o-Y growth based on sale-count."
     ]
    },
    {
     "cell_type": "code",
     "collapsed": false,
     "input": [
      "grouped_res_value = df_res.groupby([(lambda x: x.year), 'neighborhood'])['sale_price']\n",
      "\n",
      "r1 = grouped_res_value.agg('sum').unstack()\n",
      "r1.columns = neighborhood_names1\n",
      "_ = r1.fillna(0, inplace = True)"
     ],
     "language": "python",
     "metadata": {},
     "outputs": [],
     "prompt_number": 536
    },
    {
     "cell_type": "code",
     "collapsed": false,
     "input": [
      "r1.pct_change().loc[2014].order(ascending = False).replace([np.inf], np.nan).dropna()[1:21]"
     ],
     "language": "python",
     "metadata": {},
     "outputs": [
      {
       "metadata": {},
       "output_type": "pyout",
       "prompt_number": 537,
       "text": [
        "FLATBUSH-EAST               6.984375\n",
        "GRYMES HILL                 6.182418\n",
        "WHITESTONE                  3.381818\n",
        "NEW DORP                    2.542857\n",
        "MARINE PARK                 2.021144\n",
        "ANNADALE                    2.018250\n",
        "WOODSIDE                    1.962442\n",
        "WASHINGTON HEIGHTS LOWER    1.822656\n",
        "EAST VILLAGE                1.701563\n",
        "INWOOD                      1.687781\n",
        "FLATBUSH-NORTH              1.319710\n",
        "BERGEN BEACH                1.240458\n",
        "FRESH MEADOWS               1.093525\n",
        "TRAVIS                      1.011772\n",
        "FLATBUSH-CENTRAL            0.856082\n",
        "PORT IVORY                  0.848829\n",
        "BEECHHURST                  0.810569\n",
        "BELLE HARBOR                0.715737\n",
        "ARVERNE                     0.715439\n",
        "RIDGEWOOD                   0.674994\n",
        "Name: 2014, dtype: float64"
       ]
      }
     ],
     "prompt_number": 537
    },
    {
     "cell_type": "markdown",
     "metadata": {},
     "source": [
      "Above are the top 20 neighborhoods determined by 2013 Y-o-Y growth based on property value.  Interestingly, most recognizable neighborhoods such as Carroll Gardens, Alphabet City, Fort Greene, Little Italy and Harlem all realized their highest Y-o-Y growth in 2013. \n",
      "\n",
      "I omitted the top result as the data appears inaccurate."
     ]
    },
    {
     "cell_type": "heading",
     "level": 3,
     "metadata": {},
     "source": [
      "Does the residential market prefer new-construction (buildings built within 2years of the sale date)? How does 2014 compare with previous years in this regard?"
     ]
    },
    {
     "cell_type": "code",
     "collapsed": false,
     "input": [
      "df_age = df1[df1['building_class_at_time_of_sale'].isin(res)]"
     ],
     "language": "python",
     "metadata": {},
     "outputs": [],
     "prompt_number": 353
    },
    {
     "cell_type": "code",
     "collapsed": false,
     "input": [
      "df_age.index.year - df_age['year_built']\n",
      "df_age['age'] = df_age.index.year - df_age['year_built']"
     ],
     "language": "python",
     "metadata": {},
     "outputs": [],
     "prompt_number": 354
    },
    {
     "cell_type": "code",
     "collapsed": false,
     "input": [
      "age_bins = [0, 2, 5, 10, 20, 50, 100, 150]"
     ],
     "language": "python",
     "metadata": {},
     "outputs": [],
     "prompt_number": 355
    },
    {
     "cell_type": "markdown",
     "metadata": {},
     "source": [
      "Above are the age buckets I will use for categorizing each property type."
     ]
    },
    {
     "cell_type": "code",
     "collapsed": false,
     "input": [
      "df_age['age_bin'] = pd.cut(df_age['age'], age_bins, right = False)"
     ],
     "language": "python",
     "metadata": {},
     "outputs": [],
     "prompt_number": 356
    },
    {
     "cell_type": "code",
     "collapsed": false,
     "input": [
      "pd.value_counts(df_age['age_bin'])"
     ],
     "language": "python",
     "metadata": {},
     "outputs": [
      {
       "metadata": {},
       "output_type": "pyout",
       "prompt_number": 357,
       "text": [
        "[20, 50)      37199\n",
        "[50, 100)     34091\n",
        "[2, 5)        31206\n",
        "[5, 10)       16211\n",
        "[0, 2)        13285\n",
        "[10, 20)      12673\n",
        "[100, 150)     9157\n",
        "dtype: int64"
       ]
      }
     ],
     "prompt_number": 357
    },
    {
     "cell_type": "code",
     "collapsed": false,
     "input": [
      "grouped_res_age = df_age.groupby([(lambda x: x.year), 'age_bin'])['unit_count']"
     ],
     "language": "python",
     "metadata": {},
     "outputs": [],
     "prompt_number": 358
    },
    {
     "cell_type": "code",
     "collapsed": false,
     "input": [
      "binCols = ['[0, 2)', '[2, 5)', '[5, 10)', '[10, 20)', '[20, 50)', '[50, 100)', '[100, 150)']\n",
      "\n",
      "df_age_bin = pd.DataFrame(grouped_res_age.count().unstack(), columns = binCols)"
     ],
     "language": "python",
     "metadata": {},
     "outputs": [],
     "prompt_number": 359
    },
    {
     "cell_type": "code",
     "collapsed": false,
     "input": [
      "df_age_bin.columns.name = 'Age_Bucket'\n",
      "df_age_bin.index.name = 'Year'\n",
      "\n",
      "df_age_bin"
     ],
     "language": "python",
     "metadata": {},
     "outputs": [
      {
       "html": [
        "<div style=\"max-height:1000px;max-width:1500px;overflow:auto;\">\n",
        "<table border=\"1\" class=\"dataframe\">\n",
        "  <thead>\n",
        "    <tr style=\"text-align: right;\">\n",
        "      <th>Age_Bucket</th>\n",
        "      <th>[0, 2)</th>\n",
        "      <th>[2, 5)</th>\n",
        "      <th>[5, 10)</th>\n",
        "      <th>[10, 20)</th>\n",
        "      <th>[20, 50)</th>\n",
        "      <th>[50, 100)</th>\n",
        "      <th>[100, 150)</th>\n",
        "    </tr>\n",
        "    <tr>\n",
        "      <th>Year</th>\n",
        "      <th></th>\n",
        "      <th></th>\n",
        "      <th></th>\n",
        "      <th></th>\n",
        "      <th></th>\n",
        "      <th></th>\n",
        "      <th></th>\n",
        "    </tr>\n",
        "  </thead>\n",
        "  <tbody>\n",
        "    <tr>\n",
        "      <th>2003</th>\n",
        "      <td>  563</td>\n",
        "      <td>  158</td>\n",
        "      <td>  110</td>\n",
        "      <td> 2997</td>\n",
        "      <td> 2573</td>\n",
        "      <td> 1765</td>\n",
        "      <td>  393</td>\n",
        "    </tr>\n",
        "    <tr>\n",
        "      <th>2004</th>\n",
        "      <td>  974</td>\n",
        "      <td>  608</td>\n",
        "      <td>  172</td>\n",
        "      <td> 2724</td>\n",
        "      <td> 3231</td>\n",
        "      <td> 1984</td>\n",
        "      <td>  515</td>\n",
        "    </tr>\n",
        "    <tr>\n",
        "      <th>2005</th>\n",
        "      <td> 1411</td>\n",
        "      <td> 1268</td>\n",
        "      <td>  134</td>\n",
        "      <td> 2100</td>\n",
        "      <td> 3295</td>\n",
        "      <td> 2266</td>\n",
        "      <td>  438</td>\n",
        "    </tr>\n",
        "    <tr>\n",
        "      <th>2006</th>\n",
        "      <td> 2586</td>\n",
        "      <td> 2190</td>\n",
        "      <td>  231</td>\n",
        "      <td> 1398</td>\n",
        "      <td> 2811</td>\n",
        "      <td> 2553</td>\n",
        "      <td>  819</td>\n",
        "    </tr>\n",
        "    <tr>\n",
        "      <th>2007</th>\n",
        "      <td> 2196</td>\n",
        "      <td> 3937</td>\n",
        "      <td>  409</td>\n",
        "      <td>  877</td>\n",
        "      <td> 3697</td>\n",
        "      <td> 4598</td>\n",
        "      <td>  944</td>\n",
        "    </tr>\n",
        "    <tr>\n",
        "      <th>2008</th>\n",
        "      <td> 2313</td>\n",
        "      <td> 4921</td>\n",
        "      <td>  424</td>\n",
        "      <td>  509</td>\n",
        "      <td> 3363</td>\n",
        "      <td> 4127</td>\n",
        "      <td>  532</td>\n",
        "    </tr>\n",
        "    <tr>\n",
        "      <th>2009</th>\n",
        "      <td> 1018</td>\n",
        "      <td> 3895</td>\n",
        "      <td>  514</td>\n",
        "      <td>  258</td>\n",
        "      <td> 3342</td>\n",
        "      <td> 2321</td>\n",
        "      <td>  543</td>\n",
        "    </tr>\n",
        "    <tr>\n",
        "      <th>2010</th>\n",
        "      <td>  630</td>\n",
        "      <td> 4478</td>\n",
        "      <td> 1386</td>\n",
        "      <td>  183</td>\n",
        "      <td> 2614</td>\n",
        "      <td> 2451</td>\n",
        "      <td>  850</td>\n",
        "    </tr>\n",
        "    <tr>\n",
        "      <th>2011</th>\n",
        "      <td>  683</td>\n",
        "      <td> 4633</td>\n",
        "      <td> 2162</td>\n",
        "      <td>  192</td>\n",
        "      <td> 3131</td>\n",
        "      <td> 2623</td>\n",
        "      <td>  843</td>\n",
        "    </tr>\n",
        "    <tr>\n",
        "      <th>2012</th>\n",
        "      <td>  291</td>\n",
        "      <td> 3076</td>\n",
        "      <td> 3686</td>\n",
        "      <td>  311</td>\n",
        "      <td> 3447</td>\n",
        "      <td> 3078</td>\n",
        "      <td>  990</td>\n",
        "    </tr>\n",
        "    <tr>\n",
        "      <th>2013</th>\n",
        "      <td>  459</td>\n",
        "      <td> 1123</td>\n",
        "      <td> 4433</td>\n",
        "      <td>  513</td>\n",
        "      <td> 3467</td>\n",
        "      <td> 3574</td>\n",
        "      <td> 1287</td>\n",
        "    </tr>\n",
        "    <tr>\n",
        "      <th>2014</th>\n",
        "      <td>  161</td>\n",
        "      <td>  919</td>\n",
        "      <td> 2550</td>\n",
        "      <td>  611</td>\n",
        "      <td> 2228</td>\n",
        "      <td> 2751</td>\n",
        "      <td> 1003</td>\n",
        "    </tr>\n",
        "  </tbody>\n",
        "</table>\n",
        "<p>12 rows \u00d7 7 columns</p>\n",
        "</div>"
       ],
       "metadata": {},
       "output_type": "pyout",
       "prompt_number": 360,
       "text": [
        "Age_Bucket  [0, 2)  [2, 5)  [5, 10)  [10, 20)  [20, 50)  [50, 100)  [100, 150)\n",
        "Year                                                                          \n",
        "2003           563     158      110      2997      2573       1765         393\n",
        "2004           974     608      172      2724      3231       1984         515\n",
        "2005          1411    1268      134      2100      3295       2266         438\n",
        "2006          2586    2190      231      1398      2811       2553         819\n",
        "2007          2196    3937      409       877      3697       4598         944\n",
        "2008          2313    4921      424       509      3363       4127         532\n",
        "2009          1018    3895      514       258      3342       2321         543\n",
        "2010           630    4478     1386       183      2614       2451         850\n",
        "2011           683    4633     2162       192      3131       2623         843\n",
        "2012           291    3076     3686       311      3447       3078         990\n",
        "2013           459    1123     4433       513      3467       3574        1287\n",
        "2014           161     919     2550       611      2228       2751        1003\n",
        "\n",
        "[12 rows x 7 columns]"
       ]
      }
     ],
     "prompt_number": 360
    },
    {
     "cell_type": "markdown",
     "metadata": {},
     "source": [
      "Above is the volume of sales per year based on age of the building at the time of sale"
     ]
    },
    {
     "cell_type": "code",
     "collapsed": false,
     "input": [
      "df_age_bin_share = df_age_bin.apply(lambda x: x / x.sum() * 100, axis=1).astype(float)"
     ],
     "language": "python",
     "metadata": {},
     "outputs": [],
     "prompt_number": 361
    },
    {
     "cell_type": "code",
     "collapsed": false,
     "input": [
      "df_age_bin_share.columns.name = 'Age_Bucket'\n",
      "df_age_bin_share.index.name = 'Year'\n",
      "df_age_bin_share"
     ],
     "language": "python",
     "metadata": {},
     "outputs": [
      {
       "html": [
        "<div style=\"max-height:1000px;max-width:1500px;overflow:auto;\">\n",
        "<table border=\"1\" class=\"dataframe\">\n",
        "  <thead>\n",
        "    <tr style=\"text-align: right;\">\n",
        "      <th>Age_Bucket</th>\n",
        "      <th>[0, 2)</th>\n",
        "      <th>[2, 5)</th>\n",
        "      <th>[5, 10)</th>\n",
        "      <th>[10, 20)</th>\n",
        "      <th>[20, 50)</th>\n",
        "      <th>[50, 100)</th>\n",
        "      <th>[100, 150)</th>\n",
        "    </tr>\n",
        "    <tr>\n",
        "      <th>Year</th>\n",
        "      <th></th>\n",
        "      <th></th>\n",
        "      <th></th>\n",
        "      <th></th>\n",
        "      <th></th>\n",
        "      <th></th>\n",
        "      <th></th>\n",
        "    </tr>\n",
        "  </thead>\n",
        "  <tbody>\n",
        "    <tr>\n",
        "      <th>2003</th>\n",
        "      <td>  6.577871</td>\n",
        "      <td>  1.846010</td>\n",
        "      <td>  1.285197</td>\n",
        "      <td> 35.015773</td>\n",
        "      <td> 30.061923</td>\n",
        "      <td> 20.621568</td>\n",
        "      <td> 4.591658</td>\n",
        "    </tr>\n",
        "    <tr>\n",
        "      <th>2004</th>\n",
        "      <td>  9.541536</td>\n",
        "      <td>  5.956113</td>\n",
        "      <td>  1.684953</td>\n",
        "      <td> 26.684953</td>\n",
        "      <td> 31.651646</td>\n",
        "      <td> 19.435737</td>\n",
        "      <td> 5.045063</td>\n",
        "    </tr>\n",
        "    <tr>\n",
        "      <th>2005</th>\n",
        "      <td> 12.930718</td>\n",
        "      <td> 11.620235</td>\n",
        "      <td>  1.228006</td>\n",
        "      <td> 19.244868</td>\n",
        "      <td> 30.196114</td>\n",
        "      <td> 20.766129</td>\n",
        "      <td> 4.013930</td>\n",
        "    </tr>\n",
        "    <tr>\n",
        "      <th>2006</th>\n",
        "      <td> 20.543375</td>\n",
        "      <td> 17.397521</td>\n",
        "      <td>  1.835081</td>\n",
        "      <td> 11.105815</td>\n",
        "      <td> 22.330791</td>\n",
        "      <td> 20.281220</td>\n",
        "      <td> 6.506196</td>\n",
        "    </tr>\n",
        "    <tr>\n",
        "      <th>2007</th>\n",
        "      <td> 13.182855</td>\n",
        "      <td> 23.634290</td>\n",
        "      <td>  2.455277</td>\n",
        "      <td>  5.264738</td>\n",
        "      <td> 22.193541</td>\n",
        "      <td> 27.602353</td>\n",
        "      <td> 5.666947</td>\n",
        "    </tr>\n",
        "    <tr>\n",
        "      <th>2008</th>\n",
        "      <td> 14.287479</td>\n",
        "      <td> 30.397183</td>\n",
        "      <td>  2.619062</td>\n",
        "      <td>  3.144110</td>\n",
        "      <td> 20.773365</td>\n",
        "      <td> 25.492618</td>\n",
        "      <td> 3.286182</td>\n",
        "    </tr>\n",
        "    <tr>\n",
        "      <th>2009</th>\n",
        "      <td>  8.561097</td>\n",
        "      <td> 32.755866</td>\n",
        "      <td>  4.322597</td>\n",
        "      <td>  2.169708</td>\n",
        "      <td> 28.105290</td>\n",
        "      <td> 19.518964</td>\n",
        "      <td> 4.566479</td>\n",
        "    </tr>\n",
        "    <tr>\n",
        "      <th>2010</th>\n",
        "      <td>  5.003177</td>\n",
        "      <td> 35.562262</td>\n",
        "      <td> 11.006989</td>\n",
        "      <td>  1.453304</td>\n",
        "      <td> 20.759212</td>\n",
        "      <td> 19.464740</td>\n",
        "      <td> 6.750318</td>\n",
        "    </tr>\n",
        "    <tr>\n",
        "      <th>2011</th>\n",
        "      <td>  4.787271</td>\n",
        "      <td> 32.473540</td>\n",
        "      <td> 15.153852</td>\n",
        "      <td>  1.345763</td>\n",
        "      <td> 21.945749</td>\n",
        "      <td> 18.385084</td>\n",
        "      <td> 5.908740</td>\n",
        "    </tr>\n",
        "    <tr>\n",
        "      <th>2012</th>\n",
        "      <td>  1.955777</td>\n",
        "      <td> 20.673432</td>\n",
        "      <td> 24.773170</td>\n",
        "      <td>  2.090194</td>\n",
        "      <td> 23.166879</td>\n",
        "      <td> 20.686874</td>\n",
        "      <td> 6.653673</td>\n",
        "    </tr>\n",
        "    <tr>\n",
        "      <th>2013</th>\n",
        "      <td>  3.089661</td>\n",
        "      <td>  7.559235</td>\n",
        "      <td> 29.839795</td>\n",
        "      <td>  3.453150</td>\n",
        "      <td> 23.337372</td>\n",
        "      <td> 24.057620</td>\n",
        "      <td> 8.663166</td>\n",
        "    </tr>\n",
        "    <tr>\n",
        "      <th>2014</th>\n",
        "      <td>  1.574880</td>\n",
        "      <td>  8.989533</td>\n",
        "      <td> 24.943754</td>\n",
        "      <td>  5.976719</td>\n",
        "      <td> 21.793994</td>\n",
        "      <td> 26.909909</td>\n",
        "      <td> 9.811210</td>\n",
        "    </tr>\n",
        "  </tbody>\n",
        "</table>\n",
        "<p>12 rows \u00d7 7 columns</p>\n",
        "</div>"
       ],
       "metadata": {},
       "output_type": "pyout",
       "prompt_number": 362,
       "text": [
        "Age_Bucket     [0, 2)     [2, 5)    [5, 10)   [10, 20)   [20, 50)  [50, 100)  \\\n",
        "Year                                                                           \n",
        "2003         6.577871   1.846010   1.285197  35.015773  30.061923  20.621568   \n",
        "2004         9.541536   5.956113   1.684953  26.684953  31.651646  19.435737   \n",
        "2005        12.930718  11.620235   1.228006  19.244868  30.196114  20.766129   \n",
        "2006        20.543375  17.397521   1.835081  11.105815  22.330791  20.281220   \n",
        "2007        13.182855  23.634290   2.455277   5.264738  22.193541  27.602353   \n",
        "2008        14.287479  30.397183   2.619062   3.144110  20.773365  25.492618   \n",
        "2009         8.561097  32.755866   4.322597   2.169708  28.105290  19.518964   \n",
        "2010         5.003177  35.562262  11.006989   1.453304  20.759212  19.464740   \n",
        "2011         4.787271  32.473540  15.153852   1.345763  21.945749  18.385084   \n",
        "2012         1.955777  20.673432  24.773170   2.090194  23.166879  20.686874   \n",
        "2013         3.089661   7.559235  29.839795   3.453150  23.337372  24.057620   \n",
        "2014         1.574880   8.989533  24.943754   5.976719  21.793994  26.909909   \n",
        "\n",
        "Age_Bucket  [100, 150)  \n",
        "Year                    \n",
        "2003          4.591658  \n",
        "2004          5.045063  \n",
        "2005          4.013930  \n",
        "2006          6.506196  \n",
        "2007          5.666947  \n",
        "2008          3.286182  \n",
        "2009          4.566479  \n",
        "2010          6.750318  \n",
        "2011          5.908740  \n",
        "2012          6.653673  \n",
        "2013          8.663166  \n",
        "2014          9.811210  \n",
        "\n",
        "[12 rows x 7 columns]"
       ]
      }
     ],
     "prompt_number": 362
    },
    {
     "cell_type": "markdown",
     "metadata": {},
     "source": [
      "Above is the share of sales per year based on age of the building at the time of sale.  People do not prefer properties built within 2 years based on the results.  In 2013, the most populat age cohort were buildings range from 5 to 10 years, accounting for 30% of all property sales. \n",
      "\n",
      "The same holds true for 2012 and 2013, where the most popular age cohort for property sales was 5 to 10 years.  Interestingly, in 2012, the 2 to 5 years cohort accounted for about 21% of all sales in 2012 versus 8% of all sales in 2013.  This might be a function of the fact that buildings in that 2 to 5 cohort moved over to the 5 to 10 cohort the following year.  \n",
      "    * [Something to explore further]"
     ]
    },
    {
     "cell_type": "heading",
     "level": 3,
     "metadata": {},
     "source": [
      "Please produce a timeseries plot showing monthly YoY sales-growth at various price tiers."
     ]
    },
    {
     "cell_type": "code",
     "collapsed": false,
     "input": [
      "res = ['R0', 'R1', 'R2', 'R3', 'R4', 'R5', 'R6', 'R7', 'R7', 'R8', 'R9']\n",
      "price_bins = [0, 250000, 500000, 1000000, 3000000, 5000000, 10000000, 50000000]\n",
      "priceBins = ['[0, 250000)', '[250000, 500000)', '[500000, 1000000)', '[1000000, 3000000)', '[3000000, 5000000)', \\\n",
      "             '[5000000, 10000000)', '[10000000, 50000000)']"
     ],
     "language": "python",
     "metadata": {},
     "outputs": [],
     "prompt_number": 363
    },
    {
     "cell_type": "code",
     "collapsed": false,
     "input": [
      "df_price = df1[df1['building_class_at_time_of_sale'].isin(res)]\n",
      "df_price['price_bin'] = pd.cut(df_price['sale_price'], price_bins, right = False)\n",
      "grouped_res_price = df_price.groupby([(lambda x: x.year), 'price_bin'])['unit_count']"
     ],
     "language": "python",
     "metadata": {},
     "outputs": [],
     "prompt_number": 364
    },
    {
     "cell_type": "code",
     "collapsed": false,
     "input": [
      "df_price_bin = pd.DataFrame(grouped_res_price.count().unstack(), columns = priceBins)"
     ],
     "language": "python",
     "metadata": {},
     "outputs": [],
     "prompt_number": 365
    },
    {
     "cell_type": "code",
     "collapsed": false,
     "input": [
      "df_price_bin_growth = df_price_bin.pct_change().dropna() * 100\n",
      "df_price_bin_growth                                             "
     ],
     "language": "python",
     "metadata": {},
     "outputs": [
      {
       "html": [
        "<div style=\"max-height:1000px;max-width:1500px;overflow:auto;\">\n",
        "<table border=\"1\" class=\"dataframe\">\n",
        "  <thead>\n",
        "    <tr style=\"text-align: right;\">\n",
        "      <th></th>\n",
        "      <th>[0, 250000)</th>\n",
        "      <th>[250000, 500000)</th>\n",
        "      <th>[500000, 1000000)</th>\n",
        "      <th>[1000000, 3000000)</th>\n",
        "      <th>[3000000, 5000000)</th>\n",
        "      <th>[5000000, 10000000)</th>\n",
        "      <th>[10000000, 50000000)</th>\n",
        "    </tr>\n",
        "  </thead>\n",
        "  <tbody>\n",
        "    <tr>\n",
        "      <th>2004</th>\n",
        "      <td>  7.377892</td>\n",
        "      <td> -3.587532</td>\n",
        "      <td> 33.160237</td>\n",
        "      <td> 42.033898</td>\n",
        "      <td> 183.653846</td>\n",
        "      <td> 187.234043</td>\n",
        "      <td> 531.250000</td>\n",
        "    </tr>\n",
        "    <tr>\n",
        "      <th>2005</th>\n",
        "      <td> 15.298061</td>\n",
        "      <td>  0.874339</td>\n",
        "      <td> 25.236769</td>\n",
        "      <td> 24.343675</td>\n",
        "      <td>  27.118644</td>\n",
        "      <td>  12.592593</td>\n",
        "      <td> -42.574257</td>\n",
        "    </tr>\n",
        "    <tr>\n",
        "      <th>2006</th>\n",
        "      <td>  8.305648</td>\n",
        "      <td> -5.563394</td>\n",
        "      <td> 25.200178</td>\n",
        "      <td> 24.222649</td>\n",
        "      <td> -15.466667</td>\n",
        "      <td> -15.789474</td>\n",
        "      <td>  -3.448276</td>\n",
        "    </tr>\n",
        "    <tr>\n",
        "      <th>2007</th>\n",
        "      <td>-13.055982</td>\n",
        "      <td>  8.089648</td>\n",
        "      <td> 23.290105</td>\n",
        "      <td> 41.131026</td>\n",
        "      <td>  90.536278</td>\n",
        "      <td> 136.718750</td>\n",
        "      <td>  91.071429</td>\n",
        "    </tr>\n",
        "    <tr>\n",
        "      <th>2008</th>\n",
        "      <td>  7.431092</td>\n",
        "      <td>-18.108215</td>\n",
        "      <td>-14.048991</td>\n",
        "      <td> -2.167725</td>\n",
        "      <td>   7.119205</td>\n",
        "      <td>   3.300330</td>\n",
        "      <td>  57.009346</td>\n",
        "    </tr>\n",
        "    <tr>\n",
        "      <th>2009</th>\n",
        "      <td>-15.948276</td>\n",
        "      <td>-15.649867</td>\n",
        "      <td>-35.205365</td>\n",
        "      <td>-49.194270</td>\n",
        "      <td> -33.848532</td>\n",
        "      <td> -39.616613</td>\n",
        "      <td> -57.142857</td>\n",
        "    </tr>\n",
        "    <tr>\n",
        "      <th>2010</th>\n",
        "      <td>  8.449328</td>\n",
        "      <td> 20.726129</td>\n",
        "      <td> 11.668823</td>\n",
        "      <td> 22.334802</td>\n",
        "      <td>  12.383178</td>\n",
        "      <td>  27.513228</td>\n",
        "      <td>  25.000000</td>\n",
        "    </tr>\n",
        "    <tr>\n",
        "      <th>2011</th>\n",
        "      <td>  0.607971</td>\n",
        "      <td> -2.273265</td>\n",
        "      <td>  4.263207</td>\n",
        "      <td>  0.324091</td>\n",
        "      <td>   2.494802</td>\n",
        "      <td>   8.713693</td>\n",
        "      <td>  -5.555556</td>\n",
        "    </tr>\n",
        "    <tr>\n",
        "      <th>2012</th>\n",
        "      <td> 18.542972</td>\n",
        "      <td>-16.694936</td>\n",
        "      <td>  0.311111</td>\n",
        "      <td> 13.783202</td>\n",
        "      <td>   9.533469</td>\n",
        "      <td>  12.595420</td>\n",
        "      <td>  22.352941</td>\n",
        "    </tr>\n",
        "    <tr>\n",
        "      <th>2013</th>\n",
        "      <td>-39.205135</td>\n",
        "      <td>  5.031995</td>\n",
        "      <td> 15.485157</td>\n",
        "      <td> 25.331230</td>\n",
        "      <td>  27.592593</td>\n",
        "      <td>  36.271186</td>\n",
        "      <td>  32.692308</td>\n",
        "    </tr>\n",
        "    <tr>\n",
        "      <th>2014</th>\n",
        "      <td>-40.807453</td>\n",
        "      <td>-32.484076</td>\n",
        "      <td>-31.037790</td>\n",
        "      <td>-23.533854</td>\n",
        "      <td> -13.933237</td>\n",
        "      <td> -26.616915</td>\n",
        "      <td>  -2.173913</td>\n",
        "    </tr>\n",
        "  </tbody>\n",
        "</table>\n",
        "<p>11 rows \u00d7 7 columns</p>\n",
        "</div>"
       ],
       "metadata": {},
       "output_type": "pyout",
       "prompt_number": 367,
       "text": [
        "      [0, 250000)  [250000, 500000)  [500000, 1000000)  [1000000, 3000000)  \\\n",
        "2004     7.377892         -3.587532          33.160237           42.033898   \n",
        "2005    15.298061          0.874339          25.236769           24.343675   \n",
        "2006     8.305648         -5.563394          25.200178           24.222649   \n",
        "2007   -13.055982          8.089648          23.290105           41.131026   \n",
        "2008     7.431092        -18.108215         -14.048991           -2.167725   \n",
        "2009   -15.948276        -15.649867         -35.205365          -49.194270   \n",
        "2010     8.449328         20.726129          11.668823           22.334802   \n",
        "2011     0.607971         -2.273265           4.263207            0.324091   \n",
        "2012    18.542972        -16.694936           0.311111           13.783202   \n",
        "2013   -39.205135          5.031995          15.485157           25.331230   \n",
        "2014   -40.807453        -32.484076         -31.037790          -23.533854   \n",
        "\n",
        "      [3000000, 5000000)  [5000000, 10000000)  [10000000, 50000000)  \n",
        "2004          183.653846           187.234043            531.250000  \n",
        "2005           27.118644            12.592593            -42.574257  \n",
        "2006          -15.466667           -15.789474             -3.448276  \n",
        "2007           90.536278           136.718750             91.071429  \n",
        "2008            7.119205             3.300330             57.009346  \n",
        "2009          -33.848532           -39.616613            -57.142857  \n",
        "2010           12.383178            27.513228             25.000000  \n",
        "2011            2.494802             8.713693             -5.555556  \n",
        "2012            9.533469            12.595420             22.352941  \n",
        "2013           27.592593            36.271186             32.692308  \n",
        "2014          -13.933237           -26.616915             -2.173913  \n",
        "\n",
        "[11 rows x 7 columns]"
       ]
      }
     ],
     "prompt_number": 367
    },
    {
     "cell_type": "heading",
     "level": 3,
     "metadata": {},
     "source": [
      "What has the trend been like for sales of properties priced <$3M? "
     ]
    },
    {
     "cell_type": "code",
     "collapsed": false,
     "input": [
      "l = df_price_bin_growth.index\n",
      "legend = df_price_bin_growth.ix[:,:4].columns\n",
      "\n",
      "fig, ax = plt.subplots(figsize = (16, 8))\n",
      "ax.plot(df_price_bin_growth.ix[:,:4], marker = 'o')\n",
      "ax.set_ylim(-100, 100)\n",
      "ax.set_title(\"Y-o-Y Growth by Sales Volume\")\n",
      "ax.set_ylabel(\"Growth Rate (%)\")\n",
      "ax.set_xticklabels(l)\n",
      "ax.legend(legend)\n",
      "ax.set_ylim(-50, 50)"
     ],
     "language": "python",
     "metadata": {},
     "outputs": [
      {
       "metadata": {},
       "output_type": "pyout",
       "prompt_number": 368,
       "text": [
        "(-50, 50)"
       ]
      },
      {
       "metadata": {},
       "output_type": "display_data",
       "png": "[encoded data removed]",
       "text": [
        "<matplotlib.figure.Figure at 0x126524450>"
       ]
      }
     ],
     "prompt_number": 368
    },
    {
     "cell_type": "markdown",
     "metadata": {},
     "source": [
      "The market for properties sold below 3M dollars realized mixed Y-o-Y growth in 2013.  For lower priced properties, ranging from 0 to 250k dollars, there was a 45% drop in Y-o-Y sales in 2013.  This cohort realized this drop as most properties shifted tiers, and moved into the subsequent cohort.  Also, there are few properties available in this price range in NYC.  \n",
      "\n",
      "Properties priced from 500k dollars to 1M dollars and from 1M dollars to 3M dollars realized 7.26% and 15.00% Y-o-Y growth respectively.  Several factors can be driving this tier.  \n",
      "\n",
      "First, cheap access to home loans in the last couple years has been fueling home prices.  But NYC is a different market; for example, 8 in 10 homes sold in Manhattan are all cash deals meaning this is not a demographic that is sensitive to mortgage rates (1).  This leads me to the second factor.  Many wealthy internationals view residential property in NYC as a means of financial safety from geo-political uncertainty and major currency volatility.  \n",
      "\n",
      "(1) http://www.washingtonpost.com/news/rampage/wp/2014/05/14/8-in-10-manhattan-home-sales-are-all-cash/"
     ]
    },
    {
     "cell_type": "heading",
     "level": 3,
     "metadata": {},
     "source": [
      "Modify this to show stats by neighborhood & price-tier; how do sales <$3M compare for Brooklyn Heights vs. Bed-Stuy?"
     ]
    },
    {
     "cell_type": "code",
     "collapsed": false,
     "input": [
      "grouped_res_price_neighborhood = df_price.groupby(['neighborhood', (lambda x: x.year), 'price_bin'])['unit_count']\n",
      "grouped_res_price_neighborhood_unstack = pd.DataFrame(grouped_res_price_neighborhood.count().unstack(), columns = priceBins)"
     ],
     "language": "python",
     "metadata": {},
     "outputs": [],
     "prompt_number": 369
    },
    {
     "cell_type": "code",
     "collapsed": false,
     "input": [
      "priceBins = ['[0, 250000)', '[250000, 500000)', '[500000, 1000000)', '[1000000, 3000000)', '[3000000, 5000000)', \\\n",
      "             '[5000000, 10000000)', '[10000000, 50000000)']\n",
      "\n",
      "df_price_compare = grouped_res_price_neighborhood_unstack.loc[['BROOKLYN HEIGHTS', 'BEDFORD STUYVESANT']].unstack(0).ix[:,:8].fillna(0)"
     ],
     "language": "python",
     "metadata": {},
     "outputs": [],
     "prompt_number": 370
    },
    {
     "cell_type": "code",
     "collapsed": false,
     "input": [
      "# bed_stuy = test.loc['BEDFORD STUYVESANT'].ix[:, :4].fillna(0)\n",
      "# bk_heights = test.loc['BROOKLYN HEIGHTS'].ix[:,:4].fillna(0)\n",
      "# # test2 = pd.concat([bk_heights, bed_stuy], axis = 1, keys = ['bk_heights', 'bed_stuy'])\n",
      "\n",
      "# grouped_res_price_neighborhood_unstack.index\n",
      "df_price_compare"
     ],
     "language": "python",
     "metadata": {},
     "outputs": [
      {
       "html": [
        "<div style=\"max-height:1000px;max-width:1500px;overflow:auto;\">\n",
        "<table border=\"1\" class=\"dataframe\">\n",
        "  <thead>\n",
        "    <tr>\n",
        "      <th></th>\n",
        "      <th colspan=\"2\" halign=\"left\">[0, 250000)</th>\n",
        "      <th colspan=\"2\" halign=\"left\">[250000, 500000)</th>\n",
        "      <th colspan=\"2\" halign=\"left\">[500000, 1000000)</th>\n",
        "      <th colspan=\"2\" halign=\"left\">[1000000, 3000000)</th>\n",
        "    </tr>\n",
        "    <tr>\n",
        "      <th>neighborhood</th>\n",
        "      <th>BROOKLYN HEIGHTS</th>\n",
        "      <th>BEDFORD STUYVESANT</th>\n",
        "      <th>BROOKLYN HEIGHTS</th>\n",
        "      <th>BEDFORD STUYVESANT</th>\n",
        "      <th>BROOKLYN HEIGHTS</th>\n",
        "      <th>BEDFORD STUYVESANT</th>\n",
        "      <th>BROOKLYN HEIGHTS</th>\n",
        "      <th>BEDFORD STUYVESANT</th>\n",
        "    </tr>\n",
        "  </thead>\n",
        "  <tbody>\n",
        "    <tr>\n",
        "      <th>2003</th>\n",
        "      <td> 19</td>\n",
        "      <td>  72</td>\n",
        "      <td> 13</td>\n",
        "      <td> 116</td>\n",
        "      <td> 10</td>\n",
        "      <td>  0</td>\n",
        "      <td>  5</td>\n",
        "      <td> 0</td>\n",
        "    </tr>\n",
        "    <tr>\n",
        "      <th>2004</th>\n",
        "      <td> 14</td>\n",
        "      <td>  73</td>\n",
        "      <td> 12</td>\n",
        "      <td> 127</td>\n",
        "      <td> 11</td>\n",
        "      <td>  6</td>\n",
        "      <td>  3</td>\n",
        "      <td> 0</td>\n",
        "    </tr>\n",
        "    <tr>\n",
        "      <th>2005</th>\n",
        "      <td> 11</td>\n",
        "      <td> 120</td>\n",
        "      <td> 10</td>\n",
        "      <td> 180</td>\n",
        "      <td>  9</td>\n",
        "      <td> 12</td>\n",
        "      <td> 10</td>\n",
        "      <td> 0</td>\n",
        "    </tr>\n",
        "    <tr>\n",
        "      <th>2006</th>\n",
        "      <td>  9</td>\n",
        "      <td>  73</td>\n",
        "      <td>  0</td>\n",
        "      <td> 201</td>\n",
        "      <td> 12</td>\n",
        "      <td> 31</td>\n",
        "      <td>  6</td>\n",
        "      <td> 0</td>\n",
        "    </tr>\n",
        "    <tr>\n",
        "      <th>2007</th>\n",
        "      <td>  7</td>\n",
        "      <td>  90</td>\n",
        "      <td>  1</td>\n",
        "      <td> 127</td>\n",
        "      <td> 18</td>\n",
        "      <td> 32</td>\n",
        "      <td>  1</td>\n",
        "      <td> 0</td>\n",
        "    </tr>\n",
        "    <tr>\n",
        "      <th>2008</th>\n",
        "      <td>  8</td>\n",
        "      <td>  77</td>\n",
        "      <td>  4</td>\n",
        "      <td> 115</td>\n",
        "      <td>  8</td>\n",
        "      <td> 28</td>\n",
        "      <td>  4</td>\n",
        "      <td> 0</td>\n",
        "    </tr>\n",
        "    <tr>\n",
        "      <th>2009</th>\n",
        "      <td> 18</td>\n",
        "      <td> 105</td>\n",
        "      <td>  0</td>\n",
        "      <td> 113</td>\n",
        "      <td>  6</td>\n",
        "      <td> 28</td>\n",
        "      <td>  2</td>\n",
        "      <td> 0</td>\n",
        "    </tr>\n",
        "    <tr>\n",
        "      <th>2010</th>\n",
        "      <td>  9</td>\n",
        "      <td> 138</td>\n",
        "      <td>  0</td>\n",
        "      <td> 102</td>\n",
        "      <td> 10</td>\n",
        "      <td> 31</td>\n",
        "      <td>  9</td>\n",
        "      <td> 1</td>\n",
        "    </tr>\n",
        "    <tr>\n",
        "      <th>2011</th>\n",
        "      <td> 17</td>\n",
        "      <td> 121</td>\n",
        "      <td>  2</td>\n",
        "      <td> 135</td>\n",
        "      <td> 10</td>\n",
        "      <td> 58</td>\n",
        "      <td>  9</td>\n",
        "      <td> 0</td>\n",
        "    </tr>\n",
        "    <tr>\n",
        "      <th>2012</th>\n",
        "      <td> 10</td>\n",
        "      <td>  98</td>\n",
        "      <td>  2</td>\n",
        "      <td>  83</td>\n",
        "      <td> 18</td>\n",
        "      <td> 47</td>\n",
        "      <td> 32</td>\n",
        "      <td> 0</td>\n",
        "    </tr>\n",
        "    <tr>\n",
        "      <th>2013</th>\n",
        "      <td> 22</td>\n",
        "      <td> 193</td>\n",
        "      <td>  6</td>\n",
        "      <td>  94</td>\n",
        "      <td> 21</td>\n",
        "      <td> 91</td>\n",
        "      <td> 52</td>\n",
        "      <td> 6</td>\n",
        "    </tr>\n",
        "    <tr>\n",
        "      <th>2014</th>\n",
        "      <td> 11</td>\n",
        "      <td>  75</td>\n",
        "      <td>  2</td>\n",
        "      <td> 101</td>\n",
        "      <td> 22</td>\n",
        "      <td> 87</td>\n",
        "      <td> 24</td>\n",
        "      <td> 5</td>\n",
        "    </tr>\n",
        "  </tbody>\n",
        "</table>\n",
        "<p>12 rows \u00d7 8 columns</p>\n",
        "</div>"
       ],
       "metadata": {},
       "output_type": "pyout",
       "prompt_number": 371,
       "text": [
        "                   [0, 250000)                      [250000, 500000)  \\\n",
        "neighborhood  BROOKLYN HEIGHTS  BEDFORD STUYVESANT  BROOKLYN HEIGHTS   \n",
        "2003                        19                  72                13   \n",
        "2004                        14                  73                12   \n",
        "2005                        11                 120                10   \n",
        "2006                         9                  73                 0   \n",
        "2007                         7                  90                 1   \n",
        "2008                         8                  77                 4   \n",
        "2009                        18                 105                 0   \n",
        "2010                         9                 138                 0   \n",
        "2011                        17                 121                 2   \n",
        "2012                        10                  98                 2   \n",
        "2013                        22                 193                 6   \n",
        "2014                        11                  75                 2   \n",
        "\n",
        "                                  [500000, 1000000)                      \\\n",
        "neighborhood  BEDFORD STUYVESANT   BROOKLYN HEIGHTS  BEDFORD STUYVESANT   \n",
        "2003                         116                 10                   0   \n",
        "2004                         127                 11                   6   \n",
        "2005                         180                  9                  12   \n",
        "2006                         201                 12                  31   \n",
        "2007                         127                 18                  32   \n",
        "2008                         115                  8                  28   \n",
        "2009                         113                  6                  28   \n",
        "2010                         102                 10                  31   \n",
        "2011                         135                 10                  58   \n",
        "2012                          83                 18                  47   \n",
        "2013                          94                 21                  91   \n",
        "2014                         101                 22                  87   \n",
        "\n",
        "              [1000000, 3000000)                      \n",
        "neighborhood    BROOKLYN HEIGHTS  BEDFORD STUYVESANT  \n",
        "2003                           5                   0  \n",
        "2004                           3                   0  \n",
        "2005                          10                   0  \n",
        "2006                           6                   0  \n",
        "2007                           1                   0  \n",
        "2008                           4                   0  \n",
        "2009                           2                   0  \n",
        "2010                           9                   1  \n",
        "2011                           9                   0  \n",
        "2012                          32                   0  \n",
        "2013                          52                   6  \n",
        "2014                          24                   5  \n",
        "\n",
        "[12 rows x 8 columns]"
       ]
      }
     ],
     "prompt_number": 371
    },
    {
     "cell_type": "code",
     "collapsed": false,
     "input": [
      "price_group = ['[0, 250000)', '[250000, 500000)', '[500000, 1000000)', '[1000000, 3000000)']\n",
      "\n",
      "fig, axes = plt.subplots(nrows=2, ncols=2, figsize=(18, 10))\n",
      "\n",
      "df_price_compare['[0, 250000)'].plot(ax=axes[0,0], marker = 'o')\n",
      "axes[0,0].set_title('%s Price Range\\n' % price_group[0])\n",
      "axes[0,0].set_ylabel('Sales Volume')\n",
      "\n",
      "df_price_compare['[250000, 500000)'].plot(ax=axes[0,1], marker = 'o')\n",
      "axes[0,1].set_title('%s Price Range\\n' % price_group[1])\n",
      "axes[0,1].set_ylabel('Sales Volume')\n",
      "\n",
      "df_price_compare['[500000, 1000000)'].plot(ax=axes[1,0], marker = 'o')\n",
      "axes[1,0].set_title('%s Price Range\\n' % price_group[2])\n",
      "axes[1,0].set_ylabel('Sales Volume')\n",
      "\n",
      "df_price_compare['[1000000, 3000000)'].plot(ax=axes[1,1], marker = 'o')\n",
      "axes[1,1].set_title('%s Price Range\\n' % price_group[3])\n",
      "axes[1,1].set_ylabel('Sales Volume')"
     ],
     "language": "python",
     "metadata": {},
     "outputs": [
      {
       "metadata": {},
       "output_type": "pyout",
       "prompt_number": 372,
       "text": [
        "<matplotlib.text.Text at 0x1264614d0>"
       ]
      },
      {
       "metadata": {},
       "output_type": "display_data",
       "png": "[encoded data removed]",
       "text": [
        "<matplotlib.figure.Figure at 0x126520110>"
       ]
      }
     ],
     "prompt_number": 372
    },
    {
     "cell_type": "markdown",
     "metadata": {},
     "source": [
      "Above are the sales volume for Brookly Heights and Bedford-Stuyvesant based on price tier.  \n",
      "\n",
      "For properties valued below 1M dollars, Bedford-Stuyvesant realized significantly higher volumes of sales in the last eleven years.  For properties valued above 1M dollars, Brooklyn Heights realized continued growth in sales volume Y-o-Y.  Inventory in Brooklyn Heights is significantly lower than that of Bedford-Stuyvesant as most homes are full brownstones/townhouses.  Bed-Stuy has more inventory which is mixed used and apartments within townhouses.  "
     ]
    },
    {
     "cell_type": "heading",
     "level": 3,
     "metadata": {},
     "source": [
      "What neighborhoods have seen the highest turnover in 2014 (as measured by time-between sales of the same property)"
     ]
    },
    {
     "cell_type": "code",
     "collapsed": false,
     "input": [
      "df_turnover = df_res[['neighborhood','address','apartment_number','sale_date', 'unit_count']]\n",
      "\n",
      "df_turnover['unique_address'] = df_turnover.neighborhood.map(str) + \" \" + df_turnover.address.map(str) + \\\n",
      "\" \" + df_turnover.apartment_number.map(str)"
     ],
     "language": "python",
     "metadata": {},
     "outputs": [],
     "prompt_number": 820
    },
    {
     "cell_type": "markdown",
     "metadata": {},
     "source": [
      "All residential properties sold in our dataset.  I am creating a uniqueID which is a concatenation of neighborhood, address, and apartment number."
     ]
    },
    {
     "cell_type": "code",
     "collapsed": false,
     "input": [
      "properties_sold_in_2014 = df_turnover[df_turnover.index.year == 2014]  ## attain a list of properties sold in 2014 and use this\n",
      "                                                                       ## list to subset the larger dataframe\n",
      "    \n",
      "properties_sold_in_2014['unique_address'] = properties_sold_in_2014.neighborhood.map(str) + \" \" \\\n",
      "    + properties_sold_in_2014.address.map(str) + \" \" + properties_sold_in_2014.apartment_number.map(str)"
     ],
     "language": "python",
     "metadata": {},
     "outputs": [],
     "prompt_number": 822
    },
    {
     "cell_type": "markdown",
     "metadata": {},
     "source": [
      "All residential properties sold in 2014.  Creating similar Unique ID to locate instances of the same property."
     ]
    },
    {
     "cell_type": "code",
     "collapsed": false,
     "input": [
      "properties_sold = df_turnover[df_turnover.unique_address.isin(properties_sold_in_2014.unique_address)]"
     ],
     "language": "python",
     "metadata": {},
     "outputs": [],
     "prompt_number": 823
    },
    {
     "cell_type": "markdown",
     "metadata": {},
     "source": [
      "Dataframe 'properties sold' contains all properties sold in 2014 that were sold at some other date as well as properties sold in 2014 that were never sold before."
     ]
    },
    {
     "cell_type": "code",
     "collapsed": false,
     "input": [
      "val = properties_sold.unique_address.value_counts()\n",
      "values = val[val > 1].index"
     ],
     "language": "python",
     "metadata": {},
     "outputs": [],
     "prompt_number": 858
    },
    {
     "cell_type": "markdown",
     "metadata": {},
     "source": [
      "Use this list 'values' of Unique IDs to filter out properties that were sold for the first time in 2014."
     ]
    },
    {
     "cell_type": "code",
     "collapsed": false,
     "input": [
      "df_to = properties_sold[properties_sold.unique_address.isin(values)].sort(['neighborhood','address','apartment_number','sale_date'])"
     ],
     "language": "python",
     "metadata": {},
     "outputs": [],
     "prompt_number": 829
    },
    {
     "cell_type": "code",
     "collapsed": false,
     "input": [
      "group_df_to = df_to.groupby(['unique_address'])['sale_date']"
     ],
     "language": "python",
     "metadata": {},
     "outputs": [],
     "prompt_number": 837
    },
    {
     "cell_type": "code",
     "collapsed": false,
     "input": [
      "df_to_time = pd.DataFrame(group_df_to.agg([('turnover', date_diff)]))"
     ],
     "language": "python",
     "metadata": {},
     "outputs": [],
     "prompt_number": 840
    },
    {
     "cell_type": "code",
     "collapsed": false,
     "input": [
      "df_to_time1 = pd.merge(to_time, clean, left_index = True, right_on = 'unique_address', how = 'inner')\n",
      "df_to_time1.index = df_to_time1.turnover\n",
      "df_to_time1 = df_to_time1.drop_duplicates()"
     ],
     "language": "python",
     "metadata": {},
     "outputs": [],
     "prompt_number": 846
    },
    {
     "cell_type": "code",
     "collapsed": false,
     "input": [
      "df_to_time1.turnover = df_to_time1.turnover.astype('timedelta64[D]').astype(int)"
     ],
     "language": "python",
     "metadata": {},
     "outputs": [],
     "prompt_number": 854
    },
    {
     "cell_type": "code",
     "collapsed": false,
     "input": [
      "df_to_time2 = pd.DataFrame(df_to_time1.groupby('neighborhood')['turnover'].agg('mean'))\n",
      "df_to_time2.sort(['turnover']).astype(int)[1:21]"
     ],
     "language": "python",
     "metadata": {},
     "outputs": [
      {
       "html": [
        "<div style=\"max-height:1000px;max-width:1500px;overflow:auto;\">\n",
        "<table border=\"1\" class=\"dataframe\">\n",
        "  <thead>\n",
        "    <tr style=\"text-align: right;\">\n",
        "      <th></th>\n",
        "      <th>turnover</th>\n",
        "    </tr>\n",
        "    <tr>\n",
        "      <th>neighborhood</th>\n",
        "      <th></th>\n",
        "    </tr>\n",
        "  </thead>\n",
        "  <tbody>\n",
        "    <tr>\n",
        "      <th>PORT IVORY</th>\n",
        "      <td>  215</td>\n",
        "    </tr>\n",
        "    <tr>\n",
        "      <th>JAMAICA</th>\n",
        "      <td>  299</td>\n",
        "    </tr>\n",
        "    <tr>\n",
        "      <th>OCEAN PARKWAY-SOUTH</th>\n",
        "      <td>  577</td>\n",
        "    </tr>\n",
        "    <tr>\n",
        "      <th>EAST NEW YORK</th>\n",
        "      <td>  739</td>\n",
        "    </tr>\n",
        "    <tr>\n",
        "      <th>KENSINGTON</th>\n",
        "      <td>  746</td>\n",
        "    </tr>\n",
        "    <tr>\n",
        "      <th>BROOKLYN HEIGHTS</th>\n",
        "      <td>  803</td>\n",
        "    </tr>\n",
        "    <tr>\n",
        "      <th>RED HOOK</th>\n",
        "      <td>  855</td>\n",
        "    </tr>\n",
        "    <tr>\n",
        "      <th>OCEAN PARKWAY-NORTH</th>\n",
        "      <td>  934</td>\n",
        "    </tr>\n",
        "    <tr>\n",
        "      <th>WILLOWBROOK</th>\n",
        "      <td>  942</td>\n",
        "    </tr>\n",
        "    <tr>\n",
        "      <th>ARROCHAR-SHORE ACRES</th>\n",
        "      <td>  946</td>\n",
        "    </tr>\n",
        "    <tr>\n",
        "      <th>RIDGEWOOD</th>\n",
        "      <td>  949</td>\n",
        "    </tr>\n",
        "    <tr>\n",
        "      <th>MIDWOOD</th>\n",
        "      <td>  961</td>\n",
        "    </tr>\n",
        "    <tr>\n",
        "      <th>BRIARWOOD</th>\n",
        "      <td> 1079</td>\n",
        "    </tr>\n",
        "    <tr>\n",
        "      <th>COLLEGE POINT</th>\n",
        "      <td> 1106</td>\n",
        "    </tr>\n",
        "    <tr>\n",
        "      <th>PARK SLOPE SOUTH</th>\n",
        "      <td> 1109</td>\n",
        "    </tr>\n",
        "    <tr>\n",
        "      <th>ARVERNE</th>\n",
        "      <td> 1163</td>\n",
        "    </tr>\n",
        "    <tr>\n",
        "      <th>WILLIAMSBURG-NORTH</th>\n",
        "      <td> 1187</td>\n",
        "    </tr>\n",
        "    <tr>\n",
        "      <th>INWOOD</th>\n",
        "      <td> 1187</td>\n",
        "    </tr>\n",
        "    <tr>\n",
        "      <th>HAMMELS</th>\n",
        "      <td> 1202</td>\n",
        "    </tr>\n",
        "    <tr>\n",
        "      <th>BUSHWICK</th>\n",
        "      <td> 1227</td>\n",
        "    </tr>\n",
        "  </tbody>\n",
        "</table>\n",
        "<p>20 rows \u00d7 1 columns</p>\n",
        "</div>"
       ],
       "metadata": {},
       "output_type": "pyout",
       "prompt_number": 858,
       "text": [
        "                      turnover\n",
        "neighborhood                  \n",
        "PORT IVORY                 215\n",
        "JAMAICA                    299\n",
        "OCEAN PARKWAY-SOUTH        577\n",
        "EAST NEW YORK              739\n",
        "KENSINGTON                 746\n",
        "BROOKLYN HEIGHTS           803\n",
        "RED HOOK                   855\n",
        "OCEAN PARKWAY-NORTH        934\n",
        "WILLOWBROOK                942\n",
        "ARROCHAR-SHORE ACRES       946\n",
        "RIDGEWOOD                  949\n",
        "MIDWOOD                    961\n",
        "BRIARWOOD                 1079\n",
        "COLLEGE POINT             1106\n",
        "PARK SLOPE SOUTH          1109\n",
        "ARVERNE                   1163\n",
        "WILLIAMSBURG-NORTH        1187\n",
        "INWOOD                    1187\n",
        "HAMMELS                   1202\n",
        "BUSHWICK                  1227\n",
        "\n",
        "[20 rows x 1 columns]"
       ]
      }
     ],
     "prompt_number": 858
    },
    {
     "cell_type": "markdown",
     "metadata": {},
     "source": [
      "NEED TO WRITE CONTENT HERE"
     ]
    },
    {
     "cell_type": "heading",
     "level": 1,
     "metadata": {},
     "source": [
      "Advanced"
     ]
    },
    {
     "cell_type": "heading",
     "level": 3,
     "metadata": {},
     "source": [
      "What does the distribution of sale-price look like for 2014 sales of residential properties having more than 6 floors?"
     ]
    },
    {
     "cell_type": "code",
     "collapsed": false,
     "input": [
      "pluto_bk = pd.read_csv('nyc_pluto/BK.csv')\n",
      "pluto_bx = pd.read_csv('nyc_pluto/BX.csv')\n",
      "pluto_man = pd.read_csv('nyc_pluto/MN.csv')\n",
      "pluto_qn = pd.read_csv('nyc_pluto/QN.csv')\n",
      "pluto_si = pd.read_csv('nyc_pluto/SI.csv')"
     ],
     "language": "python",
     "metadata": {},
     "outputs": [],
     "prompt_number": 563
    },
    {
     "cell_type": "code",
     "collapsed": false,
     "input": [
      "pluto = pd.concat([pluto_bk, pluto_bx, pluto_man, pluto_qn, pluto_si])"
     ],
     "language": "python",
     "metadata": {},
     "outputs": [],
     "prompt_number": 235
    },
    {
     "cell_type": "code",
     "collapsed": false,
     "input": [
      "pluto_floors = pluto[['Borough','Lot','Address', 'NumFloors']]"
     ],
     "language": "python",
     "metadata": {},
     "outputs": [],
     "prompt_number": 483
    },
    {
     "cell_type": "code",
     "collapsed": false,
     "input": [
      "floors  = pd.merge(df_res, pluto_floors, left_on = 'address', right_on = 'Address', how = 'left')\n",
      "floors.index = floors['sale_date']\n",
      "floors2014 = floors[(floors.index.year == 2014) & (floors.NumFloors > 6) & (floors.sale_price > 0)]"
     ],
     "language": "python",
     "metadata": {},
     "outputs": [],
     "prompt_number": 477
    },
    {
     "cell_type": "code",
     "collapsed": false,
     "input": [
      "fig2, ax2 = plt.subplots(1,1, figsize = (12, 6))\n",
      "ax2.hist(np.log(floors2014.sale_price), bins = 100, color = 'lightseagreen', alpha = .65)\n",
      "ax2.set_title(\"Sale Price Distribution for Residential \\nProperties with more than 6 Floors\\n\")\n",
      "ax2.set_xlabel(\"np.log(sale_price)\")\n",
      "ax2.set_ylabel(\"Number of Properties Sold\")\n",
      "ax2.set_xlim(8, 18)"
     ],
     "language": "python",
     "metadata": {},
     "outputs": [
      {
       "metadata": {},
       "output_type": "pyout",
       "prompt_number": 561,
       "text": [
        "(8, 18)"
       ]
      },
      {
       "metadata": {},
       "output_type": "display_data",
       "png": "[encoded data removed]",
       "text": [
        "<matplotlib.figure.Figure at 0x132894a90>"
       ]
      }
     ],
     "prompt_number": 561
    },
    {
     "cell_type": "heading",
     "level": 3,
     "metadata": {},
     "source": [
      "What is the total OfficeArea sold in 2014?"
     ]
    },
    {
     "cell_type": "code",
     "collapsed": false,
     "input": [
      "pluto_office_area = pluto[['Borough','Lot','Address', 'OfficeArea']]"
     ],
     "language": "python",
     "metadata": {},
     "outputs": [],
     "prompt_number": 488
    },
    {
     "cell_type": "code",
     "collapsed": false,
     "input": [
      "officeArea = pd.merge(df1, pluto_office_area, left_on = 'address', right_on = 'Address', how = 'left')"
     ],
     "language": "python",
     "metadata": {},
     "outputs": [],
     "prompt_number": 540
    },
    {
     "cell_type": "code",
     "collapsed": false,
     "input": [
      "officeArea.index = officeArea['sale_date']\n",
      "officeArea2014 = officeArea[(officeArea.index.year == 2014) & (officeArea.OfficeArea > 0)]"
     ],
     "language": "python",
     "metadata": {},
     "outputs": [],
     "prompt_number": 541
    },
    {
     "cell_type": "code",
     "collapsed": false,
     "input": [
      "print \"Total Office Area Sold in NYC in 2014 is %s\" % officeArea2014.OfficeArea.sum()"
     ],
     "language": "python",
     "metadata": {},
     "outputs": [
      {
       "output_type": "stream",
       "stream": "stdout",
       "text": [
        "Total Office Area Sold in NYC in 2014 is 70061616.0\n"
       ]
      }
     ],
     "prompt_number": 543
    },
    {
     "cell_type": "code",
     "collapsed": false,
     "input": [
      "officeArea2014 = officeArea[(officeArea.OfficeArea > 0)]"
     ],
     "language": "python",
     "metadata": {},
     "outputs": [],
     "prompt_number": 544
    },
    {
     "cell_type": "code",
     "collapsed": false,
     "input": [
      "grouped_OA = officeArea2014.groupby(officeArea2014.index.year)['OfficeArea']\n",
      "df_oa = pd.DataFrame(grouped_OA.agg('sum'))\n",
      "df_oa['OfficeArea'] = df_oa['OfficeArea']/1000000 "
     ],
     "language": "python",
     "metadata": {},
     "outputs": []
    },
    {
     "cell_type": "code",
     "collapsed": false,
     "input": [
      "df_oa.plot(kind = 'bar', color = 'lightseagreen', figsize= (12,6), alpha = .65)\n",
      "plt.title(\"Total Office Area Sold in 2014 \\n(until November 11)\\n\\nNote: November and December Sales are Missing\\n\")\n",
      "plt.ylabel(\"Total Office Area (millions)\")\n"
     ],
     "language": "python",
     "metadata": {},
     "outputs": [
      {
       "metadata": {},
       "output_type": "pyout",
       "prompt_number": 859,
       "text": [
        "<matplotlib.text.Text at 0x131512090>"
       ]
      },
      {
       "metadata": {},
       "output_type": "display_data",
       "png": "[encoded data removed]",
       "text": [
        "<matplotlib.figure.Figure at 0x131363bd0>"
       ]
      }
     ],
     "prompt_number": 859
    },
    {
     "cell_type": "code",
     "collapsed": false,
     "input": [
      "df_oa"
     ],
     "language": "python",
     "metadata": {},
     "outputs": [
      {
       "html": [
        "<div style=\"max-height:1000px;max-width:1500px;overflow:auto;\">\n",
        "<table border=\"1\" class=\"dataframe\">\n",
        "  <thead>\n",
        "    <tr style=\"text-align: right;\">\n",
        "      <th></th>\n",
        "      <th>OfficeArea</th>\n",
        "    </tr>\n",
        "  </thead>\n",
        "  <tbody>\n",
        "    <tr>\n",
        "      <th>2003</th>\n",
        "      <td>  83.566953</td>\n",
        "    </tr>\n",
        "    <tr>\n",
        "      <th>2004</th>\n",
        "      <td> 144.695097</td>\n",
        "    </tr>\n",
        "    <tr>\n",
        "      <th>2005</th>\n",
        "      <td> 235.916532</td>\n",
        "    </tr>\n",
        "    <tr>\n",
        "      <th>2006</th>\n",
        "      <td> 128.866254</td>\n",
        "    </tr>\n",
        "    <tr>\n",
        "      <th>2007</th>\n",
        "      <td> 195.592386</td>\n",
        "    </tr>\n",
        "    <tr>\n",
        "      <th>2008</th>\n",
        "      <td>  75.730511</td>\n",
        "    </tr>\n",
        "    <tr>\n",
        "      <th>2009</th>\n",
        "      <td>  65.106582</td>\n",
        "    </tr>\n",
        "    <tr>\n",
        "      <th>2010</th>\n",
        "      <td>  71.316525</td>\n",
        "    </tr>\n",
        "    <tr>\n",
        "      <th>2011</th>\n",
        "      <td>  87.046824</td>\n",
        "    </tr>\n",
        "    <tr>\n",
        "      <th>2012</th>\n",
        "      <td> 154.772398</td>\n",
        "    </tr>\n",
        "    <tr>\n",
        "      <th>2013</th>\n",
        "      <td> 398.513319</td>\n",
        "    </tr>\n",
        "    <tr>\n",
        "      <th>2014</th>\n",
        "      <td>  70.061616</td>\n",
        "    </tr>\n",
        "  </tbody>\n",
        "</table>\n",
        "<p>12 rows \u00d7 1 columns</p>\n",
        "</div>"
       ],
       "metadata": {},
       "output_type": "pyout",
       "prompt_number": 860,
       "text": [
        "      OfficeArea\n",
        "2003   83.566953\n",
        "2004  144.695097\n",
        "2005  235.916532\n",
        "2006  128.866254\n",
        "2007  195.592386\n",
        "2008   75.730511\n",
        "2009   65.106582\n",
        "2010   71.316525\n",
        "2011   87.046824\n",
        "2012  154.772398\n",
        "2013  398.513319\n",
        "2014   70.061616\n",
        "\n",
        "[12 rows x 1 columns]"
       ]
      }
     ],
     "prompt_number": 860
    },
    {
     "cell_type": "code",
     "collapsed": false,
     "input": [
      "df1.groupby(df1.index.year)['unit_count'].agg('sum')"
     ],
     "language": "python",
     "metadata": {},
     "outputs": [
      {
       "metadata": {},
       "output_type": "pyout",
       "prompt_number": 562,
       "text": [
        "2003    117013\n",
        "2004    124254\n",
        "2005    121680\n",
        "2006    114070\n",
        "2007    105301\n",
        "2008     89337\n",
        "2009     72808\n",
        "2010     67261\n",
        "2011     71450\n",
        "2012     81459\n",
        "2013     94553\n",
        "2014     69462\n",
        "Name: unit_count, dtype: int64"
       ]
      }
     ],
     "prompt_number": 562
    },
    {
     "cell_type": "code",
     "collapsed": false,
     "input": [],
     "language": "python",
     "metadata": {},
     "outputs": [],
     "prompt_number": 860
    },
    {
     "cell_type": "code",
     "collapsed": false,
     "input": [],
     "language": "python",
     "metadata": {},
     "outputs": [],
     "prompt_number": 860
    },
    {
     "cell_type": "code",
     "collapsed": false,
     "input": [],
     "language": "python",
     "metadata": {},
     "outputs": [],
     "prompt_number": 860
    },
    {
     "cell_type": "code",
     "collapsed": false,
     "input": [],
     "language": "python",
     "metadata": {},
     "outputs": [],
     "prompt_number": 860
    },
    {
     "cell_type": "code",
     "collapsed": false,
     "input": [],
     "language": "python",
     "metadata": {},
     "outputs": [],
     "prompt_number": 860
    },
    {
     "cell_type": "code",
     "collapsed": false,
     "input": [],
     "language": "python",
     "metadata": {},
     "outputs": [],
     "prompt_number": 754
    },
    {
     "cell_type": "code",
     "collapsed": false,
     "input": [],
     "language": "python",
     "metadata": {},
     "outputs": [],
     "prompt_number": 860
    },
    {
     "cell_type": "code",
     "collapsed": false,
     "input": [],
     "language": "python",
     "metadata": {},
     "outputs": [],
     "prompt_number": 834
    },
    {
     "cell_type": "code",
     "collapsed": false,
     "input": [],
     "language": "python",
     "metadata": {},
     "outputs": [],
     "prompt_number": 860
    },
    {
     "cell_type": "code",
     "collapsed": false,
     "input": [],
     "language": "python",
     "metadata": {},
     "outputs": [],
     "prompt_number": 801
    },
    {
     "cell_type": "code",
     "collapsed": false,
     "input": [],
     "language": "python",
     "metadata": {},
     "outputs": [],
     "prompt_number": 802
    },
    {
     "cell_type": "code",
     "collapsed": false,
     "input": [],
     "language": "python",
     "metadata": {},
     "outputs": [],
     "prompt_number": 803
    },
    {
     "cell_type": "code",
     "collapsed": false,
     "input": [],
     "language": "python",
     "metadata": {},
     "outputs": [],
     "prompt_number": 860
    },
    {
     "cell_type": "code",
     "collapsed": false,
     "input": [],
     "language": "python",
     "metadata": {},
     "outputs": [],
     "prompt_number": 817
    },
    {
     "cell_type": "code",
     "collapsed": false,
     "input": [],
     "language": "python",
     "metadata": {},
     "outputs": [],
     "prompt_number": 860
    },
    {
     "cell_type": "code",
     "collapsed": false,
     "input": [],
     "language": "python",
     "metadata": {},
     "outputs": []
    }
   ],
   "metadata": {}
  }
 ]
}