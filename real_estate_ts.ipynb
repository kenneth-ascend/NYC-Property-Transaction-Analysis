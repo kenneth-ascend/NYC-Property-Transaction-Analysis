{
 "metadata": {
  "name": "",
  "signature": "sha256:ea10e0b2dda912ae0dd89656d375f545badae40b754b0e9b4ba5773af938f095"
 },
 "nbformat": 3,
 "nbformat_minor": 0,
 "worksheets": [
  {
   "cells": [
    {
     "cell_type": "code",
     "collapsed": false,
     "input": [
      "import lxml.html\n",
      "import urllib2\n",
      "import requests\n",
      "import urllib\n",
      "import pandas as pd\n",
      "\n",
      "import datetime\n",
      "import os\n",
      "import xlrd\n",
      "import csv"
     ],
     "language": "python",
     "metadata": {},
     "outputs": [],
     "prompt_number": 1
    },
    {
     "cell_type": "code",
     "collapsed": false,
     "input": [
      "r = requests.get(\"http://www.nyc.gov/html/dof/html/property/rolling_sales_data_annualized.shtml\")\n",
      "html = lxml.html.fromstring(r.text)\n",
      "links = html.xpath(\"(//a)[@target='_blank']\")\n",
      "\n",
      "download_links = []\n",
      "for ind, val in enumerate(links):\n",
      "    if '.xls' in str(val.get(\"href\")):\n",
      "        download_links.append(str(val.get(\"href\")))\n",
      "    else:\n",
      "        pass\n",
      "\n",
      "download_links = download_links[12:]"
     ],
     "language": "python",
     "metadata": {},
     "outputs": [],
     "prompt_number": 2
    },
    {
     "cell_type": "code",
     "collapsed": false,
     "input": [
      "years = [2013, 2012, 2011, 2010, 2009, 2008, 2007, 2006, 2005, 2004, 2003]\n",
      "borough = ['Manhattan', 'Bronx', 'Brooklyn', 'Queens', 'Staten Island']\n",
      "root_url = 'http://www.nyc.gov/html/dof'\n",
      "index = 0\n",
      "\n",
      "for year in years:\n",
      "    for name in borough:\n",
      "        fileName = str(year) + '_' + str(name) + '.xls'\n",
      "\n",
      "        addOn = download_links[index][5:].replace(\" \", \"%20\")\n",
      "        download_link = root_url + addOn\n",
      "        urllib.urlretrieve(download_link, 'real_estate' + fileName) ## DOUBLE CHECK THIS \n",
      "        print \"downloading......%s\" % fileName\n",
      "        index += 1"
     ],
     "language": "python",
     "metadata": {},
     "outputs": [],
     "prompt_number": 231
    },
    {
     "cell_type": "code",
     "collapsed": false,
     "input": [
      "skip = {2003: 3,\n",
      "        2004: 3,\n",
      "        2005: 3,\n",
      "        2005: 3,\n",
      "        2006: 3,\n",
      "        2007: 3,\n",
      "        2008: 3,\n",
      "        2009: 3,\n",
      "        2010: 3,\n",
      "        2011: 4,\n",
      "        2012: 4,\n",
      "        2013: 4}\n",
      "\n",
      "colNames = ['borough', 'neighborhood', 'building_class_category', 'tax_class_at_present', 'block', 'lot', 'ease-ment',\\\n",
      "            'building_class_at_present', 'address', 'apartment_number', 'zip_code', 'residential_units', 'commercial_units', \\\n",
      "            'total_units', 'land_square_feet', 'gross_square_feet', 'year_built', 'tax_class_at_time_of_sale', \\\n",
      "            'building_class_at_time_of_sale', 'sale_price', 'sale_date']\n",
      " \n",
      "def xldate_to_datetime(xldate):\n",
      "    temp = datetime.datetime(1900, 1, 1)\n",
      "    delta = datetime.timedelta(days = xldate)\n",
      "    return temp + delta - datetime.timedelta(days = 2)"
     ],
     "language": "python",
     "metadata": {},
     "outputs": [],
     "prompt_number": 2
    },
    {
     "cell_type": "code",
     "collapsed": false,
     "input": [
      "# cnt = 0\n",
      "# tables = {}\n",
      "# for i in os.listdir(\"/Users/krluna/python/twosigma/real_estate/\")[:5]:\n",
      "#     loc = \"/Users/krluna/python/twosigma/real_estate/\" + i\n",
      "#     xls = pd.read_excel(loc, 0, skiprows = skip[int(i[0:4])], names = colNames)\n",
      "#     tables[str(i[:-4])] = xls\n",
      "#     print str(i) + \" files have \" + str(skip[int(i[0:4])]) + \" rows to skip\"  \n",
      "    \n",
      "    \n",
      "#     loc = \"/Users/krluna/python/twosigma/real_estate/\" + i\n",
      "#         xls = pd.read_excel(loc, 0, skiprows = skip[int(i[0:4])], names = colNames)\n",
      "#         tables[str(i[:-4])] = xls\n",
      "        \n",
      "# #         xls = pd.read_excel(\"/Users/krluna/python/twosigma/real_estate/\" + i, 0, \\\n",
      "# #                             skiprows = skip[int(i[0:4])], names = colNames) \n",
      "# #         tables[str(i[:-4])] = xls\n",
      "#         print str(i) + \" files have \" + str(skip[int(i[0:4])]) + \" rows to skip\"  \n",
      "#         total_records = total_records + len(tables[str(i[:-4])])\n",
      "        "
     ],
     "language": "python",
     "metadata": {},
     "outputs": [
      {
       "output_type": "stream",
       "stream": "stdout",
       "text": [
        "2003_Bronx.xls files have 3 rows to skip\n",
        "2003_Brooklyn.xls files have 3 rows to skip"
       ]
      },
      {
       "output_type": "stream",
       "stream": "stdout",
       "text": [
        "\n",
        "2003_Manhattan.xls files have 3 rows to skip"
       ]
      },
      {
       "output_type": "stream",
       "stream": "stdout",
       "text": [
        "\n",
        "2003_Queens.xls files have 3 rows to skip"
       ]
      },
      {
       "output_type": "stream",
       "stream": "stdout",
       "text": [
        "\n",
        "2003_SI.xls files have 3 rows to skip"
       ]
      },
      {
       "output_type": "stream",
       "stream": "stdout",
       "text": [
        "\n"
       ]
      }
     ],
     "prompt_number": 16
    },
    {
     "cell_type": "code",
     "collapsed": false,
     "input": [
      "tables = {}\n",
      "total_records = 0 \n",
      "\n",
      "for i in os.listdir(\"/Users/krluna/python/twosigma/real_estate/\"):\n",
      "#     print i\n",
      "    \n",
      "    try:\n",
      "        loc = \"/Users/krluna/python/twosigma/real_estate/\" + i\n",
      "        xls = pd.read_excel(loc, 0, skiprows = skip[int(i[0:4])], names = colNames)\n",
      "        tables[str(i[:-4])] = xls\n",
      "        print str(i) + \" files has \" + str(skip[int(i[0:4])]) + \" rows to skip\"  \n",
      "        total_records = total_records + len(tables[str(i[:-4])])\n",
      "    \n",
      "    except:\n",
      "        \n",
      "        wb = xlrd.open_workbook(\"/Users/krluna/python/twosigma/real_estate/\" + i)\n",
      "        sh = wb.sheet_by_name(wb.sheet_names()[0])\n",
      "        new_csv = \"/Users/krluna/python/twosigma/real_estate/\" + i[:-4] + '.csv'\n",
      "        your_csv_file = open(new_csv, 'wb')\n",
      "        wr = csv.writer(your_csv_file, quoting=csv.QUOTE_ALL)\n",
      "\n",
      "        for rownum in xrange(sh.nrows):\n",
      "                wr.writerow(sh.row_values(rownum))\n",
      "\n",
      "        your_csv_file.close()\n",
      "\n",
      "        table = pd.read_csv(new_csv, skiprows = skip[int(i[0:4])])\n",
      "        table['SALE DATE\\n'] = table['SALE DATE\\n'].apply(xldate_to_datetime) #convert from excel date value to date time \n",
      "        table.columns = colNames\n",
      "        tables[str(i[:-4])] = table\n",
      "        print str(i) + \" files has \" + str(skip[int(i[0:4])]) + \" rows to skip and Exception().\" \n",
      "        total_records = total_records + len(tables[str(i[:-4])])\n",
      "        \n",
      "print total_records"
     ],
     "language": "python",
     "metadata": {},
     "outputs": [
      {
       "output_type": "stream",
       "stream": "stdout",
       "text": [
        "2003_Bronx.xls files has 3 rows to skip\n",
        "2003_Brooklyn.xls files has 3 rows to skip"
       ]
      },
      {
       "output_type": "stream",
       "stream": "stdout",
       "text": [
        "\n",
        "2003_Manhattan.xls files has 3 rows to skip"
       ]
      },
      {
       "output_type": "stream",
       "stream": "stdout",
       "text": [
        "\n",
        "2003_Queens.xls files has 3 rows to skip"
       ]
      },
      {
       "output_type": "stream",
       "stream": "stdout",
       "text": [
        "\n",
        "2003_SI.xls files has 3 rows to skip"
       ]
      },
      {
       "output_type": "stream",
       "stream": "stdout",
       "text": [
        "\n",
        "2004_Bronx.xls files has 3 rows to skip"
       ]
      },
      {
       "output_type": "stream",
       "stream": "stdout",
       "text": [
        "\n",
        "2004_Brooklyn.xls files has 3 rows to skip"
       ]
      },
      {
       "output_type": "stream",
       "stream": "stdout",
       "text": [
        "\n",
        "2004_Manhattan.xls files has 3 rows to skip"
       ]
      },
      {
       "output_type": "stream",
       "stream": "stdout",
       "text": [
        "\n",
        "2004_Queens.xls files has 3 rows to skip"
       ]
      },
      {
       "output_type": "stream",
       "stream": "stdout",
       "text": [
        "\n",
        "2004_SI.xls files has 3 rows to skip"
       ]
      },
      {
       "output_type": "stream",
       "stream": "stdout",
       "text": [
        "\n",
        "2005_Bronx.xls files has 3 rows to skip"
       ]
      },
      {
       "output_type": "stream",
       "stream": "stdout",
       "text": [
        "\n",
        "2005_Brooklyn.xls files has 3 rows to skip"
       ]
      },
      {
       "output_type": "stream",
       "stream": "stdout",
       "text": [
        "\n",
        "2005_Manhattan.xls files has 3 rows to skip"
       ]
      },
      {
       "output_type": "stream",
       "stream": "stdout",
       "text": [
        "\n",
        "2005_Queens.xls files has 3 rows to skip"
       ]
      },
      {
       "output_type": "stream",
       "stream": "stdout",
       "text": [
        "\n",
        "2005_SI.xls files has 3 rows to skip"
       ]
      },
      {
       "output_type": "stream",
       "stream": "stdout",
       "text": [
        "\n",
        "2006_Bronx.xls files has 3 rows to skip"
       ]
      },
      {
       "output_type": "stream",
       "stream": "stdout",
       "text": [
        "\n",
        "2006_Brooklyn.xls files has 3 rows to skip"
       ]
      },
      {
       "output_type": "stream",
       "stream": "stdout",
       "text": [
        "\n",
        "2006_Manhattan.xls files has 3 rows to skip"
       ]
      },
      {
       "output_type": "stream",
       "stream": "stdout",
       "text": [
        "\n",
        "2006_Queens.xls files has 3 rows to skip"
       ]
      },
      {
       "output_type": "stream",
       "stream": "stdout",
       "text": [
        "\n",
        "2006_SI.xls files has 3 rows to skip"
       ]
      },
      {
       "output_type": "stream",
       "stream": "stdout",
       "text": [
        "\n",
        "2007_Bronx.xls files has 3 rows to skip"
       ]
      },
      {
       "output_type": "stream",
       "stream": "stdout",
       "text": [
        "\n",
        "2007_Brooklyn.xls files has 3 rows to skip"
       ]
      },
      {
       "output_type": "stream",
       "stream": "stdout",
       "text": [
        "\n",
        "2007_Manhattan.xls files has 3 rows to skip"
       ]
      },
      {
       "output_type": "stream",
       "stream": "stdout",
       "text": [
        "\n",
        "2007_Queens.xls files has 3 rows to skip"
       ]
      },
      {
       "output_type": "stream",
       "stream": "stdout",
       "text": [
        "\n",
        "2007_SI.xls files has 3 rows to skip"
       ]
      },
      {
       "output_type": "stream",
       "stream": "stdout",
       "text": [
        "\n",
        "2008_Bronx.xls files has 3 rows to skip"
       ]
      },
      {
       "output_type": "stream",
       "stream": "stdout",
       "text": [
        "\n",
        "2008_Brooklyn.xls files has 3 rows to skip"
       ]
      },
      {
       "output_type": "stream",
       "stream": "stdout",
       "text": [
        "\n",
        "2008_Manhattan.xls files has 3 rows to skip"
       ]
      },
      {
       "output_type": "stream",
       "stream": "stdout",
       "text": [
        "\n",
        "2008_Queens.xls files has 3 rows to skip"
       ]
      },
      {
       "output_type": "stream",
       "stream": "stdout",
       "text": [
        "\n",
        "2008_SI.xls files has 3 rows to skip"
       ]
      },
      {
       "output_type": "stream",
       "stream": "stdout",
       "text": [
        "\n",
        "2009_Bronx.xls files has 3 rows to skip"
       ]
      },
      {
       "output_type": "stream",
       "stream": "stdout",
       "text": [
        "\n",
        "2009_Brooklyn.xls files has 3 rows to skip"
       ]
      },
      {
       "output_type": "stream",
       "stream": "stdout",
       "text": [
        "\n",
        "2009_Manhattan.xls files has 3 rows to skip"
       ]
      },
      {
       "output_type": "stream",
       "stream": "stdout",
       "text": [
        "\n",
        "2009_Queens.xls files has 3 rows to skip"
       ]
      },
      {
       "output_type": "stream",
       "stream": "stdout",
       "text": [
        "\n",
        "2009_SI.xls files has 3 rows to skip"
       ]
      },
      {
       "output_type": "stream",
       "stream": "stdout",
       "text": [
        "\n",
        "2010_Bronx.xls files has 3 rows to skip"
       ]
      },
      {
       "output_type": "stream",
       "stream": "stdout",
       "text": [
        "\n",
        "2010_Brooklyn.xls files has 3 rows to skip"
       ]
      },
      {
       "output_type": "stream",
       "stream": "stdout",
       "text": [
        "\n",
        "2010_Manhattan.xls files has 3 rows to skip"
       ]
      },
      {
       "output_type": "stream",
       "stream": "stdout",
       "text": [
        "\n",
        "2010_Queens.xls files has 3 rows to skip"
       ]
      },
      {
       "output_type": "stream",
       "stream": "stdout",
       "text": [
        "\n",
        "2010_SI.xls files has 3 rows to skip"
       ]
      },
      {
       "output_type": "stream",
       "stream": "stdout",
       "text": [
        "\n",
        "2011_Bronx.xls files has 4 rows to skip"
       ]
      },
      {
       "output_type": "stream",
       "stream": "stdout",
       "text": [
        "\n",
        "2011_Brooklyn.xls files has 4 rows to skip"
       ]
      },
      {
       "output_type": "stream",
       "stream": "stdout",
       "text": [
        "\n",
        "2011_Manhattan.xls files has 4 rows to skip"
       ]
      },
      {
       "output_type": "stream",
       "stream": "stdout",
       "text": [
        "\n",
        "2011_Queens.xls files has 4 rows to skip"
       ]
      },
      {
       "output_type": "stream",
       "stream": "stdout",
       "text": [
        "\n",
        "2011_SI.xls files has 4 rows to skip"
       ]
      },
      {
       "output_type": "stream",
       "stream": "stdout",
       "text": [
        "\n",
        "2012_Bronx.xls files has 4 rows to skip"
       ]
      },
      {
       "output_type": "stream",
       "stream": "stdout",
       "text": [
        "\n",
        "2012_Brooklyn.xls files has 4 rows to skip and Exception()."
       ]
      },
      {
       "output_type": "stream",
       "stream": "stdout",
       "text": [
        "\n",
        "2012_Manhattan.xls files has 4 rows to skip and Exception()."
       ]
      },
      {
       "output_type": "stream",
       "stream": "stdout",
       "text": [
        "\n",
        "2012_Queens.xls files has 4 rows to skip and Exception()."
       ]
      },
      {
       "output_type": "stream",
       "stream": "stdout",
       "text": [
        "\n",
        "2012_SI.xls files has 4 rows to skip"
       ]
      },
      {
       "output_type": "stream",
       "stream": "stdout",
       "text": [
        "\n",
        "2013_Bronx.xls files has 4 rows to skip"
       ]
      },
      {
       "output_type": "stream",
       "stream": "stdout",
       "text": [
        "\n",
        "2013_Brooklyn.xls files has 4 rows to skip and Exception()."
       ]
      },
      {
       "output_type": "stream",
       "stream": "stdout",
       "text": [
        "\n",
        "2013_Manhattan.xls files has 4 rows to skip and Exception()."
       ]
      },
      {
       "output_type": "stream",
       "stream": "stdout",
       "text": [
        "\n",
        "2013_Queens.xls files has 4 rows to skip and Exception()."
       ]
      },
      {
       "output_type": "stream",
       "stream": "stdout",
       "text": [
        "\n",
        "2013_SI.xls files has 4 rows to skip"
       ]
      },
      {
       "output_type": "stream",
       "stream": "stdout",
       "text": [
        "\n",
        "1073901\n"
       ]
      }
     ],
     "prompt_number": 4
    },
    {
     "cell_type": "code",
     "collapsed": false,
     "input": [
      "df = tables['2003_Bronx']\n",
      "\n",
      "for i in tables.keys():\n",
      "    if i != '2003_Bronx':\n",
      "        df = pd.concat([df, tables[i]])\n",
      "    else:\n",
      "        pass     "
     ],
     "language": "python",
     "metadata": {},
     "outputs": [],
     "prompt_number": 5
    },
    {
     "cell_type": "code",
     "collapsed": false,
     "input": [],
     "language": "python",
     "metadata": {},
     "outputs": [],
     "prompt_number": 5
    },
    {
     "cell_type": "heading",
     "level": 4,
     "metadata": {},
     "source": [
      "What months are most active for property sales? Does this vary by Borough or by Building-Class?"
     ]
    },
    {
     "cell_type": "markdown",
     "metadata": {},
     "source": [
      "We will define 'most active' by volume of sales for any given time period.  To measure activity per month, we will take the average volume per unit month from years 2003 to 2013"
     ]
    },
    {
     "cell_type": "code",
     "collapsed": false,
     "input": [
      "bor = ['Manhattan', 'Bronx', 'Brooklyn', 'Queens', 'Staten Island']\n",
      "df1 = df.set_index('sale_date', drop = True)\n",
      "df1['unit_count'] = 1\n",
      "grouped_M = df1.groupby(lambda x: x.month)['unit_count']"
     ],
     "language": "python",
     "metadata": {},
     "outputs": [],
     "prompt_number": 6
    },
    {
     "cell_type": "code",
     "collapsed": false,
     "input": [
      "agg_sales = pd.DataFrame({'NYC_Total_Property_Sales': grouped_M.count(), \n",
      "              'NYC_Avg_Property_Sales': grouped_M.count()/11\n",
      "              }).astype(int)\n",
      "\n",
      "agg_sales"
     ],
     "language": "python",
     "metadata": {},
     "outputs": [
      {
       "html": [
        "<div style=\"max-height:1000px;max-width:1500px;overflow:auto;\">\n",
        "<table border=\"1\" class=\"dataframe\">\n",
        "  <thead>\n",
        "    <tr style=\"text-align: right;\">\n",
        "      <th></th>\n",
        "      <th>NYC_Avg_Property_Sales</th>\n",
        "      <th>NYC_Total_Property_Sales</th>\n",
        "    </tr>\n",
        "  </thead>\n",
        "  <tbody>\n",
        "    <tr>\n",
        "      <th>1 </th>\n",
        "      <td> 7589</td>\n",
        "      <td>  83485</td>\n",
        "    </tr>\n",
        "    <tr>\n",
        "      <th>2 </th>\n",
        "      <td> 7080</td>\n",
        "      <td>  77890</td>\n",
        "    </tr>\n",
        "    <tr>\n",
        "      <th>3 </th>\n",
        "      <td> 8252</td>\n",
        "      <td>  90776</td>\n",
        "    </tr>\n",
        "    <tr>\n",
        "      <th>4 </th>\n",
        "      <td> 7691</td>\n",
        "      <td>  84603</td>\n",
        "    </tr>\n",
        "    <tr>\n",
        "      <th>5 </th>\n",
        "      <td> 8292</td>\n",
        "      <td>  91215</td>\n",
        "    </tr>\n",
        "    <tr>\n",
        "      <th>6 </th>\n",
        "      <td> 9262</td>\n",
        "      <td> 101891</td>\n",
        "    </tr>\n",
        "    <tr>\n",
        "      <th>7 </th>\n",
        "      <td> 8332</td>\n",
        "      <td>  91659</td>\n",
        "    </tr>\n",
        "    <tr>\n",
        "      <th>8 </th>\n",
        "      <td> 8741</td>\n",
        "      <td>  96160</td>\n",
        "    </tr>\n",
        "    <tr>\n",
        "      <th>9 </th>\n",
        "      <td> 7992</td>\n",
        "      <td>  87915</td>\n",
        "    </tr>\n",
        "    <tr>\n",
        "      <th>10</th>\n",
        "      <td> 8093</td>\n",
        "      <td>  89025</td>\n",
        "    </tr>\n",
        "    <tr>\n",
        "      <th>11</th>\n",
        "      <td> 7669</td>\n",
        "      <td>  84367</td>\n",
        "    </tr>\n",
        "    <tr>\n",
        "      <th>12</th>\n",
        "      <td> 8628</td>\n",
        "      <td>  94915</td>\n",
        "    </tr>\n",
        "  </tbody>\n",
        "</table>\n",
        "<p>12 rows \u00d7 2 columns</p>\n",
        "</div>"
       ],
       "metadata": {},
       "output_type": "pyout",
       "prompt_number": 7,
       "text": [
        "    NYC_Avg_Property_Sales  NYC_Total_Property_Sales\n",
        "1                     7589                     83485\n",
        "2                     7080                     77890\n",
        "3                     8252                     90776\n",
        "4                     7691                     84603\n",
        "5                     8292                     91215\n",
        "6                     9262                    101891\n",
        "7                     8332                     91659\n",
        "8                     8741                     96160\n",
        "9                     7992                     87915\n",
        "10                    8093                     89025\n",
        "11                    7669                     84367\n",
        "12                    8628                     94915\n",
        "\n",
        "[12 rows x 2 columns]"
       ]
      }
     ],
     "prompt_number": 7
    },
    {
     "cell_type": "markdown",
     "metadata": {},
     "source": [
      "In aggregate, the most active month for property sales is June, averaging over 9,000 unit sales per month in the last eleven years.  "
     ]
    },
    {
     "cell_type": "code",
     "collapsed": false,
     "input": [
      "def mean_b(num):\n",
      "    return num.count() / 11\n",
      "\n",
      "funcs = [('average', mean_b)]\n",
      "grouped_MB = df1.groupby([(lambda x: x.month), 'borough'])['unit_count']\n"
     ],
     "language": "python",
     "metadata": {},
     "outputs": [],
     "prompt_number": 8
    },
    {
     "cell_type": "code",
     "collapsed": false,
     "input": [
      "agg_sales_boro = grouped_MB.agg(funcs).unstack()"
     ],
     "language": "python",
     "metadata": {},
     "outputs": [],
     "prompt_number": 9
    },
    {
     "cell_type": "code",
     "collapsed": false,
     "input": [
      "agg_sales_boro.index.name = 'month'\n",
      "\n",
      "agg_sales_boro.rename(columns = {1: 'Manhattan',\n",
      "                                 2: 'Bronx',\n",
      "                                 3: 'Brooklyn',\n",
      "                                 4: 'Queens',\n",
      "                                 5: 'Staten Island'}, inplace = True)"
     ],
     "language": "python",
     "metadata": {},
     "outputs": [],
     "prompt_number": 10
    },
    {
     "cell_type": "code",
     "collapsed": false,
     "input": [
      "agg_sales_boro"
     ],
     "language": "python",
     "metadata": {},
     "outputs": [
      {
       "html": [
        "<div style=\"max-height:1000px;max-width:1500px;overflow:auto;\">\n",
        "<table border=\"1\" class=\"dataframe\">\n",
        "  <thead>\n",
        "    <tr>\n",
        "      <th></th>\n",
        "      <th colspan=\"5\" halign=\"left\">average</th>\n",
        "    </tr>\n",
        "    <tr>\n",
        "      <th>borough</th>\n",
        "      <th>Manhattan</th>\n",
        "      <th>Bronx</th>\n",
        "      <th>Brooklyn</th>\n",
        "      <th>Queens</th>\n",
        "      <th>Staten Island</th>\n",
        "    </tr>\n",
        "    <tr>\n",
        "      <th>month</th>\n",
        "      <th></th>\n",
        "      <th></th>\n",
        "      <th></th>\n",
        "      <th></th>\n",
        "      <th></th>\n",
        "    </tr>\n",
        "  </thead>\n",
        "  <tbody>\n",
        "    <tr>\n",
        "      <th>1 </th>\n",
        "      <td> 1802</td>\n",
        "      <td> 638</td>\n",
        "      <td> 2105</td>\n",
        "      <td> 2360</td>\n",
        "      <td> 681</td>\n",
        "    </tr>\n",
        "    <tr>\n",
        "      <th>2 </th>\n",
        "      <td> 1714</td>\n",
        "      <td> 578</td>\n",
        "      <td> 1974</td>\n",
        "      <td> 2193</td>\n",
        "      <td> 619</td>\n",
        "    </tr>\n",
        "    <tr>\n",
        "      <th>3 </th>\n",
        "      <td> 1918</td>\n",
        "      <td> 689</td>\n",
        "      <td> 2352</td>\n",
        "      <td> 2570</td>\n",
        "      <td> 721</td>\n",
        "    </tr>\n",
        "    <tr>\n",
        "      <th>4 </th>\n",
        "      <td> 1877</td>\n",
        "      <td> 633</td>\n",
        "      <td> 2121</td>\n",
        "      <td> 2388</td>\n",
        "      <td> 670</td>\n",
        "    </tr>\n",
        "    <tr>\n",
        "      <th>5 </th>\n",
        "      <td> 2063</td>\n",
        "      <td> 682</td>\n",
        "      <td> 2302</td>\n",
        "      <td> 2545</td>\n",
        "      <td> 698</td>\n",
        "    </tr>\n",
        "    <tr>\n",
        "      <th>6 </th>\n",
        "      <td> 2405</td>\n",
        "      <td> 768</td>\n",
        "      <td> 2582</td>\n",
        "      <td> 2721</td>\n",
        "      <td> 784</td>\n",
        "    </tr>\n",
        "    <tr>\n",
        "      <th>7 </th>\n",
        "      <td> 2103</td>\n",
        "      <td> 651</td>\n",
        "      <td> 2255</td>\n",
        "      <td> 2591</td>\n",
        "      <td> 730</td>\n",
        "    </tr>\n",
        "    <tr>\n",
        "      <th>8 </th>\n",
        "      <td> 2243</td>\n",
        "      <td> 671</td>\n",
        "      <td> 2404</td>\n",
        "      <td> 2684</td>\n",
        "      <td> 737</td>\n",
        "    </tr>\n",
        "    <tr>\n",
        "      <th>9 </th>\n",
        "      <td> 1946</td>\n",
        "      <td> 633</td>\n",
        "      <td> 2216</td>\n",
        "      <td> 2491</td>\n",
        "      <td> 704</td>\n",
        "    </tr>\n",
        "    <tr>\n",
        "      <th>10</th>\n",
        "      <td> 2006</td>\n",
        "      <td> 652</td>\n",
        "      <td> 2157</td>\n",
        "      <td> 2572</td>\n",
        "      <td> 704</td>\n",
        "    </tr>\n",
        "    <tr>\n",
        "      <th>11</th>\n",
        "      <td> 1853</td>\n",
        "      <td> 635</td>\n",
        "      <td> 2118</td>\n",
        "      <td> 2385</td>\n",
        "      <td> 676</td>\n",
        "    </tr>\n",
        "    <tr>\n",
        "      <th>12</th>\n",
        "      <td> 2266</td>\n",
        "      <td> 704</td>\n",
        "      <td> 2343</td>\n",
        "      <td> 2596</td>\n",
        "      <td> 718</td>\n",
        "    </tr>\n",
        "  </tbody>\n",
        "</table>\n",
        "<p>12 rows \u00d7 5 columns</p>\n",
        "</div>"
       ],
       "metadata": {},
       "output_type": "pyout",
       "prompt_number": 11,
       "text": [
        "           average                                        \n",
        "borough  Manhattan  Bronx  Brooklyn  Queens  Staten Island\n",
        "month                                                     \n",
        "1             1802    638      2105    2360            681\n",
        "2             1714    578      1974    2193            619\n",
        "3             1918    689      2352    2570            721\n",
        "4             1877    633      2121    2388            670\n",
        "5             2063    682      2302    2545            698\n",
        "6             2405    768      2582    2721            784\n",
        "7             2103    651      2255    2591            730\n",
        "8             2243    671      2404    2684            737\n",
        "9             1946    633      2216    2491            704\n",
        "10            2006    652      2157    2572            704\n",
        "11            1853    635      2118    2385            676\n",
        "12            2266    704      2343    2596            718\n",
        "\n",
        "[12 rows x 5 columns]"
       ]
      }
     ],
     "prompt_number": 11
    },
    {
     "cell_type": "code",
     "collapsed": false,
     "input": [
      "agg_sales_boro.max()"
     ],
     "language": "python",
     "metadata": {},
     "outputs": [
      {
       "metadata": {},
       "output_type": "pyout",
       "prompt_number": 12,
       "text": [
        "         borough      \n",
        "average  Manhattan        2405\n",
        "         Bronx             768\n",
        "         Brooklyn         2582\n",
        "         Queens           2721\n",
        "         Staten Island     784\n",
        "dtype: int64"
       ]
      }
     ],
     "prompt_number": 12
    },
    {
     "cell_type": "markdown",
     "metadata": {},
     "source": [
      "Property sales per month does not vary by borough.  The average number of sales per month per borough were highest during the month of June.  "
     ]
    },
    {
     "cell_type": "code",
     "collapsed": false,
     "input": [
      "funcs = [('average', mean_b)]\n",
      "grouped_MC = df1.groupby([(lambda x: x.month), 'building_class_category'])['unit_count']"
     ],
     "language": "python",
     "metadata": {},
     "outputs": [],
     "prompt_number": 13
    },
    {
     "cell_type": "code",
     "collapsed": false,
     "input": [
      "agg_sales_cat = grouped_MC.agg(funcs).unstack()"
     ],
     "language": "python",
     "metadata": {},
     "outputs": [],
     "prompt_number": 14
    },
    {
     "cell_type": "code",
     "collapsed": false,
     "input": [
      "agg_sales_max = pd.DataFrame(agg_sales_cat.idxmax(), columns = ['Month'])"
     ],
     "language": "python",
     "metadata": {},
     "outputs": [],
     "prompt_number": 15
    },
    {
     "cell_type": "code",
     "collapsed": false,
     "input": [
      "agg_sales_cat.ix[:,2]/agg_sales_cat.sum(1)\n",
      "agg_sales_max['Month']"
     ],
     "language": "python",
     "metadata": {},
     "outputs": [
      {
       "metadata": {},
       "output_type": "pyout",
       "prompt_number": 16,
       "text": [
        "         building_class_category                     \n",
        "average                                                  12\n",
        "         01  ONE FAMILY DWELLINGS                        10\n",
        "         01  ONE FAMILY HOMES                             6\n",
        "         02  TWO FAMILY DWELLINGS                         8\n",
        "         02  TWO FAMILY HOMES                             6\n",
        "         03  THREE FAMILY DWELLINGS                       3\n",
        "         03  THREE FAMILY HOMES                           3\n",
        "         04  TAX CLASS 1 CONDOS                           8\n",
        "         05  TAX CLASS 1 VACANT LAND                      6\n",
        "         06  TAX CLASS 1 - OTHER                          6\n",
        "         07  RENTALS - WALKUP APARTMENTS                  6\n",
        "         08  RENTALS - ELEVATOR APARTMENTS               12\n",
        "         09  COOPS - WALKUP APARTMENTS                    6\n",
        "         10  COOPS - ELEVATOR APARTMENTS                  6\n",
        "         11  SPECIAL CONDO BILLING LOTS                   2\n",
        "         11A CONDO-RENTALS                                6\n",
        "         12  CONDOS - WALKUP APARTMENTS                   8\n",
        "         13  CONDOS - ELEVATOR APARTMENTS                 6\n",
        "         14  RENTALS - 4-10 UNIT                         12\n",
        "         15  CONDOS - 2-10 UNIT RESIDENTIAL               6\n",
        "         16  CONDOS - 2-10 UNIT WITH COMMERCIAL UNIT      5\n",
        "         17  CONDO COOPS                                  7\n",
        "         17  CONDOPS                                      6\n",
        "         18  TAX CLASS 3 - UNTILITY PROPERTIES            6\n",
        "         18  TAX CLASS 3 - UTILITY PROPERTIES             5\n",
        "         21  OFFICE BUILDINGS                            12\n",
        "         22  STORE BUILDINGS                             12\n",
        "         23  LOFT BUILDINGS                              12\n",
        "         24  TAX CLASS 4 - UTILITY BUREAU PROPERTIES      1\n",
        "         25  LUXURY HOTELS                               12\n",
        "         26  OTHER HOTELS                                 2\n",
        "         27  FACTORIES                                   12\n",
        "         28  COMMERCIAL CONDOS                            8\n",
        "         29  COMMERCIAL GARAGES                          12\n",
        "         30  WAREHOUSES                                  12\n",
        "         31  COMMERCIAL VACANT LAND                       6\n",
        "         32  HOSPITAL AND HEALTH FACILITIES               5\n",
        "         33  EDUCATIONAL FACILITIES                       6\n",
        "         34  THEATRES                                     2\n",
        "         35  INDOOR PUBLIC AND CULTURAL FACILITIES        7\n",
        "         36  OUTDOOR RECREATIONAL FACILITIES              6\n",
        "         37  RELIGIOUS FACILITIES                         6\n",
        "         38  ASYLUMS AND HOMES                           12\n",
        "         39  TRANSPORTATION FACILITIES                    3\n",
        "         40  SELECTED GOVERNMENTAL FACILITIES             1\n",
        "         41  TAX CLASS 4 - OTHER                         12\n",
        "         42  CONDO CULTURAL/MEDICAL/EDUCATIONAL/ETC       4\n",
        "         43  CONDO OFFICE BUILDINGS                      12\n",
        "         44  CONDO PARKING                               11\n",
        "         45  CONDO HOTELS                                11\n",
        "         46  CONDO STORE BUILDINGS                        5\n",
        "         47  CONDO NON-BUSINESS STORAGE                  12\n",
        "         48  CONDO TERRACES/GARDENS/CABANAS               1\n",
        "         49  CONDO WAREHOUSES/FACTORY/INDUS               3\n",
        "Name: Month, Length: 54, dtype: int64"
       ]
      }
     ],
     "prompt_number": 16
    },
    {
     "cell_type": "markdown",
     "metadata": {},
     "source": [
      "Property sales per month do vary by building class.  \n",
      "\n",
      "First, the most common property type sold, '01 ONE FAMILY HOMES', account for about 20% of all sales in any given month.  The most active month for this property type is June.  Most other residential property types, including Coops and Condos are also sold during the summer months.  This is likely driven by young families looking to relocate near schools during this time period.  \n",
      "\n",
      "Commercial property types such as office and store buildings, warehouses and commercial vacant lots are most frequently sold in December.  A key driver can be the need to complete commercial transactions before years end to avoid tax implications."
     ]
    },
    {
     "cell_type": "heading",
     "level": 4,
     "metadata": {},
     "source": [
      "What are 2014\u2019s hottest residential neighborhoods, as measured by year-over-year growth in total sale-value and total sale-count?"
     ]
    },
    {
     "cell_type": "code",
     "collapsed": false,
     "input": [
      "res = ['R0', 'R1', 'R2', 'R3', 'R4', 'R5', 'R6', 'R7', 'R7', 'R8', 'R9']\n",
      "df_res = df1[df1['building_class_at_time_of_sale'].isin(res)]"
     ],
     "language": "python",
     "metadata": {},
     "outputs": [],
     "prompt_number": 17
    },
    {
     "cell_type": "code",
     "collapsed": false,
     "input": [
      "grouped_res = df_res.groupby([(lambda x: x.year), 'neighborhood'])['unit_count']"
     ],
     "language": "python",
     "metadata": {},
     "outputs": [],
     "prompt_number": 18
    },
    {
     "cell_type": "code",
     "collapsed": false,
     "input": [
      "neighborhood_names = list(grouped_res.agg('sum').unstack().columns)\n",
      "neighborhood_names1 = [str(i).strip() for i in neighborhood_names]"
     ],
     "language": "python",
     "metadata": {},
     "outputs": [],
     "prompt_number": 20
    },
    {
     "cell_type": "code",
     "collapsed": false,
     "input": [
      "r = grouped_res.agg('sum').unstack()"
     ],
     "language": "python",
     "metadata": {},
     "outputs": [],
     "prompt_number": 21
    },
    {
     "cell_type": "code",
     "collapsed": false,
     "input": [
      "r.columns = neighborhood_names1\n",
      "_ = r.fillna(0, inplace = True)"
     ],
     "language": "python",
     "metadata": {},
     "outputs": [],
     "prompt_number": 22
    },
    {
     "cell_type": "code",
     "collapsed": false,
     "input": [
      "# test = r[['COBBLE HILL', 'CARROLL GARDENS', 'WILLIAMSBRIDGE']]"
     ],
     "language": "python",
     "metadata": {},
     "outputs": [],
     "prompt_number": 23
    },
    {
     "cell_type": "code",
     "collapsed": false,
     "input": [
      "r.pct_change().loc[2013].order(ascending = False).replace([np.inf], np.nan).dropna()[0:20]"
     ],
     "language": "python",
     "metadata": {},
     "outputs": [
      {
       "metadata": {},
       "output_type": "pyout",
       "prompt_number": 24,
       "text": [
        "WILLOWBROOK                 4.250000\n",
        "WYCKOFF HEIGHTS             3.888889\n",
        "WASHINGTON HEIGHTS UPPER    3.846154\n",
        "MARINERS HARBOR             2.000000\n",
        "DONGAN HILLS                2.000000\n",
        "FAR ROCKAWAY                1.500000\n",
        "WHITESTONE                  1.333333\n",
        "RIVERDALE                   1.311111\n",
        "DOWNTOWN-FULTON MALL        1.031250\n",
        "PORT IVORY                  1.000000\n",
        "PELHAM PARKWAY SOUTH        1.000000\n",
        "MARINE PARK                 1.000000\n",
        "BELLE HARBOR                1.000000\n",
        "HARLEM-EAST                 0.944444\n",
        "ARDEN HEIGHTS               0.923077\n",
        "OCEAN PARKWAY-NORTH         0.894737\n",
        "SUNNYSIDE                   0.827586\n",
        "NEW BRIGHTON-ST. GEORGE     0.809524\n",
        "ROSSVILLE                   0.807692\n",
        "DOUGLASTON                  0.774194\n",
        "Name: 2013, dtype: float64"
       ]
      }
     ],
     "prompt_number": 24
    },
    {
     "cell_type": "markdown",
     "metadata": {},
     "source": [
      "Above you will find the 'hottest' neighborhoods defined by Y-o-Y growth in residential units sold from 2012 to 2013.  "
     ]
    },
    {
     "cell_type": "code",
     "collapsed": false,
     "input": [
      "grouped_res_value = df_res.groupby([(lambda x: x.year), 'neighborhood'])['sale_price']"
     ],
     "language": "python",
     "metadata": {},
     "outputs": [],
     "prompt_number": 25
    },
    {
     "cell_type": "code",
     "collapsed": false,
     "input": [
      "r1 = grouped_res_value.agg('sum').unstack()\n",
      "r1.columns = neighborhood_names1\n",
      "_ = r1.fillna(0, inplace = True)"
     ],
     "language": "python",
     "metadata": {},
     "outputs": [],
     "prompt_number": 26
    },
    {
     "cell_type": "code",
     "collapsed": false,
     "input": [
      "r['GLENDALE']"
     ],
     "language": "python",
     "metadata": {},
     "outputs": [
      {
       "metadata": {},
       "output_type": "pyout",
       "prompt_number": 27,
       "text": [
        "2003    26\n",
        "2004    17\n",
        "2005    42\n",
        "2006    45\n",
        "2007    15\n",
        "2008    43\n",
        "2009    12\n",
        "2010    10\n",
        "2011     8\n",
        "2012    13\n",
        "2013    20\n",
        "Name: GLENDALE, dtype: float64"
       ]
      }
     ],
     "prompt_number": 27
    },
    {
     "cell_type": "code",
     "collapsed": false,
     "input": [
      "r1.pct_change().loc[2013].order(ascending = False).replace([np.inf], np.nan).dropna()[0:20]"
     ],
     "language": "python",
     "metadata": {},
     "outputs": [
      {
       "metadata": {},
       "output_type": "pyout",
       "prompt_number": 28,
       "text": [
        "EAST TREMONT                24.000000\n",
        "WASHINGTON HEIGHTS UPPER     7.903361\n",
        "WYCKOFF HEIGHTS              4.683505\n",
        "DOWNTOWN-FULTON MALL         3.562556\n",
        "GLENDALE                     3.264489\n",
        "CARROLL GARDENS              2.275708\n",
        "DONGAN HILLS                 1.936599\n",
        "ARDEN HEIGHTS                1.639445\n",
        "RIVERDALE                    1.589711\n",
        "ALPHABET CITY                1.515661\n",
        "REGO PARK                    1.412000\n",
        "MARINERS HARBOR              1.228342\n",
        "MIDWOOD                      1.148155\n",
        "FORT GREENE                  1.147022\n",
        "PORT IVORY                   1.138108\n",
        "HARLEM-UPPER                 1.095356\n",
        "LITTLE ITALY                 1.077766\n",
        "OCEAN PARKWAY-NORTH          0.975492\n",
        "EAST NEW YORK                0.937141\n",
        "BRIGHTON BEACH               0.924484\n",
        "Name: 2013, dtype: float64"
       ]
      }
     ],
     "prompt_number": 28
    },
    {
     "cell_type": "heading",
     "level": 4,
     "metadata": {},
     "source": [
      "Does the residential market prefer new-construction (buildings built within 2years of the sale date)? How does 2014 compare with previous years in this regard?"
     ]
    },
    {
     "cell_type": "code",
     "collapsed": false,
     "input": [
      "df_age = df1[df1['building_class_at_time_of_sale'].isin(res)]"
     ],
     "language": "python",
     "metadata": {},
     "outputs": [],
     "prompt_number": 29
    },
    {
     "cell_type": "code",
     "collapsed": false,
     "input": [
      "df_age.index.year - df_age['year_built']\n",
      "df_age['age'] = df_age.index.year - df_age['year_built']"
     ],
     "language": "python",
     "metadata": {},
     "outputs": [],
     "prompt_number": 30
    },
    {
     "cell_type": "code",
     "collapsed": false,
     "input": [],
     "language": "python",
     "metadata": {},
     "outputs": [],
     "prompt_number": 132
    },
    {
     "cell_type": "code",
     "collapsed": false,
     "input": [
      "age_bins = [0, 2, 5, 10, 20, 50, 100, 150]"
     ],
     "language": "python",
     "metadata": {},
     "outputs": [],
     "prompt_number": 133
    },
    {
     "cell_type": "code",
     "collapsed": false,
     "input": [
      "df_age['age_bin'] = pd.cut(df_age['age'], age_bins, right = False)"
     ],
     "language": "python",
     "metadata": {},
     "outputs": [],
     "prompt_number": 84
    },
    {
     "cell_type": "code",
     "collapsed": false,
     "input": [
      "pd.value_counts(df_age['age_bin'])"
     ],
     "language": "python",
     "metadata": {},
     "outputs": [
      {
       "metadata": {},
       "output_type": "pyout",
       "prompt_number": 87,
       "text": [
        "[20, 50)      34710\n",
        "[50, 100)     30973\n",
        "[2, 5)        30221\n",
        "[5, 10)       13280\n",
        "[0, 2)        13052\n",
        "[10, 20)      12018\n",
        "[100, 150)     8065\n",
        "dtype: int64"
       ]
      }
     ],
     "prompt_number": 87
    },
    {
     "cell_type": "code",
     "collapsed": false,
     "input": [
      "grouped_res_age = df_age.groupby([(lambda x: x.year), 'age_bin'])['unit_count']"
     ],
     "language": "python",
     "metadata": {},
     "outputs": [],
     "prompt_number": 88
    },
    {
     "cell_type": "code",
     "collapsed": false,
     "input": [
      "binCols = ['[0, 2)', '[2, 5)', '[5, 10)', '[10, 20)', '[20, 50)', '[50, 100)', '[100, 150)']\n",
      "df_age_bin = pd.DataFrame(grouped_res_age.count().unstack(), columns = binCols)"
     ],
     "language": "python",
     "metadata": {},
     "outputs": [],
     "prompt_number": 131
    },
    {
     "cell_type": "code",
     "collapsed": false,
     "input": [
      "df_age_bin"
     ],
     "language": "python",
     "metadata": {},
     "outputs": [
      {
       "html": [
        "<div style=\"max-height:1000px;max-width:1500px;overflow:auto;\">\n",
        "<table border=\"1\" class=\"dataframe\">\n",
        "  <thead>\n",
        "    <tr style=\"text-align: right;\">\n",
        "      <th></th>\n",
        "      <th>[0, 2)</th>\n",
        "      <th>[2, 5)</th>\n",
        "      <th>[5, 10)</th>\n",
        "      <th>[10, 20)</th>\n",
        "      <th>[20, 50)</th>\n",
        "      <th>[50, 100)</th>\n",
        "      <th>[100, 150)</th>\n",
        "    </tr>\n",
        "  </thead>\n",
        "  <tbody>\n",
        "    <tr>\n",
        "      <th>2003</th>\n",
        "      <td>  563</td>\n",
        "      <td>  158</td>\n",
        "      <td>  110</td>\n",
        "      <td> 2997</td>\n",
        "      <td> 2573</td>\n",
        "      <td> 1765</td>\n",
        "      <td>  393</td>\n",
        "    </tr>\n",
        "    <tr>\n",
        "      <th>2004</th>\n",
        "      <td>  974</td>\n",
        "      <td>  608</td>\n",
        "      <td>  172</td>\n",
        "      <td> 2724</td>\n",
        "      <td> 3231</td>\n",
        "      <td> 1984</td>\n",
        "      <td>  515</td>\n",
        "    </tr>\n",
        "    <tr>\n",
        "      <th>2005</th>\n",
        "      <td> 1411</td>\n",
        "      <td> 1268</td>\n",
        "      <td>  134</td>\n",
        "      <td> 2100</td>\n",
        "      <td> 3295</td>\n",
        "      <td> 2266</td>\n",
        "      <td>  438</td>\n",
        "    </tr>\n",
        "    <tr>\n",
        "      <th>2006</th>\n",
        "      <td> 2586</td>\n",
        "      <td> 2190</td>\n",
        "      <td>  231</td>\n",
        "      <td> 1398</td>\n",
        "      <td> 2811</td>\n",
        "      <td> 2553</td>\n",
        "      <td>  819</td>\n",
        "    </tr>\n",
        "    <tr>\n",
        "      <th>2007</th>\n",
        "      <td> 2196</td>\n",
        "      <td> 3937</td>\n",
        "      <td>  409</td>\n",
        "      <td>  877</td>\n",
        "      <td> 3697</td>\n",
        "      <td> 4598</td>\n",
        "      <td>  944</td>\n",
        "    </tr>\n",
        "    <tr>\n",
        "      <th>2008</th>\n",
        "      <td> 2313</td>\n",
        "      <td> 4921</td>\n",
        "      <td>  424</td>\n",
        "      <td>  509</td>\n",
        "      <td> 3363</td>\n",
        "      <td> 4127</td>\n",
        "      <td>  532</td>\n",
        "    </tr>\n",
        "    <tr>\n",
        "      <th>2009</th>\n",
        "      <td> 1018</td>\n",
        "      <td> 3895</td>\n",
        "      <td>  514</td>\n",
        "      <td>  258</td>\n",
        "      <td> 3342</td>\n",
        "      <td> 2321</td>\n",
        "      <td>  543</td>\n",
        "    </tr>\n",
        "    <tr>\n",
        "      <th>2010</th>\n",
        "      <td>  630</td>\n",
        "      <td> 4478</td>\n",
        "      <td> 1386</td>\n",
        "      <td>  183</td>\n",
        "      <td> 2614</td>\n",
        "      <td> 2451</td>\n",
        "      <td>  850</td>\n",
        "    </tr>\n",
        "    <tr>\n",
        "      <th>2011</th>\n",
        "      <td>  683</td>\n",
        "      <td> 4633</td>\n",
        "      <td> 2162</td>\n",
        "      <td>  192</td>\n",
        "      <td> 3131</td>\n",
        "      <td> 2623</td>\n",
        "      <td>  843</td>\n",
        "    </tr>\n",
        "    <tr>\n",
        "      <th>2012</th>\n",
        "      <td>  291</td>\n",
        "      <td> 3076</td>\n",
        "      <td> 3686</td>\n",
        "      <td>  311</td>\n",
        "      <td> 3447</td>\n",
        "      <td> 3078</td>\n",
        "      <td>  990</td>\n",
        "    </tr>\n",
        "    <tr>\n",
        "      <th>2013</th>\n",
        "      <td>  387</td>\n",
        "      <td> 1057</td>\n",
        "      <td> 4052</td>\n",
        "      <td>  469</td>\n",
        "      <td> 3206</td>\n",
        "      <td> 3207</td>\n",
        "      <td> 1198</td>\n",
        "    </tr>\n",
        "  </tbody>\n",
        "</table>\n",
        "<p>11 rows \u00d7 7 columns</p>\n",
        "</div>"
       ],
       "metadata": {},
       "output_type": "pyout",
       "prompt_number": 134,
       "text": [
        "      [0, 2)  [2, 5)  [5, 10)  [10, 20)  [20, 50)  [50, 100)  [100, 150)\n",
        "2003     563     158      110      2997      2573       1765         393\n",
        "2004     974     608      172      2724      3231       1984         515\n",
        "2005    1411    1268      134      2100      3295       2266         438\n",
        "2006    2586    2190      231      1398      2811       2553         819\n",
        "2007    2196    3937      409       877      3697       4598         944\n",
        "2008    2313    4921      424       509      3363       4127         532\n",
        "2009    1018    3895      514       258      3342       2321         543\n",
        "2010     630    4478     1386       183      2614       2451         850\n",
        "2011     683    4633     2162       192      3131       2623         843\n",
        "2012     291    3076     3686       311      3447       3078         990\n",
        "2013     387    1057     4052       469      3206       3207        1198\n",
        "\n",
        "[11 rows x 7 columns]"
       ]
      }
     ],
     "prompt_number": 134
    },
    {
     "cell_type": "code",
     "collapsed": false,
     "input": [
      "df_age_bin_share = df_age_bin.apply(lambda x: x / x.sum() * 100, axis=1).astype(float)"
     ],
     "language": "python",
     "metadata": {},
     "outputs": [],
     "prompt_number": 216
    },
    {
     "cell_type": "code",
     "collapsed": false,
     "input": [
      "df_age_bin_share"
     ],
     "language": "python",
     "metadata": {},
     "outputs": [
      {
       "html": [
        "<div style=\"max-height:1000px;max-width:1500px;overflow:auto;\">\n",
        "<table border=\"1\" class=\"dataframe\">\n",
        "  <thead>\n",
        "    <tr style=\"text-align: right;\">\n",
        "      <th></th>\n",
        "      <th>[0, 2)</th>\n",
        "      <th>[2, 5)</th>\n",
        "      <th>[5, 10)</th>\n",
        "      <th>[10, 20)</th>\n",
        "      <th>[20, 50)</th>\n",
        "      <th>[50, 100)</th>\n",
        "      <th>[100, 150)</th>\n",
        "    </tr>\n",
        "  </thead>\n",
        "  <tbody>\n",
        "    <tr>\n",
        "      <th>2003</th>\n",
        "      <td>  6.577871</td>\n",
        "      <td>  1.846010</td>\n",
        "      <td>  1.285197</td>\n",
        "      <td> 35.015773</td>\n",
        "      <td> 30.061923</td>\n",
        "      <td> 20.621568</td>\n",
        "      <td> 4.591658</td>\n",
        "    </tr>\n",
        "    <tr>\n",
        "      <th>2004</th>\n",
        "      <td>  9.541536</td>\n",
        "      <td>  5.956113</td>\n",
        "      <td>  1.684953</td>\n",
        "      <td> 26.684953</td>\n",
        "      <td> 31.651646</td>\n",
        "      <td> 19.435737</td>\n",
        "      <td> 5.045063</td>\n",
        "    </tr>\n",
        "    <tr>\n",
        "      <th>2005</th>\n",
        "      <td> 12.930718</td>\n",
        "      <td> 11.620235</td>\n",
        "      <td>  1.228006</td>\n",
        "      <td> 19.244868</td>\n",
        "      <td> 30.196114</td>\n",
        "      <td> 20.766129</td>\n",
        "      <td> 4.013930</td>\n",
        "    </tr>\n",
        "    <tr>\n",
        "      <th>2006</th>\n",
        "      <td> 20.543375</td>\n",
        "      <td> 17.397521</td>\n",
        "      <td>  1.835081</td>\n",
        "      <td> 11.105815</td>\n",
        "      <td> 22.330791</td>\n",
        "      <td> 20.281220</td>\n",
        "      <td> 6.506196</td>\n",
        "    </tr>\n",
        "    <tr>\n",
        "      <th>2007</th>\n",
        "      <td> 13.182855</td>\n",
        "      <td> 23.634290</td>\n",
        "      <td>  2.455277</td>\n",
        "      <td>  5.264738</td>\n",
        "      <td> 22.193541</td>\n",
        "      <td> 27.602353</td>\n",
        "      <td> 5.666947</td>\n",
        "    </tr>\n",
        "    <tr>\n",
        "      <th>2008</th>\n",
        "      <td> 14.287479</td>\n",
        "      <td> 30.397183</td>\n",
        "      <td>  2.619062</td>\n",
        "      <td>  3.144110</td>\n",
        "      <td> 20.773365</td>\n",
        "      <td> 25.492618</td>\n",
        "      <td> 3.286182</td>\n",
        "    </tr>\n",
        "    <tr>\n",
        "      <th>2009</th>\n",
        "      <td>  8.561097</td>\n",
        "      <td> 32.755866</td>\n",
        "      <td>  4.322597</td>\n",
        "      <td>  2.169708</td>\n",
        "      <td> 28.105290</td>\n",
        "      <td> 19.518964</td>\n",
        "      <td> 4.566479</td>\n",
        "    </tr>\n",
        "    <tr>\n",
        "      <th>2010</th>\n",
        "      <td>  5.003177</td>\n",
        "      <td> 35.562262</td>\n",
        "      <td> 11.006989</td>\n",
        "      <td>  1.453304</td>\n",
        "      <td> 20.759212</td>\n",
        "      <td> 19.464740</td>\n",
        "      <td> 6.750318</td>\n",
        "    </tr>\n",
        "    <tr>\n",
        "      <th>2011</th>\n",
        "      <td>  4.787271</td>\n",
        "      <td> 32.473540</td>\n",
        "      <td> 15.153852</td>\n",
        "      <td>  1.345763</td>\n",
        "      <td> 21.945749</td>\n",
        "      <td> 18.385084</td>\n",
        "      <td> 5.908740</td>\n",
        "    </tr>\n",
        "    <tr>\n",
        "      <th>2012</th>\n",
        "      <td>  1.955777</td>\n",
        "      <td> 20.673432</td>\n",
        "      <td> 24.773170</td>\n",
        "      <td>  2.090194</td>\n",
        "      <td> 23.166879</td>\n",
        "      <td> 20.686874</td>\n",
        "      <td> 6.653673</td>\n",
        "    </tr>\n",
        "    <tr>\n",
        "      <th>2013</th>\n",
        "      <td>  2.850619</td>\n",
        "      <td>  7.785798</td>\n",
        "      <td> 29.846788</td>\n",
        "      <td>  3.454626</td>\n",
        "      <td> 23.615203</td>\n",
        "      <td> 23.622569</td>\n",
        "      <td> 8.824396</td>\n",
        "    </tr>\n",
        "  </tbody>\n",
        "</table>\n",
        "<p>11 rows \u00d7 7 columns</p>\n",
        "</div>"
       ],
       "metadata": {},
       "output_type": "pyout",
       "prompt_number": 217,
       "text": [
        "         [0, 2)     [2, 5)    [5, 10)   [10, 20)   [20, 50)  [50, 100)  \\\n",
        "2003   6.577871   1.846010   1.285197  35.015773  30.061923  20.621568   \n",
        "2004   9.541536   5.956113   1.684953  26.684953  31.651646  19.435737   \n",
        "2005  12.930718  11.620235   1.228006  19.244868  30.196114  20.766129   \n",
        "2006  20.543375  17.397521   1.835081  11.105815  22.330791  20.281220   \n",
        "2007  13.182855  23.634290   2.455277   5.264738  22.193541  27.602353   \n",
        "2008  14.287479  30.397183   2.619062   3.144110  20.773365  25.492618   \n",
        "2009   8.561097  32.755866   4.322597   2.169708  28.105290  19.518964   \n",
        "2010   5.003177  35.562262  11.006989   1.453304  20.759212  19.464740   \n",
        "2011   4.787271  32.473540  15.153852   1.345763  21.945749  18.385084   \n",
        "2012   1.955777  20.673432  24.773170   2.090194  23.166879  20.686874   \n",
        "2013   2.850619   7.785798  29.846788   3.454626  23.615203  23.622569   \n",
        "\n",
        "      [100, 150)  \n",
        "2003    4.591658  \n",
        "2004    5.045063  \n",
        "2005    4.013930  \n",
        "2006    6.506196  \n",
        "2007    5.666947  \n",
        "2008    3.286182  \n",
        "2009    4.566479  \n",
        "2010    6.750318  \n",
        "2011    5.908740  \n",
        "2012    6.653673  \n",
        "2013    8.824396  \n",
        "\n",
        "[11 rows x 7 columns]"
       ]
      }
     ],
     "prompt_number": 217
    },
    {
     "cell_type": "heading",
     "level": 4,
     "metadata": {},
     "source": [
      "Please produce a timeseries plot showing monthly YoY sales-growth at various price tiers.\n",
      "                                                                "
     ]
    },
    {
     "cell_type": "markdown",
     "metadata": {},
     "source": [
      "    *what has the trend been like for sales of properties priced <$3M?\n",
      "    \n",
      "    *modify this to show stats by neighborhood & price-tier; how do sales <$3M compare for Brooklyn Heights vs. Bed-Stuy?\n",
      "    "
     ]
    },
    {
     "cell_type": "code",
     "collapsed": false,
     "input": [
      "res = ['R0', 'R1', 'R2', 'R3', 'R4', 'R5', 'R6', 'R7', 'R7', 'R8', 'R9']\n",
      "price_bins = [0, 250000, 500000, 1000000, 3000000, 5000000, 10000000, 50000000]\n",
      "priceBins = ['[0, 250000)', '[250000, 500000)', '[500000, 1000000)', '[1000000, 3000000)', '[3000000, 5000000)', \\\n",
      "             '[5000000, 10000000)', '[10000000, 50000000)']"
     ],
     "language": "python",
     "metadata": {},
     "outputs": [],
     "prompt_number": 268
    },
    {
     "cell_type": "code",
     "collapsed": false,
     "input": [
      "df_price = df1[df1['building_class_at_time_of_sale'].isin(res)]"
     ],
     "language": "python",
     "metadata": {},
     "outputs": [],
     "prompt_number": 269
    },
    {
     "cell_type": "code",
     "collapsed": false,
     "input": [
      "df_price['price_bin'] = pd.cut(df_price['sale_price'], price_bins, right = False)"
     ],
     "language": "python",
     "metadata": {},
     "outputs": [],
     "prompt_number": 270
    },
    {
     "cell_type": "code",
     "collapsed": false,
     "input": [
      "del grouped_res_price\n",
      "grouped_res_price = df_price.groupby([(lambda x: x.year), 'price_bin'])['unit_count']"
     ],
     "language": "python",
     "metadata": {},
     "outputs": [],
     "prompt_number": 271
    },
    {
     "cell_type": "code",
     "collapsed": false,
     "input": [
      "df_price_bin = pd.DataFrame(grouped_res_price.count().unstack(), columns = priceBins)"
     ],
     "language": "python",
     "metadata": {},
     "outputs": [],
     "prompt_number": 272
    },
    {
     "cell_type": "code",
     "collapsed": false,
     "input": [
      "%matplotlib inline  \n",
      "pd.set_option('display.mpl_style', 'default')\n",
      "import matplotlib.pyplot as plt"
     ],
     "language": "python",
     "metadata": {},
     "outputs": [],
     "prompt_number": 226
    },
    {
     "cell_type": "code",
     "collapsed": false,
     "input": [
      "df_price_bin_growth = df_price_bin.pct_change().dropna() * 100"
     ],
     "language": "python",
     "metadata": {},
     "outputs": [],
     "prompt_number": 273
    },
    {
     "cell_type": "code",
     "collapsed": false,
     "input": [
      "l = df_price_bin_growth.index\n",
      "legend = df_price_bin_growth.ix[:,:4].columns\n",
      "\n",
      "fig, ax = plt.subplots(figsize = (16, 8))\n",
      "ax.plot(df_price_bin_growth.ix[:,:4], marker = 'o')\n",
      "ax.set_ylim(-100, 100)\n",
      "ax.set_title(\"Y-o-Y Growth by Sales Volume\")\n",
      "ax.set_ylabel(\"Growth Rate (%)\")\n",
      "ax.set_xticklabels(l)\n",
      "ax.legend(legend)"
     ],
     "language": "python",
     "metadata": {},
     "outputs": [
      {
       "metadata": {},
       "output_type": "pyout",
       "prompt_number": 323,
       "text": [
        "<matplotlib.legend.Legend at 0x16a95b610>"
       ]
      },
      {
       "metadata": {},
       "output_type": "display_data",
       "png": "[encoded data removed]",
       "text": [
        "<matplotlib.figure.Figure at 0x166d14bd0>"
       ]
      }
     ],
     "prompt_number": 323
    },
    {
     "cell_type": "code",
     "collapsed": false,
     "input": [
      "df_price['neighborhood'].value_counts()"
     ],
     "language": "python",
     "metadata": {},
     "outputs": [
      {
       "metadata": {},
       "output_type": "pyout",
       "prompt_number": 328,
       "text": [
        "MIDTOWN WEST                 30198\n",
        "UPPER WEST SIDE (59-79)      15114\n",
        "UPPER EAST SIDE (59-79)      11101\n",
        "UPPER EAST SIDE (79-96)       8046\n",
        "FLUSHING-NORTH                7667\n",
        "CHELSEA                       6307\n",
        "MIDTOWN EAST                  5940\n",
        "FINANCIAL                     5537\n",
        "TRIBECA                       5479\n",
        "HARLEM-CENTRAL                4694\n",
        "UPPER WEST SIDE (79-96)       4573\n",
        "PARKCHESTER                   4392\n",
        "WILLIAMSBURG-NORTH            4356\n",
        "MURRAY HILL                   4342\n",
        "LONG ISLAND CITY              3359\n",
        "...\n",
        "FORDHAM                      5\n",
        "ANNADALE                     5\n",
        "CASTLETON CORNERS            4\n",
        "MOUNT HOPE/MOUNT EDEN        4\n",
        "LIVINGSTON                   3\n",
        "MORRIS PARK/VAN NEST         3\n",
        "3004                         2\n",
        "PELHAM GARDENS               2\n",
        "RICHMOND HILL                2\n",
        "SOUTH BEACH                  2\n",
        "1021                         1\n",
        "HUGUENOT                     1\n",
        "NEW BRIGHTON                 1\n",
        "WESTCHESTER                  1\n",
        "BROWNSVILLE                  1\n",
        "Length: 202, dtype: int64"
       ]
      }
     ],
     "prompt_number": 328
    },
    {
     "cell_type": "code",
     "collapsed": false,
     "input": [],
     "language": "python",
     "metadata": {},
     "outputs": [
      {
       "metadata": {},
       "output_type": "pyout",
       "prompt_number": 296,
       "text": [
        "Int64Index([2004, 2005, 2006, 2007, 2008, 2009, 2010, 2011, 2012, 2013], dtype='int64')"
       ]
      }
     ],
     "prompt_number": 296
    },
    {
     "cell_type": "code",
     "collapsed": false,
     "input": [],
     "language": "python",
     "metadata": {},
     "outputs": [],
     "prompt_number": 322
    },
    {
     "cell_type": "code",
     "collapsed": false,
     "input": [],
     "language": "python",
     "metadata": {},
     "outputs": []
    }
   ],
   "metadata": {}
  }
 ]
}