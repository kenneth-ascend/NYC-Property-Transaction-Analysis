{
 "metadata": {
  "name": "",
  "signature": "sha256:d1055b22d525e0b2d8cb5ad8f3cbe12aba5c0bdcf950ccf0bbc938799fe1f9d0"
 },
 "nbformat": 3,
 "nbformat_minor": 0,
 "worksheets": [
  {
   "cells": [
    {
     "cell_type": "code",
     "collapsed": false,
     "input": [
      "import lxml.html\n",
      "import urllib2\n",
      "import requests\n",
      "import urllib\n",
      "import pandas as pd\n",
      "import os\n",
      "import xlrd\n",
      "import csv"
     ],
     "language": "python",
     "metadata": {},
     "outputs": [],
     "prompt_number": 21
    },
    {
     "cell_type": "code",
     "collapsed": false,
     "input": [
      "r = requests.get(\"http://www.nyc.gov/html/dof/html/property/rolling_sales_data_annualized.shtml\")\n",
      "html = lxml.html.fromstring(r.text)\n",
      "links = html.xpath(\"(//a)[@target='_blank']\")\n",
      "\n",
      "download_links = []\n",
      "for ind, val in enumerate(links):\n",
      "    if '.xls' in str(val.get(\"href\")):\n",
      "        download_links.append(str(val.get(\"href\")))\n",
      "    else:\n",
      "        pass\n",
      "\n",
      "download_links = download_links[12:]"
     ],
     "language": "python",
     "metadata": {},
     "outputs": [],
     "prompt_number": 2
    },
    {
     "cell_type": "code",
     "collapsed": false,
     "input": [
      "years = [2013, 2012, 2011, 2010, 2009, 2008, 2007, 2006, 2005, 2004, 2003]\n",
      "borough = ['Manhattan', 'Bronx', 'Brooklyn', 'Queens', 'Staten Island']\n",
      "root_url = 'http://www.nyc.gov/html/dof'\n",
      "index = 0\n",
      "\n",
      "for year in years:\n",
      "    for name in borough:\n",
      "        fileName = str(year) + '_' + str(name) + '.xls'\n",
      "\n",
      "        addOn = download_links[index][5:].replace(\" \", \"%20\")\n",
      "        download_link = root_url + addOn\n",
      "        urllib.urlretrieve(download_link, 'real_estate' + fileName) ## DOUBLE CHECK THIS \n",
      "        print \"downloading......%s\" % fileName\n",
      "        index += 1"
     ],
     "language": "python",
     "metadata": {},
     "outputs": [],
     "prompt_number": 231
    },
    {
     "cell_type": "code",
     "collapsed": false,
     "input": [
      "skip = {2003: 3,\n",
      "        2004: 3,\n",
      "        2005: 3,\n",
      "        2005: 3,\n",
      "        2006: 3,\n",
      "        2007: 3,\n",
      "        2008: 3,\n",
      "        2009: 3,\n",
      "        2010: 3,\n",
      "        2011: 4,\n",
      "        2012: 4,\n",
      "        2013: 4}\n",
      "\n",
      "colNames = ['borough', 'neighborhood', 'building_class_category', 'tax_class_at_present', 'block', 'lot', 'ease-ment',\\\n",
      "            'building_class_at_present', 'address', 'apartment_number', 'zip_code', 'residential_units', 'commercial_units', \\\n",
      "            'total_units', 'land_square_feet', 'gross_square_feet', 'year_built', 'tax_class_at_time_of_sale', \\\n",
      "            'building_class_at_time_of_sale', 'sale_price', 'sale_date']\n",
      "\n",
      "import datetime\n",
      " \n",
      "def xldate_to_datetime(xldate):\n",
      "    temp = datetime.datetime(1900, 1, 1)\n",
      "    delta = datetime.timedelta(days=xldate)\n",
      "    return temp + delta - datetime.timedelta(days = 2)\n",
      "\n",
      "#list(pd.read_excel(\"/Users/krluna/python/twosigma/real_estate/2003_Bronx.xls\", 0, skiprows = 3, names = colNames).columns)"
     ],
     "language": "python",
     "metadata": {},
     "outputs": [],
     "prompt_number": 45
    },
    {
     "cell_type": "code",
     "collapsed": false,
     "input": [
      "cnt = 0\n",
      "tables = {}\n",
      "for i in os.listdir(\"/Users/krluna/python/twosigma/real_estate/\")[:5]:\n",
      "    loc = \"/Users/krluna/python/twosigma/real_estate/\" + i\n",
      "    xls = pd.read_excel(loc, 0, skiprows = skip[int(i[0:4])], names = colNames)\n",
      "    tables[str(i[:-4])] = xls\n",
      "    print str(i) + \" files have \" + str(skip[int(i[0:4])]) + \" rows to skip\"  \n",
      "    \n",
      "    \n",
      "    loc = \"/Users/krluna/python/twosigma/real_estate/\" + i\n",
      "        xls = pd.read_excel(loc, 0, skiprows = skip[int(i[0:4])], names = colNames)\n",
      "        tables[str(i[:-4])] = xls\n",
      "        \n",
      "#         xls = pd.read_excel(\"/Users/krluna/python/twosigma/real_estate/\" + i, 0, \\\n",
      "#                             skiprows = skip[int(i[0:4])], names = colNames) \n",
      "#         tables[str(i[:-4])] = xls\n",
      "        print str(i) + \" files have \" + str(skip[int(i[0:4])]) + \" rows to skip\"  \n",
      "        total_records = total_records + len(tables[str(i[:-4])])\n",
      "        "
     ],
     "language": "python",
     "metadata": {},
     "outputs": [
      {
       "output_type": "stream",
       "stream": "stdout",
       "text": [
        "2003_Bronx.xls files have 3 rows to skip\n",
        "2003_Brooklyn.xls files have 3 rows to skip"
       ]
      },
      {
       "output_type": "stream",
       "stream": "stdout",
       "text": [
        "\n",
        "2003_Manhattan.xls files have 3 rows to skip"
       ]
      },
      {
       "output_type": "stream",
       "stream": "stdout",
       "text": [
        "\n",
        "2003_Queens.xls files have 3 rows to skip"
       ]
      },
      {
       "output_type": "stream",
       "stream": "stdout",
       "text": [
        "\n",
        "2003_SI.xls files have 3 rows to skip"
       ]
      },
      {
       "output_type": "stream",
       "stream": "stdout",
       "text": [
        "\n"
       ]
      }
     ],
     "prompt_number": 16
    },
    {
     "cell_type": "code",
     "collapsed": false,
     "input": [
      "tables = {}\n",
      "total_records = 0 \n",
      "\n",
      "for i in os.listdir(\"/Users/krluna/python/twosigma/real_estate/\"):\n",
      "#     print i\n",
      "    \n",
      "    try:\n",
      "        loc = \"/Users/krluna/python/twosigma/real_estate/\" + i\n",
      "        xls = pd.read_excel(loc, 0, skiprows = skip[int(i[0:4])], names = colNames)\n",
      "        tables[str(i[:-4])] = xls\n",
      "        print str(i) + \" files has \" + str(skip[int(i[0:4])]) + \" rows to skip\"  \n",
      "        total_records = total_records + len(tables[str(i[:-4])])\n",
      "    \n",
      "    except:\n",
      "        \n",
      "        wb = xlrd.open_workbook(\"/Users/krluna/python/twosigma/real_estate/\" + i)\n",
      "        sh = wb.sheet_by_name(wb.sheet_names()[0])\n",
      "        new_csv = \"/Users/krluna/python/twosigma/real_estate/\" + i[:-4] + '.csv'\n",
      "        your_csv_file = open(new_csv, 'wb')\n",
      "        wr = csv.writer(your_csv_file, quoting=csv.QUOTE_ALL)\n",
      "\n",
      "        for rownum in xrange(sh.nrows):\n",
      "                wr.writerow(sh.row_values(rownum))\n",
      "\n",
      "        your_csv_file.close()\n",
      "\n",
      "        table = pd.read_csv(new_csv, skiprows = skip[int(i[0:4])])\n",
      "        table['SALE DATE\\n'] = table['SALE DATE\\n'].apply(xldate_to_datetime) #convert from excel date value to date time \n",
      "        table.columns = colNames\n",
      "        tables[str(i[:-4])] = table\n",
      "        print str(i) + \" files has \" + str(skip[int(i[0:4])]) + \" rows to skip and Exception().\" \n",
      "        total_records = total_records + len(tables[str(i[:-4])])\n",
      "        \n",
      "print total_records"
     ],
     "language": "python",
     "metadata": {},
     "outputs": [
      {
       "output_type": "stream",
       "stream": "stdout",
       "text": [
        "2003_Bronx.xls files has 3 rows to skip\n",
        "2003_Brooklyn.xls files has 3 rows to skip"
       ]
      },
      {
       "output_type": "stream",
       "stream": "stdout",
       "text": [
        "\n",
        "2003_Manhattan.xls files has 3 rows to skip"
       ]
      },
      {
       "output_type": "stream",
       "stream": "stdout",
       "text": [
        "\n",
        "2003_Queens.xls files has 3 rows to skip"
       ]
      },
      {
       "output_type": "stream",
       "stream": "stdout",
       "text": [
        "\n",
        "2003_SI.xls files has 3 rows to skip"
       ]
      },
      {
       "output_type": "stream",
       "stream": "stdout",
       "text": [
        "\n",
        "2004_Bronx.xls files has 3 rows to skip"
       ]
      },
      {
       "output_type": "stream",
       "stream": "stdout",
       "text": [
        "\n",
        "2004_Brooklyn.xls files has 3 rows to skip"
       ]
      },
      {
       "output_type": "stream",
       "stream": "stdout",
       "text": [
        "\n",
        "2004_Manhattan.xls files has 3 rows to skip"
       ]
      },
      {
       "output_type": "stream",
       "stream": "stdout",
       "text": [
        "\n",
        "2004_Queens.xls files has 3 rows to skip"
       ]
      },
      {
       "output_type": "stream",
       "stream": "stdout",
       "text": [
        "\n",
        "2004_SI.xls files has 3 rows to skip"
       ]
      },
      {
       "output_type": "stream",
       "stream": "stdout",
       "text": [
        "\n",
        "2005_Bronx.xls files has 3 rows to skip"
       ]
      },
      {
       "output_type": "stream",
       "stream": "stdout",
       "text": [
        "\n",
        "2005_Brooklyn.xls files has 3 rows to skip"
       ]
      },
      {
       "output_type": "stream",
       "stream": "stdout",
       "text": [
        "\n",
        "2005_Manhattan.xls files has 3 rows to skip"
       ]
      },
      {
       "output_type": "stream",
       "stream": "stdout",
       "text": [
        "\n",
        "2005_Queens.xls files has 3 rows to skip"
       ]
      },
      {
       "output_type": "stream",
       "stream": "stdout",
       "text": [
        "\n",
        "2005_SI.xls files has 3 rows to skip"
       ]
      },
      {
       "output_type": "stream",
       "stream": "stdout",
       "text": [
        "\n",
        "2006_Bronx.xls files has 3 rows to skip"
       ]
      },
      {
       "output_type": "stream",
       "stream": "stdout",
       "text": [
        "\n",
        "2006_Brooklyn.xls files has 3 rows to skip"
       ]
      },
      {
       "output_type": "stream",
       "stream": "stdout",
       "text": [
        "\n",
        "2006_Manhattan.xls files has 3 rows to skip"
       ]
      },
      {
       "output_type": "stream",
       "stream": "stdout",
       "text": [
        "\n",
        "2006_Queens.xls files has 3 rows to skip"
       ]
      },
      {
       "output_type": "stream",
       "stream": "stdout",
       "text": [
        "\n",
        "2006_SI.xls files has 3 rows to skip"
       ]
      },
      {
       "output_type": "stream",
       "stream": "stdout",
       "text": [
        "\n",
        "2007_Bronx.xls files has 3 rows to skip"
       ]
      },
      {
       "output_type": "stream",
       "stream": "stdout",
       "text": [
        "\n",
        "2007_Brooklyn.xls files has 3 rows to skip"
       ]
      },
      {
       "output_type": "stream",
       "stream": "stdout",
       "text": [
        "\n",
        "2007_Manhattan.xls files has 3 rows to skip"
       ]
      },
      {
       "output_type": "stream",
       "stream": "stdout",
       "text": [
        "\n",
        "2007_Queens.xls files has 3 rows to skip"
       ]
      },
      {
       "output_type": "stream",
       "stream": "stdout",
       "text": [
        "\n",
        "2007_SI.xls files has 3 rows to skip"
       ]
      },
      {
       "output_type": "stream",
       "stream": "stdout",
       "text": [
        "\n",
        "2008_Bronx.xls files has 3 rows to skip"
       ]
      },
      {
       "output_type": "stream",
       "stream": "stdout",
       "text": [
        "\n",
        "2008_Brooklyn.xls files has 3 rows to skip"
       ]
      },
      {
       "output_type": "stream",
       "stream": "stdout",
       "text": [
        "\n",
        "2008_Manhattan.xls files has 3 rows to skip"
       ]
      },
      {
       "output_type": "stream",
       "stream": "stdout",
       "text": [
        "\n",
        "2008_Queens.xls files has 3 rows to skip"
       ]
      },
      {
       "output_type": "stream",
       "stream": "stdout",
       "text": [
        "\n",
        "2008_SI.xls files has 3 rows to skip"
       ]
      },
      {
       "output_type": "stream",
       "stream": "stdout",
       "text": [
        "\n",
        "2009_Bronx.xls files has 3 rows to skip"
       ]
      },
      {
       "output_type": "stream",
       "stream": "stdout",
       "text": [
        "\n",
        "2009_Brooklyn.xls files has 3 rows to skip"
       ]
      },
      {
       "output_type": "stream",
       "stream": "stdout",
       "text": [
        "\n",
        "2009_Manhattan.xls files has 3 rows to skip"
       ]
      },
      {
       "output_type": "stream",
       "stream": "stdout",
       "text": [
        "\n",
        "2009_Queens.xls files has 3 rows to skip"
       ]
      },
      {
       "output_type": "stream",
       "stream": "stdout",
       "text": [
        "\n",
        "2009_SI.xls files has 3 rows to skip"
       ]
      },
      {
       "output_type": "stream",
       "stream": "stdout",
       "text": [
        "\n",
        "2010_Bronx.xls files has 3 rows to skip"
       ]
      },
      {
       "output_type": "stream",
       "stream": "stdout",
       "text": [
        "\n",
        "2010_Brooklyn.xls files has 3 rows to skip"
       ]
      },
      {
       "output_type": "stream",
       "stream": "stdout",
       "text": [
        "\n",
        "2010_Manhattan.xls files has 3 rows to skip"
       ]
      },
      {
       "output_type": "stream",
       "stream": "stdout",
       "text": [
        "\n",
        "2010_Queens.xls files has 3 rows to skip"
       ]
      },
      {
       "output_type": "stream",
       "stream": "stdout",
       "text": [
        "\n",
        "2010_SI.xls files has 3 rows to skip"
       ]
      },
      {
       "output_type": "stream",
       "stream": "stdout",
       "text": [
        "\n",
        "2011_Bronx.xls files has 4 rows to skip"
       ]
      },
      {
       "output_type": "stream",
       "stream": "stdout",
       "text": [
        "\n",
        "2011_Brooklyn.xls files has 4 rows to skip"
       ]
      },
      {
       "output_type": "stream",
       "stream": "stdout",
       "text": [
        "\n",
        "2011_Manhattan.xls files has 4 rows to skip"
       ]
      },
      {
       "output_type": "stream",
       "stream": "stdout",
       "text": [
        "\n",
        "2011_Queens.xls files has 4 rows to skip"
       ]
      },
      {
       "output_type": "stream",
       "stream": "stdout",
       "text": [
        "\n",
        "2011_SI.xls files has 4 rows to skip"
       ]
      },
      {
       "output_type": "stream",
       "stream": "stdout",
       "text": [
        "\n",
        "2012_Bronx.xls files has 4 rows to skip"
       ]
      },
      {
       "output_type": "stream",
       "stream": "stdout",
       "text": [
        "\n",
        "2012_Brooklyn.xls files has 4 rows to skip and Exception()."
       ]
      },
      {
       "output_type": "stream",
       "stream": "stdout",
       "text": [
        "\n",
        "2012_Manhattan.xls files has 4 rows to skip and Exception()."
       ]
      },
      {
       "output_type": "stream",
       "stream": "stdout",
       "text": [
        "\n",
        "2012_Queens.xls files has 4 rows to skip and Exception()."
       ]
      },
      {
       "output_type": "stream",
       "stream": "stdout",
       "text": [
        "\n",
        "2012_SI.xls files has 4 rows to skip"
       ]
      },
      {
       "output_type": "stream",
       "stream": "stdout",
       "text": [
        "\n",
        "2013_Bronx.xls files has 4 rows to skip"
       ]
      },
      {
       "output_type": "stream",
       "stream": "stdout",
       "text": [
        "\n",
        "2013_Brooklyn.xls files has 4 rows to skip and Exception()."
       ]
      },
      {
       "output_type": "stream",
       "stream": "stdout",
       "text": [
        "\n",
        "2013_Manhattan.xls files has 4 rows to skip and Exception()."
       ]
      },
      {
       "output_type": "stream",
       "stream": "stdout",
       "text": [
        "\n",
        "2013_Queens.xls files has 4 rows to skip and Exception()."
       ]
      },
      {
       "output_type": "stream",
       "stream": "stdout",
       "text": [
        "\n",
        "2013_SI.xls files has 4 rows to skip"
       ]
      },
      {
       "output_type": "stream",
       "stream": "stdout",
       "text": [
        "\n",
        "1073901\n"
       ]
      }
     ],
     "prompt_number": 104
    },
    {
     "cell_type": "code",
     "collapsed": false,
     "input": [
      "df = tables['2003_Bronx']\n",
      "\n",
      "for i in tables.keys():\n",
      "    if i != '2003_Bronx':\n",
      "        df = pd.concat([df, tables[i]])\n",
      "    else:\n",
      "        pass     "
     ],
     "language": "python",
     "metadata": {},
     "outputs": [],
     "prompt_number": 105
    },
    {
     "cell_type": "code",
     "collapsed": false,
     "input": [
      "df[:20]"
     ],
     "language": "python",
     "metadata": {},
     "outputs": [
      {
       "html": [
        "<div style=\"max-height:1000px;max-width:1500px;overflow:auto;\">\n",
        "<table border=\"1\" class=\"dataframe\">\n",
        "  <thead>\n",
        "    <tr style=\"text-align: right;\">\n",
        "      <th></th>\n",
        "      <th>borough</th>\n",
        "      <th>neighborhood</th>\n",
        "      <th>building_class_category</th>\n",
        "      <th>tax_class_at_present</th>\n",
        "      <th>block</th>\n",
        "      <th>lot</th>\n",
        "      <th>ease-ment</th>\n",
        "      <th>building_class_at_present</th>\n",
        "      <th>address</th>\n",
        "      <th>apartment_number</th>\n",
        "      <th>zip_code</th>\n",
        "      <th>residential_units</th>\n",
        "      <th>commercial_units</th>\n",
        "      <th>total_units</th>\n",
        "      <th>land_square_feet</th>\n",
        "      <th>gross_square_feet</th>\n",
        "      <th>year_built</th>\n",
        "      <th>tax_class_at_time_of_sale</th>\n",
        "      <th>building_class_at_time_of_sale</th>\n",
        "      <th>sale_price</th>\n",
        "      <th></th>\n",
        "    </tr>\n",
        "  </thead>\n",
        "  <tbody>\n",
        "    <tr>\n",
        "      <th>0 </th>\n",
        "      <td> 2</td>\n",
        "      <td> BATHGATE                 </td>\n",
        "      <td> 01  ONE FAMILY HOMES                        </td>\n",
        "      <td> 1</td>\n",
        "      <td> 2907</td>\n",
        "      <td>  23</td>\n",
        "      <td>  </td>\n",
        "      <td> A1</td>\n",
        "      <td> 4088 PARK AVENUE                         </td>\n",
        "      <td>             </td>\n",
        "      <td> 10457</td>\n",
        "      <td> 1</td>\n",
        "      <td> 0</td>\n",
        "      <td> 1</td>\n",
        "      <td> 2700</td>\n",
        "      <td> 1681</td>\n",
        "      <td> 1901</td>\n",
        "      <td> 1</td>\n",
        "      <td> A1</td>\n",
        "      <td>      0</td>\n",
        "      <td>...</td>\n",
        "    </tr>\n",
        "    <tr>\n",
        "      <th>1 </th>\n",
        "      <td> 2</td>\n",
        "      <td> BATHGATE                 </td>\n",
        "      <td> 01  ONE FAMILY HOMES                        </td>\n",
        "      <td> 1</td>\n",
        "      <td> 2917</td>\n",
        "      <td>  15</td>\n",
        "      <td>  </td>\n",
        "      <td> A1</td>\n",
        "      <td> 1848 WASHINGTON AVENUE                   </td>\n",
        "      <td>             </td>\n",
        "      <td> 10457</td>\n",
        "      <td> 1</td>\n",
        "      <td> 0</td>\n",
        "      <td> 1</td>\n",
        "      <td> 2943</td>\n",
        "      <td> 2128</td>\n",
        "      <td> 1920</td>\n",
        "      <td> 1</td>\n",
        "      <td> A1</td>\n",
        "      <td> 130000</td>\n",
        "      <td>...</td>\n",
        "    </tr>\n",
        "    <tr>\n",
        "      <th>2 </th>\n",
        "      <td> 2</td>\n",
        "      <td> BATHGATE                 </td>\n",
        "      <td> 01  ONE FAMILY HOMES                        </td>\n",
        "      <td> 1</td>\n",
        "      <td> 3028</td>\n",
        "      <td>  25</td>\n",
        "      <td>  </td>\n",
        "      <td> A5</td>\n",
        "      <td> 412 EAST 179 STREET                      </td>\n",
        "      <td>             </td>\n",
        "      <td> 10457</td>\n",
        "      <td> 1</td>\n",
        "      <td> 0</td>\n",
        "      <td> 1</td>\n",
        "      <td> 1842</td>\n",
        "      <td> 2048</td>\n",
        "      <td> 1901</td>\n",
        "      <td> 1</td>\n",
        "      <td> A1</td>\n",
        "      <td> 204000</td>\n",
        "      <td>...</td>\n",
        "    </tr>\n",
        "    <tr>\n",
        "      <th>3 </th>\n",
        "      <td> 2</td>\n",
        "      <td> BATHGATE                 </td>\n",
        "      <td> 01  ONE FAMILY HOMES                        </td>\n",
        "      <td> 1</td>\n",
        "      <td> 3030</td>\n",
        "      <td>  55</td>\n",
        "      <td>  </td>\n",
        "      <td> A5</td>\n",
        "      <td> 410 EAST 182 STREET                      </td>\n",
        "      <td>             </td>\n",
        "      <td> 10457</td>\n",
        "      <td> 1</td>\n",
        "      <td> 0</td>\n",
        "      <td> 1</td>\n",
        "      <td> 1330</td>\n",
        "      <td> 1460</td>\n",
        "      <td> 1899</td>\n",
        "      <td> 1</td>\n",
        "      <td> A1</td>\n",
        "      <td> 235000</td>\n",
        "      <td>...</td>\n",
        "    </tr>\n",
        "    <tr>\n",
        "      <th>4 </th>\n",
        "      <td> 2</td>\n",
        "      <td> BATHGATE                 </td>\n",
        "      <td> 01  ONE FAMILY HOMES                        </td>\n",
        "      <td> 1</td>\n",
        "      <td> 3035</td>\n",
        "      <td>   2</td>\n",
        "      <td>  </td>\n",
        "      <td> S1</td>\n",
        "      <td> 441 EAST 178 STREET                      </td>\n",
        "      <td>             </td>\n",
        "      <td> 10457</td>\n",
        "      <td> 1</td>\n",
        "      <td> 1</td>\n",
        "      <td> 2</td>\n",
        "      <td> 1287</td>\n",
        "      <td> 2378</td>\n",
        "      <td> 1899</td>\n",
        "      <td> 1</td>\n",
        "      <td> S1</td>\n",
        "      <td> 125500</td>\n",
        "      <td>...</td>\n",
        "    </tr>\n",
        "    <tr>\n",
        "      <th>5 </th>\n",
        "      <td> 2</td>\n",
        "      <td> BATHGATE                 </td>\n",
        "      <td> 01  ONE FAMILY HOMES                        </td>\n",
        "      <td> 1</td>\n",
        "      <td> 3035</td>\n",
        "      <td>  52</td>\n",
        "      <td>  </td>\n",
        "      <td> A1</td>\n",
        "      <td> 461 EAST 178 STREET                      </td>\n",
        "      <td>             </td>\n",
        "      <td> 10457</td>\n",
        "      <td> 1</td>\n",
        "      <td> 0</td>\n",
        "      <td> 1</td>\n",
        "      <td> 1782</td>\n",
        "      <td> 1548</td>\n",
        "      <td> 1899</td>\n",
        "      <td> 1</td>\n",
        "      <td> A1</td>\n",
        "      <td> 215000</td>\n",
        "      <td>...</td>\n",
        "    </tr>\n",
        "    <tr>\n",
        "      <th>6 </th>\n",
        "      <td> 2</td>\n",
        "      <td> BATHGATE                 </td>\n",
        "      <td> 01  ONE FAMILY HOMES                        </td>\n",
        "      <td> 1</td>\n",
        "      <td> 3045</td>\n",
        "      <td>  15</td>\n",
        "      <td>  </td>\n",
        "      <td> A1</td>\n",
        "      <td> 2058 BATHGATE AVENUE                     </td>\n",
        "      <td>             </td>\n",
        "      <td> 10457</td>\n",
        "      <td> 1</td>\n",
        "      <td> 0</td>\n",
        "      <td> 1</td>\n",
        "      <td> 1173</td>\n",
        "      <td> 1516</td>\n",
        "      <td> 1910</td>\n",
        "      <td> 1</td>\n",
        "      <td> A1</td>\n",
        "      <td>      0</td>\n",
        "      <td>...</td>\n",
        "    </tr>\n",
        "    <tr>\n",
        "      <th>7 </th>\n",
        "      <td> 2</td>\n",
        "      <td> BATHGATE                 </td>\n",
        "      <td> 01  ONE FAMILY HOMES                        </td>\n",
        "      <td> 1</td>\n",
        "      <td> 3048</td>\n",
        "      <td>  19</td>\n",
        "      <td>  </td>\n",
        "      <td> A5</td>\n",
        "      <td> 2186 BATHGATE AVENUE                     </td>\n",
        "      <td>             </td>\n",
        "      <td> 10457</td>\n",
        "      <td> 1</td>\n",
        "      <td> 0</td>\n",
        "      <td> 1</td>\n",
        "      <td> 1768</td>\n",
        "      <td> 1188</td>\n",
        "      <td> 1901</td>\n",
        "      <td> 1</td>\n",
        "      <td> A1</td>\n",
        "      <td> 245000</td>\n",
        "      <td>...</td>\n",
        "    </tr>\n",
        "    <tr>\n",
        "      <th>8 </th>\n",
        "      <td> 2</td>\n",
        "      <td> BATHGATE                 </td>\n",
        "      <td> 01  ONE FAMILY HOMES                        </td>\n",
        "      <td> 1</td>\n",
        "      <td> 3050</td>\n",
        "      <td>  91</td>\n",
        "      <td>  </td>\n",
        "      <td> A9</td>\n",
        "      <td> 503 EAST 182 STREET                      </td>\n",
        "      <td>             </td>\n",
        "      <td> 10457</td>\n",
        "      <td> 1</td>\n",
        "      <td> 0</td>\n",
        "      <td> 1</td>\n",
        "      <td> 1960</td>\n",
        "      <td> 1705</td>\n",
        "      <td> 1901</td>\n",
        "      <td> 1</td>\n",
        "      <td> A9</td>\n",
        "      <td>    500</td>\n",
        "      <td>...</td>\n",
        "    </tr>\n",
        "    <tr>\n",
        "      <th>9 </th>\n",
        "      <td> 2</td>\n",
        "      <td> BATHGATE                 </td>\n",
        "      <td> 01  ONE FAMILY HOMES                        </td>\n",
        "      <td> 1</td>\n",
        "      <td> 3053</td>\n",
        "      <td>  87</td>\n",
        "      <td>  </td>\n",
        "      <td> S0</td>\n",
        "      <td> 2368 WASHINGTON AVENUE                   </td>\n",
        "      <td>             </td>\n",
        "      <td> 10458</td>\n",
        "      <td> 1</td>\n",
        "      <td> 2</td>\n",
        "      <td> 3</td>\n",
        "      <td> 1911</td>\n",
        "      <td> 4080</td>\n",
        "      <td> 1931</td>\n",
        "      <td> 1</td>\n",
        "      <td> S0</td>\n",
        "      <td> 375000</td>\n",
        "      <td>...</td>\n",
        "    </tr>\n",
        "    <tr>\n",
        "      <th>10</th>\n",
        "      <td> 2</td>\n",
        "      <td> BATHGATE                 </td>\n",
        "      <td> 01  ONE FAMILY HOMES                        </td>\n",
        "      <td> 1</td>\n",
        "      <td> 3053</td>\n",
        "      <td> 108</td>\n",
        "      <td>  </td>\n",
        "      <td> A9</td>\n",
        "      <td> 2317 BASSFORD AVENUE                     </td>\n",
        "      <td>             </td>\n",
        "      <td> 10458</td>\n",
        "      <td> 1</td>\n",
        "      <td> 0</td>\n",
        "      <td> 1</td>\n",
        "      <td>  925</td>\n",
        "      <td> 1188</td>\n",
        "      <td> 1901</td>\n",
        "      <td> 1</td>\n",
        "      <td> A9</td>\n",
        "      <td>      0</td>\n",
        "      <td>...</td>\n",
        "    </tr>\n",
        "    <tr>\n",
        "      <th>11</th>\n",
        "      <td> 2</td>\n",
        "      <td> BATHGATE                 </td>\n",
        "      <td> 02  TWO FAMILY HOMES                        </td>\n",
        "      <td> 1</td>\n",
        "      <td> 2908</td>\n",
        "      <td>  35</td>\n",
        "      <td>  </td>\n",
        "      <td> B2</td>\n",
        "      <td> 1833 WASHINGTON AVENUE                   </td>\n",
        "      <td>             </td>\n",
        "      <td> 10457</td>\n",
        "      <td> 2</td>\n",
        "      <td> 0</td>\n",
        "      <td> 2</td>\n",
        "      <td> 2800</td>\n",
        "      <td> 1360</td>\n",
        "      <td> 1931</td>\n",
        "      <td> 1</td>\n",
        "      <td> B2</td>\n",
        "      <td> 300000</td>\n",
        "      <td>...</td>\n",
        "    </tr>\n",
        "    <tr>\n",
        "      <th>12</th>\n",
        "      <td> 2</td>\n",
        "      <td> BATHGATE                 </td>\n",
        "      <td> 02  TWO FAMILY HOMES                        </td>\n",
        "      <td> 1</td>\n",
        "      <td> 2912</td>\n",
        "      <td> 113</td>\n",
        "      <td>  </td>\n",
        "      <td> B1</td>\n",
        "      <td> 1530 WASHINGTON AVENUE                   </td>\n",
        "      <td>             </td>\n",
        "      <td> 10457</td>\n",
        "      <td> 2</td>\n",
        "      <td> 0</td>\n",
        "      <td> 2</td>\n",
        "      <td> 2033</td>\n",
        "      <td> 2400</td>\n",
        "      <td> 1993</td>\n",
        "      <td> 1</td>\n",
        "      <td> B1</td>\n",
        "      <td>      0</td>\n",
        "      <td>...</td>\n",
        "    </tr>\n",
        "    <tr>\n",
        "      <th>13</th>\n",
        "      <td> 2</td>\n",
        "      <td> BATHGATE                 </td>\n",
        "      <td> 02  TWO FAMILY HOMES                        </td>\n",
        "      <td> 1</td>\n",
        "      <td> 2912</td>\n",
        "      <td> 114</td>\n",
        "      <td>  </td>\n",
        "      <td> B1</td>\n",
        "      <td> 1532 WASHINGTON AVENUE                   </td>\n",
        "      <td>             </td>\n",
        "      <td> 10457</td>\n",
        "      <td> 2</td>\n",
        "      <td> 0</td>\n",
        "      <td> 2</td>\n",
        "      <td> 2000</td>\n",
        "      <td> 2400</td>\n",
        "      <td> 1993</td>\n",
        "      <td> 1</td>\n",
        "      <td> B1</td>\n",
        "      <td>      0</td>\n",
        "      <td>...</td>\n",
        "    </tr>\n",
        "    <tr>\n",
        "      <th>14</th>\n",
        "      <td> 2</td>\n",
        "      <td> BATHGATE                 </td>\n",
        "      <td> 02  TWO FAMILY HOMES                        </td>\n",
        "      <td> 1</td>\n",
        "      <td> 2912</td>\n",
        "      <td> 117</td>\n",
        "      <td>  </td>\n",
        "      <td> B1</td>\n",
        "      <td> 1538 WASHINGTON AVENUE                   </td>\n",
        "      <td>             </td>\n",
        "      <td> 10457</td>\n",
        "      <td> 2</td>\n",
        "      <td> 0</td>\n",
        "      <td> 2</td>\n",
        "      <td> 2000</td>\n",
        "      <td> 2400</td>\n",
        "      <td> 1993</td>\n",
        "      <td> 1</td>\n",
        "      <td> B1</td>\n",
        "      <td> 238000</td>\n",
        "      <td>...</td>\n",
        "    </tr>\n",
        "    <tr>\n",
        "      <th>15</th>\n",
        "      <td> 2</td>\n",
        "      <td> BATHGATE                 </td>\n",
        "      <td> 02  TWO FAMILY HOMES                        </td>\n",
        "      <td> 1</td>\n",
        "      <td> 2912</td>\n",
        "      <td> 144</td>\n",
        "      <td>  </td>\n",
        "      <td> B1</td>\n",
        "      <td> 3813 3 AVENUE                            </td>\n",
        "      <td>             </td>\n",
        "      <td> 10457</td>\n",
        "      <td> 2</td>\n",
        "      <td> 0</td>\n",
        "      <td> 2</td>\n",
        "      <td> 2000</td>\n",
        "      <td> 2400</td>\n",
        "      <td> 1993</td>\n",
        "      <td> 1</td>\n",
        "      <td> B1</td>\n",
        "      <td> 191400</td>\n",
        "      <td>...</td>\n",
        "    </tr>\n",
        "    <tr>\n",
        "      <th>16</th>\n",
        "      <td> 2</td>\n",
        "      <td> BATHGATE                 </td>\n",
        "      <td> 02  TWO FAMILY HOMES                        </td>\n",
        "      <td> 1</td>\n",
        "      <td> 2927</td>\n",
        "      <td> 129</td>\n",
        "      <td>  </td>\n",
        "      <td> B1</td>\n",
        "      <td> 1469 CROTONA PLACE                       </td>\n",
        "      <td>             </td>\n",
        "      <td> 10456</td>\n",
        "      <td> 2</td>\n",
        "      <td> 0</td>\n",
        "      <td> 2</td>\n",
        "      <td> 1900</td>\n",
        "      <td> 2394</td>\n",
        "      <td> 1994</td>\n",
        "      <td> 1</td>\n",
        "      <td> B1</td>\n",
        "      <td>      0</td>\n",
        "      <td>...</td>\n",
        "    </tr>\n",
        "    <tr>\n",
        "      <th>17</th>\n",
        "      <td> 2</td>\n",
        "      <td> BATHGATE                 </td>\n",
        "      <td> 02  TWO FAMILY HOMES                        </td>\n",
        "      <td> 1</td>\n",
        "      <td> 2927</td>\n",
        "      <td> 130</td>\n",
        "      <td>  </td>\n",
        "      <td> B1</td>\n",
        "      <td> 1467 CROTONA PLACE                       </td>\n",
        "      <td>             </td>\n",
        "      <td> 10456</td>\n",
        "      <td> 2</td>\n",
        "      <td> 0</td>\n",
        "      <td> 2</td>\n",
        "      <td> 1900</td>\n",
        "      <td> 2394</td>\n",
        "      <td> 1994</td>\n",
        "      <td> 1</td>\n",
        "      <td> B1</td>\n",
        "      <td> 161065</td>\n",
        "      <td>...</td>\n",
        "    </tr>\n",
        "    <tr>\n",
        "      <th>18</th>\n",
        "      <td> 2</td>\n",
        "      <td> BATHGATE                 </td>\n",
        "      <td> 02  TWO FAMILY HOMES                        </td>\n",
        "      <td> 1</td>\n",
        "      <td> 2929</td>\n",
        "      <td> 135</td>\n",
        "      <td>  </td>\n",
        "      <td> B1</td>\n",
        "      <td> 545 CLAREMONT PARKWAY                    </td>\n",
        "      <td>             </td>\n",
        "      <td> 10457</td>\n",
        "      <td> 2</td>\n",
        "      <td> 0</td>\n",
        "      <td> 2</td>\n",
        "      <td> 2332</td>\n",
        "      <td> 2394</td>\n",
        "      <td> 1995</td>\n",
        "      <td> 1</td>\n",
        "      <td> B1</td>\n",
        "      <td> 280000</td>\n",
        "      <td>...</td>\n",
        "    </tr>\n",
        "    <tr>\n",
        "      <th>19</th>\n",
        "      <td> 2</td>\n",
        "      <td> BATHGATE                 </td>\n",
        "      <td> 02  TWO FAMILY HOMES                        </td>\n",
        "      <td> 1</td>\n",
        "      <td> 3029</td>\n",
        "      <td>  33</td>\n",
        "      <td>  </td>\n",
        "      <td> B2</td>\n",
        "      <td> 412 EAST 180 STREET                      </td>\n",
        "      <td>             </td>\n",
        "      <td> 10457</td>\n",
        "      <td> 2</td>\n",
        "      <td> 0</td>\n",
        "      <td> 2</td>\n",
        "      <td> 2046</td>\n",
        "      <td> 2112</td>\n",
        "      <td> 1899</td>\n",
        "      <td> 1</td>\n",
        "      <td> B2</td>\n",
        "      <td> 290000</td>\n",
        "      <td>...</td>\n",
        "    </tr>\n",
        "  </tbody>\n",
        "</table>\n",
        "<p>20 rows \u00d7 21 columns</p>\n",
        "</div>"
       ],
       "metadata": {},
       "output_type": "pyout",
       "prompt_number": 109,
       "text": [
        "    borough               neighborhood  \\\n",
        "0         2  BATHGATE                    \n",
        "1         2  BATHGATE                    \n",
        "2         2  BATHGATE                    \n",
        "3         2  BATHGATE                    \n",
        "4         2  BATHGATE                    \n",
        "5         2  BATHGATE                    \n",
        "6         2  BATHGATE                    \n",
        "7         2  BATHGATE                    \n",
        "8         2  BATHGATE                    \n",
        "9         2  BATHGATE                    \n",
        "10        2  BATHGATE                    \n",
        "11        2  BATHGATE                    \n",
        "12        2  BATHGATE                    \n",
        "13        2  BATHGATE                    \n",
        "14        2  BATHGATE                    \n",
        "15        2  BATHGATE                    \n",
        "16        2  BATHGATE                    \n",
        "17        2  BATHGATE                    \n",
        "18        2  BATHGATE                    \n",
        "19        2  BATHGATE                    \n",
        "\n",
        "                         building_class_category tax_class_at_present  block  \\\n",
        "0   01  ONE FAMILY HOMES                                            1   2907   \n",
        "1   01  ONE FAMILY HOMES                                            1   2917   \n",
        "2   01  ONE FAMILY HOMES                                            1   3028   \n",
        "3   01  ONE FAMILY HOMES                                            1   3030   \n",
        "4   01  ONE FAMILY HOMES                                            1   3035   \n",
        "5   01  ONE FAMILY HOMES                                            1   3035   \n",
        "6   01  ONE FAMILY HOMES                                            1   3045   \n",
        "7   01  ONE FAMILY HOMES                                            1   3048   \n",
        "8   01  ONE FAMILY HOMES                                            1   3050   \n",
        "9   01  ONE FAMILY HOMES                                            1   3053   \n",
        "10  01  ONE FAMILY HOMES                                            1   3053   \n",
        "11  02  TWO FAMILY HOMES                                            1   2908   \n",
        "12  02  TWO FAMILY HOMES                                            1   2912   \n",
        "13  02  TWO FAMILY HOMES                                            1   2912   \n",
        "14  02  TWO FAMILY HOMES                                            1   2912   \n",
        "15  02  TWO FAMILY HOMES                                            1   2912   \n",
        "16  02  TWO FAMILY HOMES                                            1   2927   \n",
        "17  02  TWO FAMILY HOMES                                            1   2927   \n",
        "18  02  TWO FAMILY HOMES                                            1   2929   \n",
        "19  02  TWO FAMILY HOMES                                            1   3029   \n",
        "\n",
        "    lot ease-ment building_class_at_present  \\\n",
        "0    23                                  A1   \n",
        "1    15                                  A1   \n",
        "2    25                                  A5   \n",
        "3    55                                  A5   \n",
        "4     2                                  S1   \n",
        "5    52                                  A1   \n",
        "6    15                                  A1   \n",
        "7    19                                  A5   \n",
        "8    91                                  A9   \n",
        "9    87                                  S0   \n",
        "10  108                                  A9   \n",
        "11   35                                  B2   \n",
        "12  113                                  B1   \n",
        "13  114                                  B1   \n",
        "14  117                                  B1   \n",
        "15  144                                  B1   \n",
        "16  129                                  B1   \n",
        "17  130                                  B1   \n",
        "18  135                                  B1   \n",
        "19   33                                  B2   \n",
        "\n",
        "                                      address apartment_number  zip_code  \\\n",
        "0   4088 PARK AVENUE                                               10457   \n",
        "1   1848 WASHINGTON AVENUE                                         10457   \n",
        "2   412 EAST 179 STREET                                            10457   \n",
        "3   410 EAST 182 STREET                                            10457   \n",
        "4   441 EAST 178 STREET                                            10457   \n",
        "5   461 EAST 178 STREET                                            10457   \n",
        "6   2058 BATHGATE AVENUE                                           10457   \n",
        "7   2186 BATHGATE AVENUE                                           10457   \n",
        "8   503 EAST 182 STREET                                            10457   \n",
        "9   2368 WASHINGTON AVENUE                                         10458   \n",
        "10  2317 BASSFORD AVENUE                                           10458   \n",
        "11  1833 WASHINGTON AVENUE                                         10457   \n",
        "12  1530 WASHINGTON AVENUE                                         10457   \n",
        "13  1532 WASHINGTON AVENUE                                         10457   \n",
        "14  1538 WASHINGTON AVENUE                                         10457   \n",
        "15  3813 3 AVENUE                                                  10457   \n",
        "16  1469 CROTONA PLACE                                             10456   \n",
        "17  1467 CROTONA PLACE                                             10456   \n",
        "18  545 CLAREMONT PARKWAY                                          10457   \n",
        "19  412 EAST 180 STREET                                            10457   \n",
        "\n",
        "    residential_units  commercial_units  total_units  land_square_feet  \\\n",
        "0                   1                 0            1              2700   \n",
        "1                   1                 0            1              2943   \n",
        "2                   1                 0            1              1842   \n",
        "3                   1                 0            1              1330   \n",
        "4                   1                 1            2              1287   \n",
        "5                   1                 0            1              1782   \n",
        "6                   1                 0            1              1173   \n",
        "7                   1                 0            1              1768   \n",
        "8                   1                 0            1              1960   \n",
        "9                   1                 2            3              1911   \n",
        "10                  1                 0            1               925   \n",
        "11                  2                 0            2              2800   \n",
        "12                  2                 0            2              2033   \n",
        "13                  2                 0            2              2000   \n",
        "14                  2                 0            2              2000   \n",
        "15                  2                 0            2              2000   \n",
        "16                  2                 0            2              1900   \n",
        "17                  2                 0            2              1900   \n",
        "18                  2                 0            2              2332   \n",
        "19                  2                 0            2              2046   \n",
        "\n",
        "    gross_square_feet  year_built  tax_class_at_time_of_sale  \\\n",
        "0                1681        1901                          1   \n",
        "1                2128        1920                          1   \n",
        "2                2048        1901                          1   \n",
        "3                1460        1899                          1   \n",
        "4                2378        1899                          1   \n",
        "5                1548        1899                          1   \n",
        "6                1516        1910                          1   \n",
        "7                1188        1901                          1   \n",
        "8                1705        1901                          1   \n",
        "9                4080        1931                          1   \n",
        "10               1188        1901                          1   \n",
        "11               1360        1931                          1   \n",
        "12               2400        1993                          1   \n",
        "13               2400        1993                          1   \n",
        "14               2400        1993                          1   \n",
        "15               2400        1993                          1   \n",
        "16               2394        1994                          1   \n",
        "17               2394        1994                          1   \n",
        "18               2394        1995                          1   \n",
        "19               2112        1899                          1   \n",
        "\n",
        "   building_class_at_time_of_sale  sale_price      \n",
        "0                              A1           0 ...  \n",
        "1                              A1      130000 ...  \n",
        "2                              A1      204000 ...  \n",
        "3                              A1      235000 ...  \n",
        "4                              S1      125500 ...  \n",
        "5                              A1      215000 ...  \n",
        "6                              A1           0 ...  \n",
        "7                              A1      245000 ...  \n",
        "8                              A9         500 ...  \n",
        "9                              S0      375000 ...  \n",
        "10                             A9           0 ...  \n",
        "11                             B2      300000 ...  \n",
        "12                             B1           0 ...  \n",
        "13                             B1           0 ...  \n",
        "14                             B1      238000 ...  \n",
        "15                             B1      191400 ...  \n",
        "16                             B1           0 ...  \n",
        "17                             B1      161065 ...  \n",
        "18                             B1      280000 ...  \n",
        "19                             B2      290000 ...  \n",
        "\n",
        "[20 rows x 21 columns]"
       ]
      }
     ],
     "prompt_number": 109
    },
    {
     "cell_type": "code",
     "collapsed": false,
     "input": [
      "print \"1. Manhattan %s\" % len(tables['2003_Manhattan']) \n",
      "print \"2. Bronx %s\" % len(tables['2003_Bronx']) \n",
      "print \"3. Brooklyn %s\" % len(tables['2003_Brooklyn'])\n",
      "print \"4. Queens %s\" % len(tables['2003_Queens'])\n",
      "print \"5. SI %s\" % len(tables['2003_SI'])"
     ],
     "language": "python",
     "metadata": {},
     "outputs": [
      {
       "output_type": "stream",
       "stream": "stdout",
       "text": [
        "1. Manhattan 22210\n",
        "2. Bronx 10664\n",
        "3. Brooklyn 33706\n",
        "4. Queens 39177\n",
        "5. SI 12671\n"
       ]
      }
     ],
     "prompt_number": 330
    },
    {
     "cell_type": "code",
     "collapsed": false,
     "input": [
      "tables.keys()"
     ],
     "language": "python",
     "metadata": {},
     "outputs": [
      {
       "metadata": {},
       "output_type": "pyout",
       "prompt_number": 630,
       "text": [
        "['2003_SI', '2003_Manhattan', '2003_Brooklyn', '2003_Queens', '2003_Bronx']"
       ]
      }
     ],
     "prompt_number": 630
    },
    {
     "cell_type": "code",
     "collapsed": false,
     "input": [
      "len(tables['2013_Brooklyn'])"
     ],
     "language": "python",
     "metadata": {},
     "outputs": [
      {
       "metadata": {},
       "output_type": "pyout",
       "prompt_number": 591,
       "text": [
        "24842"
       ]
      }
     ],
     "prompt_number": 591
    },
    {
     "cell_type": "code",
     "collapsed": false,
     "input": [
      "tables = {}\n",
      "for i in os.listdir(\"/Users/krluna/python/twosigma/real_estate/\"):\n",
      "    loc = \"/Users/krluna/python/twosigma/real_estate/\" + i\n",
      "    wb = xlrd.open_workbook(loc)\n",
      "    sh = wb.sheet_by_name(wb.sheet_names()[0])\n",
      "    new_csv = \"/Users/krluna/python/twosigma/real_estate/\" + i[:-4] + '.csv'\n",
      "    your_csv_file = open(new_csv, 'wb')\n",
      "    wr = csv.writer(your_csv_file, quoting=csv.QUOTE_ALL)\n",
      "\n",
      "    for rownum in xrange(sh.nrows):\n",
      "            wr.writerow(sh.row_values(rownum))\n",
      "\n",
      "    your_csv_file.close()\n",
      "    \n",
      "    table = pd.read_csv(new_csv, skiprows = 4) #, names = colNames)\n",
      "    table['SALE DATE\\n'] = table['SALE DATE\\n'].apply(xldate_to_datetime) #convert from excel date value to date time \n",
      "    table.columns = colNames\n",
      "    tables[str(i[:-4])] = table\n"
     ],
     "language": "python",
     "metadata": {},
     "outputs": [],
     "prompt_number": 99
    },
    {
     "cell_type": "code",
     "collapsed": false,
     "input": [
      "colNames\n",
      "#\n",
      "#tables['2013_Brooklyn'].ix[:,20]\n",
      "# #tables['2012_Queens']\n",
      "\n",
      "\n",
      "# # len(df)\n",
      "\n",
      "# # # temp = datetime.datetime(1900, 1, 1)\n",
      "\n",
      "# # # for i in pd.read_csv('2013_Brooklyn.csv', skiprows = 4)[u'SALE DATE\\n']:\n",
      "# # #      delta = datetime.timedelta(days=i)\n",
      "# # #      print temp + delta\n",
      "\n",
      "# # # pd.read_csv('2013_Brooklyn.csv', skiprows = 4)\n",
      "# # # pd.read_csv('2013_Brooklyn.csv', skiprows = 5, names = colNames)[:5]\n",
      "\n",
      "def xldate_to_datetime(xldate):\n",
      "    temp = datetime.datetime(1900, 1, 1)\n",
      "    delta = datetime.timedelta(days=xldate)\n",
      "    return temp + delta - datetime.timedelta(days = 2)\n",
      "\n",
      "test = pd.read_csv('real_estate/2012_Bronx.csv', skiprows = 4)#, names = colNames)\n",
      "#test['sale_date'] = test['sale_date'].apply(xldate_to_datetime)\n",
      "# test.head()\n",
      "test.dtypes"
     ],
     "language": "python",
     "metadata": {},
     "outputs": [
      {
       "metadata": {},
       "output_type": "pyout",
       "prompt_number": 91,
       "text": [
        "BOROUGH\\n                           float64\n",
        "NEIGHBORHOOD\\n                       object\n",
        "BUILDING CLASS CATEGORY\\n            object\n",
        "TAX CLASS AT PRESENT\\n               object\n",
        "BLOCK\\n                             float64\n",
        "LOT\\n                               float64\n",
        "EASE-MENT\\n                          object\n",
        "BUILDING CLASS AT PRESENT\\n          object\n",
        "ADDRESS\\n                            object\n",
        "APARTMENT NUMBER\\n                   object\n",
        "ZIP CODE\\n                          float64\n",
        "RESIDENTIAL UNITS\\n                 float64\n",
        "COMMERCIAL UNITS\\n                  float64\n",
        "TOTAL UNITS\\n                       float64\n",
        "LAND SQUARE FEET\\n                  float64\n",
        "GROSS SQUARE FEET\\n                 float64\n",
        "YEAR BUILT\\n                        float64\n",
        "TAX CLASS AT TIME OF SALE\\n         float64\n",
        "BUILDING CLASS AT TIME OF SALE\\n     object\n",
        "SALE PRICE\\n                        float64\n",
        "SALE DATE\\n                         float64\n",
        "dtype: object"
       ]
      }
     ],
     "prompt_number": 91
    },
    {
     "cell_type": "code",
     "collapsed": false,
     "input": [
      "len(tables.keys())\n",
      "# xldate_to_datetime(40909)\n",
      "# test['sale_date'].\n",
      "# test['SALE DATE\\n'] = test['SALE DATE\\n'].apply(xldate_to_datetime)\n",
      "# test.columns = colNames\n",
      "\n",
      "# apply(xldate_to_datetime)\n",
      "# test.ix[:,10:]"
     ],
     "language": "python",
     "metadata": {},
     "outputs": [
      {
       "metadata": {},
       "output_type": "pyout",
       "prompt_number": 101,
       "text": [
        "10"
       ]
      }
     ],
     "prompt_number": 101
    },
    {
     "cell_type": "code",
     "collapsed": false,
     "input": [
      "colNames = ['borough', 'neighborhood', 'building_class_category', 'tax_class_at_present', 'block', 'lot', 'ease-ment', \\\n",
      "'building_class_at_present', 'address', 'apartment_number', 'zip_code', 'residential_units', 'commercial_units', 'total_units',\\\n",
      " 'land_square_feet', 'gross_square_feet', 'year_built', 'tax_class_at_time_of_sale', 'building_class_at_time_of_sale', \\\n",
      "    'sale_price', 'sale_date']\n",
      "len(colNames)"
     ],
     "language": "python",
     "metadata": {},
     "outputs": [
      {
       "metadata": {},
       "output_type": "pyout",
       "prompt_number": 458,
       "text": [
        "21"
       ]
      }
     ],
     "prompt_number": 458
    },
    {
     "cell_type": "code",
     "collapsed": false,
     "input": [],
     "language": "python",
     "metadata": {},
     "outputs": [],
     "prompt_number": 44
    },
    {
     "cell_type": "code",
     "collapsed": false,
     "input": [
      "temp = datetime.datetime(1900, 1, 1)"
     ],
     "language": "python",
     "metadata": {},
     "outputs": [],
     "prompt_number": 511
    },
    {
     "cell_type": "code",
     "collapsed": false,
     "input": [
      "xldate_to_datetime(40909)"
     ],
     "language": "python",
     "metadata": {},
     "outputs": [
      {
       "metadata": {},
       "output_type": "pyout",
       "prompt_number": 55,
       "text": [
        "datetime.datetime(2012, 1, 1, 0, 0)"
       ]
      }
     ],
     "prompt_number": 55
    },
    {
     "cell_type": "code",
     "collapsed": false,
     "input": [
      "df.head().ix[:,20:].dtypes"
     ],
     "language": "python",
     "metadata": {},
     "outputs": [
      {
       "metadata": {},
       "output_type": "pyout",
       "prompt_number": 416,
       "text": [
        "SALE DATE    datetime64[ns]\n",
        "dtype: object"
       ]
      }
     ],
     "prompt_number": 416
    },
    {
     "cell_type": "code",
     "collapsed": false,
     "input": [],
     "language": "python",
     "metadata": {},
     "outputs": [],
     "prompt_number": 54
    },
    {
     "cell_type": "code",
     "collapsed": false,
     "input": [],
     "language": "python",
     "metadata": {},
     "outputs": [],
     "prompt_number": 54
    },
    {
     "cell_type": "code",
     "collapsed": false,
     "input": [],
     "language": "python",
     "metadata": {},
     "outputs": [],
     "prompt_number": 54
    },
    {
     "cell_type": "code",
     "collapsed": false,
     "input": [],
     "language": "python",
     "metadata": {},
     "outputs": [],
     "prompt_number": 54
    },
    {
     "cell_type": "code",
     "collapsed": false,
     "input": [],
     "language": "python",
     "metadata": {},
     "outputs": [],
     "prompt_number": 54
    },
    {
     "cell_type": "code",
     "collapsed": false,
     "input": [],
     "language": "python",
     "metadata": {},
     "outputs": [],
     "prompt_number": 54
    },
    {
     "cell_type": "code",
     "collapsed": false,
     "input": [
      "ls 'real_estate/'"
     ],
     "language": "python",
     "metadata": {},
     "outputs": [
      {
       "output_type": "stream",
       "stream": "stdout",
       "text": [
        "2012_Bronx.csv      2012_Brooklyn.xls   2012_Queens.xls     2013_Bronx.xls      2013_Manhattan.xls  2013_SI.xls\r\n",
        "2012_Bronx.xls      2012_Manhattan.xls  2012_SI.xls         2013_Brooklyn.xls   2013_Queens.xls\r\n"
       ]
      }
     ],
     "prompt_number": 50
    },
    {
     "cell_type": "code",
     "collapsed": false,
     "input": [],
     "language": "python",
     "metadata": {},
     "outputs": []
    }
   ],
   "metadata": {}
  }
 ]
}